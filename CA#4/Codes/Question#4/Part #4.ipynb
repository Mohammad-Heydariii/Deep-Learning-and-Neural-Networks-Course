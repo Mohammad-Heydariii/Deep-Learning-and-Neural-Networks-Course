{
 "cells": [
  {
   "cell_type": "code",
   "execution_count": 78,
   "metadata": {},
   "outputs": [],
   "source": [
    "import numpy as np\n",
    "import matplotlib.pyplot as plt"
   ]
  },
  {
   "cell_type": "code",
   "execution_count": 79,
   "metadata": {},
   "outputs": [],
   "source": [
    "def activation_function(x):\n",
    "    result=np.zeros(len(x))\n",
    "    for i in range(len(x)):\n",
    "        \n",
    "        if x[i] >=0 and x[i]<2 :\n",
    "            result[i]=x[i];\n",
    "        if x[i]>=2:\n",
    "            result[i]=2\n",
    "        if x[i]<0:\n",
    "            result[i]=0\n",
    "    return result"
   ]
  },
  {
   "cell_type": "code",
   "execution_count": 80,
   "metadata": {},
   "outputs": [],
   "source": [
    "def weights(exemplar1,exemplar2,exemplar3,exemplar4):\n",
    "    result=np.zeros((len(exemplar1),4))\n",
    "    result[:,0]=exemplar1/2\n",
    "    result[:,1]=exemplar2/2\n",
    "    result[:,2]=exemplar3/2\n",
    "    result[:,3]=exemplar4/2\n",
    "    return result"
   ]
  },
  {
   "cell_type": "code",
   "execution_count": 81,
   "metadata": {},
   "outputs": [],
   "source": [
    "def weights_maxnet(epsilon,x):\n",
    "    result=np.ones((len(x),len(x)))*(-epsilon)\n",
    "    for i in range(len(x)):\n",
    "        result[i,i]=1\n",
    "    return result"
   ]
  },
  {
   "cell_type": "code",
   "execution_count": 82,
   "metadata": {},
   "outputs": [],
   "source": [
    "def biases(size):\n",
    "    result=np.zeros(4)\n",
    "    result[0:4]=size/2\n",
    "    return result"
   ]
  },
  {
   "cell_type": "code",
   "execution_count": 83,
   "metadata": {},
   "outputs": [],
   "source": [
    "def product(w,x):\n",
    "    res=np.zeros(len(x))\n",
    "    for i in range(len(w)):\n",
    "        res[i]=np.dot(w[i,:],x)\n",
    "    return res"
   ]
  },
  {
   "cell_type": "code",
   "execution_count": 84,
   "metadata": {},
   "outputs": [],
   "source": [
    "def max_net(x,epsilon):\n",
    "    while(1):\n",
    "        cnt=0\n",
    "        w=weights_maxnet(epsilon,x)\n",
    "        xnew=product(w,x)\n",
    "        res=activation_function(xnew)\n",
    "        for i in range(len(res)):\n",
    "            if res[i]>0:\n",
    "                cnt=cnt+1\n",
    "                index=i+1\n",
    "        if cnt==1:\n",
    "            break\n",
    "        print(\"updating vector:\",res)\n",
    "        x=res\n",
    "    return res,index"
   ]
  },
  {
   "cell_type": "code",
   "execution_count": 85,
   "metadata": {},
   "outputs": [],
   "source": [
    "def hamming_distance(vector1,vector2):\n",
    "    result=sum(abs(vector1-vector2))/2\n",
    "    result=result.astype(int)\n",
    "    return result"
   ]
  },
  {
   "cell_type": "code",
   "execution_count": 86,
   "metadata": {},
   "outputs": [],
   "source": [
    "exemplar1=np.array([1,-1,1,-1,1,-1,-1,1,-1,1,-1,1])\n",
    "exemplar2=np.array([1,-1,1,-1,1,-1,-1,1,-1,-1,1,-1])\n",
    "exemplar3=np.array([-1,1,-1,1,-1,1,1,1,1,1,-1,1])\n",
    "exemplar4=np.array([-1,1,1,1,-1,-1,1,-1,-1,-1,1,1])"
   ]
  },
  {
   "cell_type": "code",
   "execution_count": 87,
   "metadata": {},
   "outputs": [
    {
     "data": {
      "image/png": "[encoded data removed]",
      "text/plain": [
       "<Figure size 432x288 with 1 Axes>"
      ]
     },
     "metadata": {
      "needs_background": "light"
     },
     "output_type": "display_data"
    }
   ],
   "source": [
    "exemplar1_rep=exemplar1.reshape((4,3))\n",
    "plt.imshow(exemplar1_rep)\n",
    "plt.grid()"
   ]
  },
  {
   "cell_type": "code",
   "execution_count": 88,
   "metadata": {},
   "outputs": [
    {
     "data": {
      "image/png": "[encoded data removed]",
      "text/plain": [
       "<Figure size 432x288 with 1 Axes>"
      ]
     },
     "metadata": {
      "needs_background": "light"
     },
     "output_type": "display_data"
    }
   ],
   "source": [
    "exemplar2_rep=exemplar2.reshape((4,3))\n",
    "plt.imshow(exemplar2_rep)\n",
    "plt.grid()"
   ]
  },
  {
   "cell_type": "code",
   "execution_count": 89,
   "metadata": {},
   "outputs": [
    {
     "data": {
      "image/png": "[encoded data removed]",
      "text/plain": [
       "<Figure size 432x288 with 1 Axes>"
      ]
     },
     "metadata": {
      "needs_background": "light"
     },
     "output_type": "display_data"
    }
   ],
   "source": [
    "exemplar3_rep=exemplar3.reshape((4,3))\n",
    "plt.imshow(exemplar3_rep)\n",
    "plt.grid()"
   ]
  },
  {
   "cell_type": "code",
   "execution_count": 90,
   "metadata": {},
   "outputs": [
    {
     "data": {
      "image/png": "[encoded data removed]",
      "text/plain": [
       "<Figure size 432x288 with 1 Axes>"
      ]
     },
     "metadata": {
      "needs_background": "light"
     },
     "output_type": "display_data"
    }
   ],
   "source": [
    "exemplar4_rep=exemplar4.reshape((4,3))\n",
    "plt.imshow(exemplar4_rep)\n",
    "plt.grid()"
   ]
  },
  {
   "cell_type": "code",
   "execution_count": 91,
   "metadata": {},
   "outputs": [
    {
     "name": "stdout",
     "output_type": "stream",
     "text": [
      "hamming distace between vector X & vector Y: 3\n",
      "hamming distace between vector X & vector A: 8\n",
      "hamming distace between vector X & vector C: 8\n",
      "hamming distace between vector Y & vector A: 11\n",
      "hamming distace between vector Y & vector C: 7\n",
      "hamming distace between vector A & vector C: 6\n"
     ]
    }
   ],
   "source": [
    "dis1=hamming_distance(exemplar1,exemplar2)\n",
    "dis2=hamming_distance(exemplar1,exemplar3)\n",
    "dis3=hamming_distance(exemplar1,exemplar4)\n",
    "dis4=hamming_distance(exemplar2,exemplar3)\n",
    "dis5=hamming_distance(exemplar2,exemplar4)\n",
    "dis6=hamming_distance(exemplar3,exemplar4)\n",
    "\n",
    "print(\"hamming distace between vector X & vector Y:\",dis1)\n",
    "print(\"hamming distace between vector X & vector A:\",dis2)\n",
    "print(\"hamming distace between vector X & vector C:\",dis3)\n",
    "print(\"hamming distace between vector Y & vector A:\",dis4)\n",
    "print(\"hamming distace between vector Y & vector C:\",dis5)\n",
    "print(\"hamming distace between vector A & vector C:\",dis6)"
   ]
  },
  {
   "cell_type": "code",
   "execution_count": 92,
   "metadata": {},
   "outputs": [
    {
     "name": "stdout",
     "output_type": "stream",
     "text": [
      "bias value: [6. 6. 6. 6.]\n",
      "weight values:\n",
      " [[ 0.5  0.5 -0.5 -0.5]\n",
      " [-0.5 -0.5  0.5  0.5]\n",
      " [ 0.5  0.5 -0.5  0.5]\n",
      " [-0.5 -0.5  0.5  0.5]\n",
      " [ 0.5  0.5 -0.5 -0.5]\n",
      " [-0.5 -0.5  0.5 -0.5]\n",
      " [-0.5 -0.5  0.5  0.5]\n",
      " [ 0.5  0.5  0.5 -0.5]\n",
      " [-0.5 -0.5  0.5 -0.5]\n",
      " [ 0.5 -0.5  0.5 -0.5]\n",
      " [-0.5  0.5 -0.5  0.5]\n",
      " [ 0.5 -0.5  0.5  0.5]]\n"
     ]
    }
   ],
   "source": [
    "size=len(exemplar1)\n",
    "b=biases(size)\n",
    "w=weights(exemplar1,exemplar2,exemplar3,exemplar4)\n",
    "print(\"bias value:\",b)\n",
    "print(\"weight values:\\n\",w)"
   ]
  },
  {
   "cell_type": "code",
   "execution_count": 71,
   "metadata": {},
   "outputs": [
    {
     "data": {
      "text/plain": [
       "<matplotlib.image.AxesImage at 0x1ae61232828>"
      ]
     },
     "execution_count": 71,
     "metadata": {},
     "output_type": "execute_result"
    },
    {
     "data": {
      "image/png": "[encoded data removed]",
      "text/plain": [
       "<Figure size 432x288 with 1 Axes>"
      ]
     },
     "metadata": {
      "needs_background": "light"
     },
     "output_type": "display_data"
    }
   ],
   "source": [
    "x=np.array([1,1,1,-1,1,-1,-1,1,-1,-1,1,-1])\n",
    "x_rep=x.reshape((4,3))\n",
    "plt.imshow(x_rep)"
   ]
  },
  {
   "cell_type": "code",
   "execution_count": 73,
   "metadata": {},
   "outputs": [],
   "source": [
    "xnew=np.dot(x,w)+b\n",
    "xnew=xnew.astype(int)"
   ]
  },
  {
   "cell_type": "code",
   "execution_count": 74,
   "metadata": {},
   "outputs": [
    {
     "name": "stdout",
     "output_type": "stream",
     "text": [
      "similarity vector: [ 8 11  2  6]\n"
     ]
    }
   ],
   "source": [
    "print(\"similarity vector:\",xnew)"
   ]
  },
  {
   "cell_type": "code",
   "execution_count": 77,
   "metadata": {},
   "outputs": [
    {
     "name": "stdout",
     "output_type": "stream",
     "text": [
      "final vector: [0. 2. 0. 0.]\n",
      "max index: 2\n",
      "winner is equals to character Y\n"
     ]
    }
   ],
   "source": [
    "epsilon=0.55\n",
    "res,index=max_net(xnew,epsilon)\n",
    "print(\"final vector:\",res)\n",
    "print(\"max index:\",index)\n",
    "print(\"winner is equals to character Y\")"
   ]
  }
 ],
 "metadata": {
  "kernelspec": {
   "display_name": "Python 3",
   "language": "python",
   "name": "python3"
  },
  "language_info": {
   "codemirror_mode": {
    "name": "ipython",
    "version": 3
   },
   "file_extension": ".py",
   "mimetype": "text/x-python",
   "name": "python",
   "nbconvert_exporter": "python",
   "pygments_lexer": "ipython3",
   "version": "3.7.3"
  }
 },
 "nbformat": 4,
 "nbformat_minor": 2
}
