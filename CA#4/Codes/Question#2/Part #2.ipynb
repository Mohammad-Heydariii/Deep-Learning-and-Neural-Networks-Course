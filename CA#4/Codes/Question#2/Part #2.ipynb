{
 "cells": [
  {
   "cell_type": "code",
   "execution_count": 76,
   "metadata": {},
   "outputs": [],
   "source": [
    "import numpy as np\n",
    "import matplotlib.pyplot as plt"
   ]
  },
  {
   "cell_type": "code",
   "execution_count": 77,
   "metadata": {},
   "outputs": [],
   "source": [
    "def activation_function(x):\n",
    "    result=np.zeros(len(x))\n",
    "    for i in range(len(x)):\n",
    "        \n",
    "        if x[i] >=0 :\n",
    "            result[i]=x[i];\n",
    "        else:\n",
    "            result[i]=0\n",
    "\n",
    "    return result"
   ]
  },
  {
   "cell_type": "code",
   "execution_count": 78,
   "metadata": {},
   "outputs": [],
   "source": [
    "def weights(epsilon,x):\n",
    "    result=np.ones((len(x),len(x)))*(-epsilon)\n",
    "    for i in range(len(x)):\n",
    "        result[i,i]=1\n",
    "    return result"
   ]
  },
  {
   "cell_type": "code",
   "execution_count": 79,
   "metadata": {},
   "outputs": [],
   "source": [
    "def product(w,x):\n",
    "    res=np.zeros(len(x))\n",
    "    for i in range(len(w)):\n",
    "        res[i]=np.dot(w[i,:],x)\n",
    "    return res"
   ]
  },
  {
   "cell_type": "code",
   "execution_count": 80,
   "metadata": {},
   "outputs": [],
   "source": [
    "def max_net(x,epsilon):\n",
    "    while(1):\n",
    "        cnt=0\n",
    "        w=weights(epsilon,x)\n",
    "        xnew=product(w,x)\n",
    "        res=activation_function(xnew)\n",
    "        for i in range(len(res)):\n",
    "            if res[i]>0:\n",
    "                cnt=cnt+1\n",
    "                index=i+1\n",
    "        if cnt==1:\n",
    "            break\n",
    "        print(\"updating vector:\",res)\n",
    "        x=res\n",
    "    return res,index"
   ]
  },
  {
   "cell_type": "code",
   "execution_count": 81,
   "metadata": {},
   "outputs": [],
   "source": [
    "def sort_array(vector,epsilon):\n",
    "    res=[]\n",
    "    while(1):\n",
    "        _,index=max_net(vector,epsilon)\n",
    "        res.append(vector[index-1])\n",
    "        if (len(vector)==1):\n",
    "            break\n",
    "        vector=np.delete(vector,index-1)\n",
    "    return res"
   ]
  },
  {
   "cell_type": "code",
   "execution_count": 82,
   "metadata": {},
   "outputs": [
    {
     "name": "stdout",
     "output_type": "stream",
     "text": [
      "updating vector: [0.435  0.32   0.205  0.09   0.1475 0.3775]\n",
      "updating vector: [0.264    0.13175  0.       0.       0.       0.197875]\n",
      "updating vector: [0.21455625 0.06246875 0.         0.         0.         0.1385125 ]\n",
      "updating vector: [0.18440906 0.00950844 0.         0.         0.         0.09695875]\n",
      "updating vector: [0.16843898 0.         0.         0.         0.         0.06787112]\n",
      "updating vector: [0.15825832 0.         0.         0.         0.         0.04260528]\n",
      "updating vector: [0.15186752 0.         0.         0.         0.         0.01886653]\n",
      "final vector: [0.14903754 0.         0.         0.         0.         0.        ]\n",
      "max index: 1\n"
     ]
    }
   ],
   "source": []
  },
  {
   "cell_type": "markdown",
   "metadata": {},
   "source": [
    "## finding the maximum when all values tend to be greater than Beta"
   ]
  },
  {
   "cell_type": "code",
   "execution_count": null,
   "metadata": {},
   "outputs": [],
   "source": [
    "x=[1.2,1.1,1,0.9,0.95,1.15]\n",
    "epsilon=0.15\n",
    "res,index=max_net(x,epsilon)\n",
    "print(\"final vector:\",res)\n",
    "print(\"max index:\",index)"
   ]
  },
  {
   "cell_type": "code",
   "execution_count": 71,
   "metadata": {},
   "outputs": [
    {
     "name": "stdout",
     "output_type": "stream",
     "text": [
      "from maximum to minimum vector:\n"
     ]
    },
    {
     "data": {
      "text/plain": [
       "[1.2, 1.15, 1.1, 1.0, 0.95, 0.9]"
      ]
     },
     "execution_count": 71,
     "metadata": {},
     "output_type": "execute_result"
    }
   ],
   "source": [
    "print(\"from maximum to minimum vector:\")\n",
    "sort_array(x,epsilon)"
   ]
  },
  {
   "cell_type": "code",
   "execution_count": 73,
   "metadata": {},
   "outputs": [
    {
     "name": "stdout",
     "output_type": "stream",
     "text": [
      "from minimjum to maximum vector:\n",
      "\n",
      "[0.9  0.95 1.   1.1  1.15 1.2 ]\n"
     ]
    }
   ],
   "source": [
    "x_minimum=[1/1.2,1/1.1,1/1,1/0.9,1/0.95,1/1.15]\n",
    "res=sort_array(x_minimum,epsilon)\n",
    "res=np.array(res)\n",
    "print(\"from minimjum to maximum vector:\\n\")\n",
    "print(1/res)"
   ]
  }
 ],
 "metadata": {
  "kernelspec": {
   "display_name": "Python 3",
   "language": "python",
   "name": "python3"
  },
  "language_info": {
   "codemirror_mode": {
    "name": "ipython",
    "version": 3
   },
   "file_extension": ".py",
   "mimetype": "text/x-python",
   "name": "python",
   "nbconvert_exporter": "python",
   "pygments_lexer": "ipython3",
   "version": "3.7.3"
  }
 },
 "nbformat": 4,
 "nbformat_minor": 2
}
