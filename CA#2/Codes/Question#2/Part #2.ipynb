{
  "cells": [
    {
      "cell_type": "markdown",
      "metadata": {
        "id": "Va0dQNdN9Jyw"
      },
      "source": [
        "# MLP (Regression)"
      ]
    },
    {
      "cell_type": "code",
      "execution_count": null,
      "metadata": {
        "id": "begO8kCO9Jy1"
      },
      "outputs": [],
      "source": [
        "import numpy as np\n",
        "import pandas as pd\n",
        "import matplotlib.pyplot as plt\n",
        "import re\n",
        "import seaborn as sns\n",
        "from tqdm import tqdm\n",
        "from sklearn.model_selection import train_test_split\n",
        "from sklearn.preprocessing import StandardScaler\n",
        "from sklearn.preprocessing import LabelEncoder\n",
        "from keras.models import Sequential\n",
        "from tensorflow.keras.layers import Dense\n",
        "from tensorflow.keras.layers import LeakyReLU\n",
        "import  keras\n",
        "import warnings\n",
        "warnings.filterwarnings('ignore')"
      ]
    },
    {
      "cell_type": "code",
      "execution_count": null,
      "metadata": {
        "colab": {
          "base_uri": "https://localhost:8080/"
        },
        "id": "3RJGB6fr9Y0Z",
        "outputId": "f055e99c-f771-4a2f-bad6-6f6c13e041ac"
      },
      "outputs": [
        {
          "output_type": "stream",
          "name": "stdout",
          "text": [
            "Mounted at /content/gdrive\n"
          ]
        }
      ],
      "source": [
        "from google.colab import drive \n",
        "drive.mount('/content/gdrive')"
      ]
    },
    {
      "cell_type": "markdown",
      "metadata": {
        "id": "tsuLYPOW3Pxp"
      },
      "source": [
        "### import data"
      ]
    },
    {
      "cell_type": "code",
      "execution_count": null,
      "metadata": {
        "id": "iG7mmbMn9cYb"
      },
      "outputs": [],
      "source": [
        "df = pd.read_csv('/content/gdrive/My Drive/data.csv')"
      ]
    },
    {
      "cell_type": "code",
      "execution_count": null,
      "metadata": {
        "colab": {
          "base_uri": "https://localhost:8080/",
          "height": 613
        },
        "id": "utoF7k6l3Ukf",
        "outputId": "9c42b8a7-d5f1-41c6-eafb-15005f530ede"
      },
      "outputs": [
        {
          "output_type": "execute_result",
          "data": {
            "text/plain": [
              "                                  0                    1  \\\n",
              "date            2014-05-02 00:00:00  2014-05-02 00:00:00   \n",
              "price                      313000.0            2384000.0   \n",
              "bedrooms                        3.0                  5.0   \n",
              "bathrooms                       1.5                  2.5   \n",
              "sqft_living                    1340                 3650   \n",
              "sqft_lot                       7912                 9050   \n",
              "floors                          1.5                  2.0   \n",
              "waterfront                        0                    0   \n",
              "view                              0                    4   \n",
              "condition                         3                    5   \n",
              "sqft_above                     1340                 3370   \n",
              "sqft_basement                     0                  280   \n",
              "yr_built                       1955                 1921   \n",
              "yr_renovated                   2005                    0   \n",
              "street         18810 Densmore Ave N      709 W Blaine St   \n",
              "city                      Shoreline              Seattle   \n",
              "statezip                   WA 98133             WA 98119   \n",
              "country                         USA                  USA   \n",
              "\n",
              "                                      2                    3  \\\n",
              "date                2014-05-02 00:00:00  2014-05-02 00:00:00   \n",
              "price                          342000.0             420000.0   \n",
              "bedrooms                            3.0                  3.0   \n",
              "bathrooms                           2.0                 2.25   \n",
              "sqft_living                        1930                 2000   \n",
              "sqft_lot                          11947                 8030   \n",
              "floors                              1.0                  1.0   \n",
              "waterfront                            0                    0   \n",
              "view                                  0                    0   \n",
              "condition                             4                    4   \n",
              "sqft_above                         1930                 1000   \n",
              "sqft_basement                         0                 1000   \n",
              "yr_built                           1966                 1963   \n",
              "yr_renovated                          0                    0   \n",
              "street         26206-26214 143rd Ave SE      857 170th Pl NE   \n",
              "city                               Kent             Bellevue   \n",
              "statezip                       WA 98042             WA 98008   \n",
              "country                             USA                  USA   \n",
              "\n",
              "                                 4  \n",
              "date           2014-05-02 00:00:00  \n",
              "price                     550000.0  \n",
              "bedrooms                       4.0  \n",
              "bathrooms                      2.5  \n",
              "sqft_living                   1940  \n",
              "sqft_lot                     10500  \n",
              "floors                         1.0  \n",
              "waterfront                       0  \n",
              "view                             0  \n",
              "condition                        4  \n",
              "sqft_above                    1140  \n",
              "sqft_basement                  800  \n",
              "yr_built                      1976  \n",
              "yr_renovated                  1992  \n",
              "street           9105 170th Ave NE  \n",
              "city                       Redmond  \n",
              "statezip                  WA 98052  \n",
              "country                        USA  "
            ],
            "text/html": [
              "\n",
              "  <div id=\"df-784a5716-1d79-469c-93e7-25c1590022e7\">\n",
              "    <div class=\"colab-df-container\">\n",
              "      <div>\n",
              "<style scoped>\n",
              "    .dataframe tbody tr th:only-of-type {\n",
              "        vertical-align: middle;\n",
              "    }\n",
              "\n",
              "    .dataframe tbody tr th {\n",
              "        vertical-align: top;\n",
              "    }\n",
              "\n",
              "    .dataframe thead th {\n",
              "        text-align: right;\n",
              "    }\n",
              "</style>\n",
              "<table border=\"1\" class=\"dataframe\">\n",
              "  <thead>\n",
              "    <tr style=\"text-align: right;\">\n",
              "      <th></th>\n",
              "      <th>0</th>\n",
              "      <th>1</th>\n",
              "      <th>2</th>\n",
              "      <th>3</th>\n",
              "      <th>4</th>\n",
              "    </tr>\n",
              "  </thead>\n",
              "  <tbody>\n",
              "    <tr>\n",
              "      <th>date</th>\n",
              "      <td>2014-05-02 00:00:00</td>\n",
              "      <td>2014-05-02 00:00:00</td>\n",
              "      <td>2014-05-02 00:00:00</td>\n",
              "      <td>2014-05-02 00:00:00</td>\n",
              "      <td>2014-05-02 00:00:00</td>\n",
              "    </tr>\n",
              "    <tr>\n",
              "      <th>price</th>\n",
              "      <td>313000.0</td>\n",
              "      <td>2384000.0</td>\n",
              "      <td>342000.0</td>\n",
              "      <td>420000.0</td>\n",
              "      <td>550000.0</td>\n",
              "    </tr>\n",
              "    <tr>\n",
              "      <th>bedrooms</th>\n",
              "      <td>3.0</td>\n",
              "      <td>5.0</td>\n",
              "      <td>3.0</td>\n",
              "      <td>3.0</td>\n",
              "      <td>4.0</td>\n",
              "    </tr>\n",
              "    <tr>\n",
              "      <th>bathrooms</th>\n",
              "      <td>1.5</td>\n",
              "      <td>2.5</td>\n",
              "      <td>2.0</td>\n",
              "      <td>2.25</td>\n",
              "      <td>2.5</td>\n",
              "    </tr>\n",
              "    <tr>\n",
              "      <th>sqft_living</th>\n",
              "      <td>1340</td>\n",
              "      <td>3650</td>\n",
              "      <td>1930</td>\n",
              "      <td>2000</td>\n",
              "      <td>1940</td>\n",
              "    </tr>\n",
              "    <tr>\n",
              "      <th>sqft_lot</th>\n",
              "      <td>7912</td>\n",
              "      <td>9050</td>\n",
              "      <td>11947</td>\n",
              "      <td>8030</td>\n",
              "      <td>10500</td>\n",
              "    </tr>\n",
              "    <tr>\n",
              "      <th>floors</th>\n",
              "      <td>1.5</td>\n",
              "      <td>2.0</td>\n",
              "      <td>1.0</td>\n",
              "      <td>1.0</td>\n",
              "      <td>1.0</td>\n",
              "    </tr>\n",
              "    <tr>\n",
              "      <th>waterfront</th>\n",
              "      <td>0</td>\n",
              "      <td>0</td>\n",
              "      <td>0</td>\n",
              "      <td>0</td>\n",
              "      <td>0</td>\n",
              "    </tr>\n",
              "    <tr>\n",
              "      <th>view</th>\n",
              "      <td>0</td>\n",
              "      <td>4</td>\n",
              "      <td>0</td>\n",
              "      <td>0</td>\n",
              "      <td>0</td>\n",
              "    </tr>\n",
              "    <tr>\n",
              "      <th>condition</th>\n",
              "      <td>3</td>\n",
              "      <td>5</td>\n",
              "      <td>4</td>\n",
              "      <td>4</td>\n",
              "      <td>4</td>\n",
              "    </tr>\n",
              "    <tr>\n",
              "      <th>sqft_above</th>\n",
              "      <td>1340</td>\n",
              "      <td>3370</td>\n",
              "      <td>1930</td>\n",
              "      <td>1000</td>\n",
              "      <td>1140</td>\n",
              "    </tr>\n",
              "    <tr>\n",
              "      <th>sqft_basement</th>\n",
              "      <td>0</td>\n",
              "      <td>280</td>\n",
              "      <td>0</td>\n",
              "      <td>1000</td>\n",
              "      <td>800</td>\n",
              "    </tr>\n",
              "    <tr>\n",
              "      <th>yr_built</th>\n",
              "      <td>1955</td>\n",
              "      <td>1921</td>\n",
              "      <td>1966</td>\n",
              "      <td>1963</td>\n",
              "      <td>1976</td>\n",
              "    </tr>\n",
              "    <tr>\n",
              "      <th>yr_renovated</th>\n",
              "      <td>2005</td>\n",
              "      <td>0</td>\n",
              "      <td>0</td>\n",
              "      <td>0</td>\n",
              "      <td>1992</td>\n",
              "    </tr>\n",
              "    <tr>\n",
              "      <th>street</th>\n",
              "      <td>18810 Densmore Ave N</td>\n",
              "      <td>709 W Blaine St</td>\n",
              "      <td>26206-26214 143rd Ave SE</td>\n",
              "      <td>857 170th Pl NE</td>\n",
              "      <td>9105 170th Ave NE</td>\n",
              "    </tr>\n",
              "    <tr>\n",
              "      <th>city</th>\n",
              "      <td>Shoreline</td>\n",
              "      <td>Seattle</td>\n",
              "      <td>Kent</td>\n",
              "      <td>Bellevue</td>\n",
              "      <td>Redmond</td>\n",
              "    </tr>\n",
              "    <tr>\n",
              "      <th>statezip</th>\n",
              "      <td>WA 98133</td>\n",
              "      <td>WA 98119</td>\n",
              "      <td>WA 98042</td>\n",
              "      <td>WA 98008</td>\n",
              "      <td>WA 98052</td>\n",
              "    </tr>\n",
              "    <tr>\n",
              "      <th>country</th>\n",
              "      <td>USA</td>\n",
              "      <td>USA</td>\n",
              "      <td>USA</td>\n",
              "      <td>USA</td>\n",
              "      <td>USA</td>\n",
              "    </tr>\n",
              "  </tbody>\n",
              "</table>\n",
              "</div>\n",
              "      <button class=\"colab-df-convert\" onclick=\"convertToInteractive('df-784a5716-1d79-469c-93e7-25c1590022e7')\"\n",
              "              title=\"Convert this dataframe to an interactive table.\"\n",
              "              style=\"display:none;\">\n",
              "        \n",
              "  <svg xmlns=\"http://www.w3.org/2000/svg\" height=\"24px\"viewBox=\"0 0 24 24\"\n",
              "       width=\"24px\">\n",
              "    <path d=\"M0 0h24v24H0V0z\" fill=\"none\"/>\n",
              "    <path d=\"M18.56 5.44l.94 2.06.94-2.06 2.06-.94-2.06-.94-.94-2.06-.94 2.06-2.06.94zm-11 1L8.5 8.5l.94-2.06 2.06-.94-2.06-.94L8.5 2.5l-.94 2.06-2.06.94zm10 10l.94 2.06.94-2.06 2.06-.94-2.06-.94-.94-2.06-.94 2.06-2.06.94z\"/><path d=\"M17.41 7.96l-1.37-1.37c-.4-.4-.92-.59-1.43-.59-.52 0-1.04.2-1.43.59L10.3 9.45l-7.72 7.72c-.78.78-.78 2.05 0 2.83L4 21.41c.39.39.9.59 1.41.59.51 0 1.02-.2 1.41-.59l7.78-7.78 2.81-2.81c.8-.78.8-2.07 0-2.86zM5.41 20L4 18.59l7.72-7.72 1.47 1.35L5.41 20z\"/>\n",
              "  </svg>\n",
              "      </button>\n",
              "      \n",
              "  <style>\n",
              "    .colab-df-container {\n",
              "      display:flex;\n",
              "      flex-wrap:wrap;\n",
              "      gap: 12px;\n",
              "    }\n",
              "\n",
              "    .colab-df-convert {\n",
              "      background-color: #E8F0FE;\n",
              "      border: none;\n",
              "      border-radius: 50%;\n",
              "      cursor: pointer;\n",
              "      display: none;\n",
              "      fill: #1967D2;\n",
              "      height: 32px;\n",
              "      padding: 0 0 0 0;\n",
              "      width: 32px;\n",
              "    }\n",
              "\n",
              "    .colab-df-convert:hover {\n",
              "      background-color: #E2EBFA;\n",
              "      box-shadow: 0px 1px 2px rgba(60, 64, 67, 0.3), 0px 1px 3px 1px rgba(60, 64, 67, 0.15);\n",
              "      fill: #174EA6;\n",
              "    }\n",
              "\n",
              "    [theme=dark] .colab-df-convert {\n",
              "      background-color: #3B4455;\n",
              "      fill: #D2E3FC;\n",
              "    }\n",
              "\n",
              "    [theme=dark] .colab-df-convert:hover {\n",
              "      background-color: #434B5C;\n",
              "      box-shadow: 0px 1px 3px 1px rgba(0, 0, 0, 0.15);\n",
              "      filter: drop-shadow(0px 1px 2px rgba(0, 0, 0, 0.3));\n",
              "      fill: #FFFFFF;\n",
              "    }\n",
              "  </style>\n",
              "\n",
              "      <script>\n",
              "        const buttonEl =\n",
              "          document.querySelector('#df-784a5716-1d79-469c-93e7-25c1590022e7 button.colab-df-convert');\n",
              "        buttonEl.style.display =\n",
              "          google.colab.kernel.accessAllowed ? 'block' : 'none';\n",
              "\n",
              "        async function convertToInteractive(key) {\n",
              "          const element = document.querySelector('#df-784a5716-1d79-469c-93e7-25c1590022e7');\n",
              "          const dataTable =\n",
              "            await google.colab.kernel.invokeFunction('convertToInteractive',\n",
              "                                                     [key], {});\n",
              "          if (!dataTable) return;\n",
              "\n",
              "          const docLinkHtml = 'Like what you see? Visit the ' +\n",
              "            '<a target=\"_blank\" href=https://colab.research.google.com/notebooks/data_table.ipynb>data table notebook</a>'\n",
              "            + ' to learn more about interactive tables.';\n",
              "          element.innerHTML = '';\n",
              "          dataTable['output_type'] = 'display_data';\n",
              "          await google.colab.output.renderOutput(dataTable, element);\n",
              "          const docLink = document.createElement('div');\n",
              "          docLink.innerHTML = docLinkHtml;\n",
              "          element.appendChild(docLink);\n",
              "        }\n",
              "      </script>\n",
              "    </div>\n",
              "  </div>\n",
              "  "
            ]
          },
          "metadata": {},
          "execution_count": 89
        }
      ],
      "source": [
        "Data=df\n",
        "Data.head(5).T"
      ]
    },
    {
      "cell_type": "markdown",
      "metadata": {
        "id": "JpTiLfC73amo"
      },
      "source": [
        "## Pre Processing"
      ]
    },
    {
      "cell_type": "code",
      "execution_count": null,
      "metadata": {
        "colab": {
          "base_uri": "https://localhost:8080/",
          "height": 913
        },
        "id": "TH1h3lUi3Yff",
        "outputId": "e5ac232c-7e7e-43a7-8463-c455d931569a"
      },
      "outputs": [
        {
          "output_type": "stream",
          "name": "stdout",
          "text": [
            "<class 'pandas.core.frame.DataFrame'>\n",
            "RangeIndex: 4600 entries, 0 to 4599\n",
            "Data columns (total 18 columns):\n",
            " #   Column         Non-Null Count  Dtype  \n",
            "---  ------         --------------  -----  \n",
            " 0   date           4600 non-null   object \n",
            " 1   price          4600 non-null   float64\n",
            " 2   bedrooms       4600 non-null   float64\n",
            " 3   bathrooms      4600 non-null   float64\n",
            " 4   sqft_living    4600 non-null   int64  \n",
            " 5   sqft_lot       4600 non-null   int64  \n",
            " 6   floors         4600 non-null   float64\n",
            " 7   waterfront     4600 non-null   int64  \n",
            " 8   view           4600 non-null   int64  \n",
            " 9   condition      4600 non-null   int64  \n",
            " 10  sqft_above     4600 non-null   int64  \n",
            " 11  sqft_basement  4600 non-null   int64  \n",
            " 12  yr_built       4600 non-null   int64  \n",
            " 13  yr_renovated   4600 non-null   int64  \n",
            " 14  street         4600 non-null   object \n",
            " 15  city           4600 non-null   object \n",
            " 16  statezip       4600 non-null   object \n",
            " 17  country        4600 non-null   object \n",
            "dtypes: float64(4), int64(9), object(5)\n",
            "memory usage: 647.0+ KB\n"
          ]
        },
        {
          "output_type": "execute_result",
          "data": {
            "text/plain": [
              "                count           mean            std     min        25%  \\\n",
              "price          4600.0  551962.988473  563834.702547     0.0  322875.00   \n",
              "bedrooms       4600.0       3.400870       0.908848     0.0       3.00   \n",
              "bathrooms      4600.0       2.160815       0.783781     0.0       1.75   \n",
              "sqft_living    4600.0    2139.346957     963.206916   370.0    1460.00   \n",
              "sqft_lot       4600.0   14852.516087   35884.436145   638.0    5000.75   \n",
              "floors         4600.0       1.512065       0.538288     1.0       1.00   \n",
              "waterfront     4600.0       0.007174       0.084404     0.0       0.00   \n",
              "view           4600.0       0.240652       0.778405     0.0       0.00   \n",
              "condition      4600.0       3.451739       0.677230     1.0       3.00   \n",
              "sqft_above     4600.0    1827.265435     862.168977   370.0    1190.00   \n",
              "sqft_basement  4600.0     312.081522     464.137228     0.0       0.00   \n",
              "yr_built       4600.0    1970.786304      29.731848  1900.0    1951.00   \n",
              "yr_renovated   4600.0     808.608261     979.414536     0.0       0.00   \n",
              "\n",
              "                         50%        75%         max  \n",
              "price          460943.461539  654962.50  26590000.0  \n",
              "bedrooms            3.000000       4.00         9.0  \n",
              "bathrooms           2.250000       2.50         8.0  \n",
              "sqft_living      1980.000000    2620.00     13540.0  \n",
              "sqft_lot         7683.000000   11001.25   1074218.0  \n",
              "floors              1.500000       2.00         3.5  \n",
              "waterfront          0.000000       0.00         1.0  \n",
              "view                0.000000       0.00         4.0  \n",
              "condition           3.000000       4.00         5.0  \n",
              "sqft_above       1590.000000    2300.00      9410.0  \n",
              "sqft_basement       0.000000     610.00      4820.0  \n",
              "yr_built         1976.000000    1997.00      2014.0  \n",
              "yr_renovated        0.000000    1999.00      2014.0  "
            ],
            "text/html": [
              "\n",
              "  <div id=\"df-611e9c04-75ae-4e60-9c33-a9303cf7aaf1\">\n",
              "    <div class=\"colab-df-container\">\n",
              "      <div>\n",
              "<style scoped>\n",
              "    .dataframe tbody tr th:only-of-type {\n",
              "        vertical-align: middle;\n",
              "    }\n",
              "\n",
              "    .dataframe tbody tr th {\n",
              "        vertical-align: top;\n",
              "    }\n",
              "\n",
              "    .dataframe thead th {\n",
              "        text-align: right;\n",
              "    }\n",
              "</style>\n",
              "<table border=\"1\" class=\"dataframe\">\n",
              "  <thead>\n",
              "    <tr style=\"text-align: right;\">\n",
              "      <th></th>\n",
              "      <th>count</th>\n",
              "      <th>mean</th>\n",
              "      <th>std</th>\n",
              "      <th>min</th>\n",
              "      <th>25%</th>\n",
              "      <th>50%</th>\n",
              "      <th>75%</th>\n",
              "      <th>max</th>\n",
              "    </tr>\n",
              "  </thead>\n",
              "  <tbody>\n",
              "    <tr>\n",
              "      <th>price</th>\n",
              "      <td>4600.0</td>\n",
              "      <td>551962.988473</td>\n",
              "      <td>563834.702547</td>\n",
              "      <td>0.0</td>\n",
              "      <td>322875.00</td>\n",
              "      <td>460943.461539</td>\n",
              "      <td>654962.50</td>\n",
              "      <td>26590000.0</td>\n",
              "    </tr>\n",
              "    <tr>\n",
              "      <th>bedrooms</th>\n",
              "      <td>4600.0</td>\n",
              "      <td>3.400870</td>\n",
              "      <td>0.908848</td>\n",
              "      <td>0.0</td>\n",
              "      <td>3.00</td>\n",
              "      <td>3.000000</td>\n",
              "      <td>4.00</td>\n",
              "      <td>9.0</td>\n",
              "    </tr>\n",
              "    <tr>\n",
              "      <th>bathrooms</th>\n",
              "      <td>4600.0</td>\n",
              "      <td>2.160815</td>\n",
              "      <td>0.783781</td>\n",
              "      <td>0.0</td>\n",
              "      <td>1.75</td>\n",
              "      <td>2.250000</td>\n",
              "      <td>2.50</td>\n",
              "      <td>8.0</td>\n",
              "    </tr>\n",
              "    <tr>\n",
              "      <th>sqft_living</th>\n",
              "      <td>4600.0</td>\n",
              "      <td>2139.346957</td>\n",
              "      <td>963.206916</td>\n",
              "      <td>370.0</td>\n",
              "      <td>1460.00</td>\n",
              "      <td>1980.000000</td>\n",
              "      <td>2620.00</td>\n",
              "      <td>13540.0</td>\n",
              "    </tr>\n",
              "    <tr>\n",
              "      <th>sqft_lot</th>\n",
              "      <td>4600.0</td>\n",
              "      <td>14852.516087</td>\n",
              "      <td>35884.436145</td>\n",
              "      <td>638.0</td>\n",
              "      <td>5000.75</td>\n",
              "      <td>7683.000000</td>\n",
              "      <td>11001.25</td>\n",
              "      <td>1074218.0</td>\n",
              "    </tr>\n",
              "    <tr>\n",
              "      <th>floors</th>\n",
              "      <td>4600.0</td>\n",
              "      <td>1.512065</td>\n",
              "      <td>0.538288</td>\n",
              "      <td>1.0</td>\n",
              "      <td>1.00</td>\n",
              "      <td>1.500000</td>\n",
              "      <td>2.00</td>\n",
              "      <td>3.5</td>\n",
              "    </tr>\n",
              "    <tr>\n",
              "      <th>waterfront</th>\n",
              "      <td>4600.0</td>\n",
              "      <td>0.007174</td>\n",
              "      <td>0.084404</td>\n",
              "      <td>0.0</td>\n",
              "      <td>0.00</td>\n",
              "      <td>0.000000</td>\n",
              "      <td>0.00</td>\n",
              "      <td>1.0</td>\n",
              "    </tr>\n",
              "    <tr>\n",
              "      <th>view</th>\n",
              "      <td>4600.0</td>\n",
              "      <td>0.240652</td>\n",
              "      <td>0.778405</td>\n",
              "      <td>0.0</td>\n",
              "      <td>0.00</td>\n",
              "      <td>0.000000</td>\n",
              "      <td>0.00</td>\n",
              "      <td>4.0</td>\n",
              "    </tr>\n",
              "    <tr>\n",
              "      <th>condition</th>\n",
              "      <td>4600.0</td>\n",
              "      <td>3.451739</td>\n",
              "      <td>0.677230</td>\n",
              "      <td>1.0</td>\n",
              "      <td>3.00</td>\n",
              "      <td>3.000000</td>\n",
              "      <td>4.00</td>\n",
              "      <td>5.0</td>\n",
              "    </tr>\n",
              "    <tr>\n",
              "      <th>sqft_above</th>\n",
              "      <td>4600.0</td>\n",
              "      <td>1827.265435</td>\n",
              "      <td>862.168977</td>\n",
              "      <td>370.0</td>\n",
              "      <td>1190.00</td>\n",
              "      <td>1590.000000</td>\n",
              "      <td>2300.00</td>\n",
              "      <td>9410.0</td>\n",
              "    </tr>\n",
              "    <tr>\n",
              "      <th>sqft_basement</th>\n",
              "      <td>4600.0</td>\n",
              "      <td>312.081522</td>\n",
              "      <td>464.137228</td>\n",
              "      <td>0.0</td>\n",
              "      <td>0.00</td>\n",
              "      <td>0.000000</td>\n",
              "      <td>610.00</td>\n",
              "      <td>4820.0</td>\n",
              "    </tr>\n",
              "    <tr>\n",
              "      <th>yr_built</th>\n",
              "      <td>4600.0</td>\n",
              "      <td>1970.786304</td>\n",
              "      <td>29.731848</td>\n",
              "      <td>1900.0</td>\n",
              "      <td>1951.00</td>\n",
              "      <td>1976.000000</td>\n",
              "      <td>1997.00</td>\n",
              "      <td>2014.0</td>\n",
              "    </tr>\n",
              "    <tr>\n",
              "      <th>yr_renovated</th>\n",
              "      <td>4600.0</td>\n",
              "      <td>808.608261</td>\n",
              "      <td>979.414536</td>\n",
              "      <td>0.0</td>\n",
              "      <td>0.00</td>\n",
              "      <td>0.000000</td>\n",
              "      <td>1999.00</td>\n",
              "      <td>2014.0</td>\n",
              "    </tr>\n",
              "  </tbody>\n",
              "</table>\n",
              "</div>\n",
              "      <button class=\"colab-df-convert\" onclick=\"convertToInteractive('df-611e9c04-75ae-4e60-9c33-a9303cf7aaf1')\"\n",
              "              title=\"Convert this dataframe to an interactive table.\"\n",
              "              style=\"display:none;\">\n",
              "        \n",
              "  <svg xmlns=\"http://www.w3.org/2000/svg\" height=\"24px\"viewBox=\"0 0 24 24\"\n",
              "       width=\"24px\">\n",
              "    <path d=\"M0 0h24v24H0V0z\" fill=\"none\"/>\n",
              "    <path d=\"M18.56 5.44l.94 2.06.94-2.06 2.06-.94-2.06-.94-.94-2.06-.94 2.06-2.06.94zm-11 1L8.5 8.5l.94-2.06 2.06-.94-2.06-.94L8.5 2.5l-.94 2.06-2.06.94zm10 10l.94 2.06.94-2.06 2.06-.94-2.06-.94-.94-2.06-.94 2.06-2.06.94z\"/><path d=\"M17.41 7.96l-1.37-1.37c-.4-.4-.92-.59-1.43-.59-.52 0-1.04.2-1.43.59L10.3 9.45l-7.72 7.72c-.78.78-.78 2.05 0 2.83L4 21.41c.39.39.9.59 1.41.59.51 0 1.02-.2 1.41-.59l7.78-7.78 2.81-2.81c.8-.78.8-2.07 0-2.86zM5.41 20L4 18.59l7.72-7.72 1.47 1.35L5.41 20z\"/>\n",
              "  </svg>\n",
              "      </button>\n",
              "      \n",
              "  <style>\n",
              "    .colab-df-container {\n",
              "      display:flex;\n",
              "      flex-wrap:wrap;\n",
              "      gap: 12px;\n",
              "    }\n",
              "\n",
              "    .colab-df-convert {\n",
              "      background-color: #E8F0FE;\n",
              "      border: none;\n",
              "      border-radius: 50%;\n",
              "      cursor: pointer;\n",
              "      display: none;\n",
              "      fill: #1967D2;\n",
              "      height: 32px;\n",
              "      padding: 0 0 0 0;\n",
              "      width: 32px;\n",
              "    }\n",
              "\n",
              "    .colab-df-convert:hover {\n",
              "      background-color: #E2EBFA;\n",
              "      box-shadow: 0px 1px 2px rgba(60, 64, 67, 0.3), 0px 1px 3px 1px rgba(60, 64, 67, 0.15);\n",
              "      fill: #174EA6;\n",
              "    }\n",
              "\n",
              "    [theme=dark] .colab-df-convert {\n",
              "      background-color: #3B4455;\n",
              "      fill: #D2E3FC;\n",
              "    }\n",
              "\n",
              "    [theme=dark] .colab-df-convert:hover {\n",
              "      background-color: #434B5C;\n",
              "      box-shadow: 0px 1px 3px 1px rgba(0, 0, 0, 0.15);\n",
              "      filter: drop-shadow(0px 1px 2px rgba(0, 0, 0, 0.3));\n",
              "      fill: #FFFFFF;\n",
              "    }\n",
              "  </style>\n",
              "\n",
              "      <script>\n",
              "        const buttonEl =\n",
              "          document.querySelector('#df-611e9c04-75ae-4e60-9c33-a9303cf7aaf1 button.colab-df-convert');\n",
              "        buttonEl.style.display =\n",
              "          google.colab.kernel.accessAllowed ? 'block' : 'none';\n",
              "\n",
              "        async function convertToInteractive(key) {\n",
              "          const element = document.querySelector('#df-611e9c04-75ae-4e60-9c33-a9303cf7aaf1');\n",
              "          const dataTable =\n",
              "            await google.colab.kernel.invokeFunction('convertToInteractive',\n",
              "                                                     [key], {});\n",
              "          if (!dataTable) return;\n",
              "\n",
              "          const docLinkHtml = 'Like what you see? Visit the ' +\n",
              "            '<a target=\"_blank\" href=https://colab.research.google.com/notebooks/data_table.ipynb>data table notebook</a>'\n",
              "            + ' to learn more about interactive tables.';\n",
              "          element.innerHTML = '';\n",
              "          dataTable['output_type'] = 'display_data';\n",
              "          await google.colab.output.renderOutput(dataTable, element);\n",
              "          const docLink = document.createElement('div');\n",
              "          docLink.innerHTML = docLinkHtml;\n",
              "          element.appendChild(docLink);\n",
              "        }\n",
              "      </script>\n",
              "    </div>\n",
              "  </div>\n",
              "  "
            ]
          },
          "metadata": {},
          "execution_count": 90
        }
      ],
      "source": [
        "Data.info()\n",
        "Data.describe().transpose()"
      ]
    },
    {
      "cell_type": "markdown",
      "metadata": {
        "id": "orQ5aDCn3jNa"
      },
      "source": [
        "#### Let’s plot couple of features to get a better feel of the data\n"
      ]
    },
    {
      "cell_type": "code",
      "execution_count": null,
      "metadata": {
        "colab": {
          "base_uri": "https://localhost:8080/",
          "height": 1000
        },
        "id": "FkMsYpVx3ZEZ",
        "outputId": "98a13363-1439-4b4c-af15-e08aca4e7f08"
      },
      "outputs": [
        {
          "output_type": "display_data",
          "data": {
            "text/plain": [
              "<Figure size 720x504 with 2 Axes>"
            ],
            "image/png": "[encoded data removed]"
          },
          "metadata": {
            "needs_background": "light"
          }
        },
        {
          "output_type": "display_data",
          "data": {
            "text/plain": [
              "<Figure size 1152x360 with 4 Axes>"
            ],
            "image/png": "[encoded data removed]"
          },
          "metadata": {
            "needs_background": "light"
          }
        },
        {
          "output_type": "display_data",
          "data": {
            "text/plain": [
              "<Figure size 1080x504 with 4 Axes>"
            ],
            "image/png": "[encoded data removed]"
          },
          "metadata": {
            "needs_background": "light"
          }
        }
      ],
      "source": [
        "#visualizing house prices\n",
        "fig = plt.figure(figsize=(10,7))\n",
        "fig.add_subplot(2,1,1)\n",
        "sns.distplot(Data['price'])\n",
        "fig.add_subplot(2,1,2)\n",
        "sns.boxplot(Data['price'])\n",
        "plt.tight_layout()\n",
        "#visualizing square footage of (home,lot,above and basement)\n",
        "fig = plt.figure(figsize=(16,5))\n",
        "fig.add_subplot(2,2,1)\n",
        "sns.scatterplot(Data['sqft_above'], Data['price'])\n",
        "fig.add_subplot(2,2,2)\n",
        "sns.scatterplot(Data['sqft_lot'],Data['price'])\n",
        "fig.add_subplot(2,2,3)\n",
        "sns.scatterplot(Data['sqft_living'],Data['price'])\n",
        "fig.add_subplot(2,2,4)\n",
        "sns.scatterplot(Data['sqft_basement'],Data['price'])\n",
        "#visualizing bedrooms,bathrooms,floors,view\n",
        "fig = plt.figure(figsize=(15,7))\n",
        "fig.add_subplot(2,2,1)\n",
        "sns.countplot(Data['bedrooms'])\n",
        "fig.add_subplot(2,2,2)\n",
        "sns.countplot(Data['floors'])\n",
        "fig.add_subplot(2,2,3)\n",
        "sns.countplot(Data['bathrooms'])\n",
        "fig.add_subplot(2,2,4)\n",
        "sns.countplot(Data['view'])\n",
        "plt.tight_layout()"
      ]
    },
    {
      "cell_type": "code",
      "execution_count": null,
      "metadata": {
        "colab": {
          "base_uri": "https://localhost:8080/"
        },
        "id": "qY6qDRO03ZI_",
        "outputId": "0f8732be-ec9b-43fe-bbbc-8a17443e2ace"
      },
      "outputs": [
        {
          "output_type": "execute_result",
          "data": {
            "text/plain": [
              "date             0\n",
              "price            0\n",
              "bedrooms         0\n",
              "bathrooms        0\n",
              "sqft_living      0\n",
              "sqft_lot         0\n",
              "floors           0\n",
              "waterfront       0\n",
              "view             0\n",
              "condition        0\n",
              "sqft_above       0\n",
              "sqft_basement    0\n",
              "yr_built         0\n",
              "yr_renovated     0\n",
              "street           0\n",
              "city             0\n",
              "statezip         0\n",
              "country          0\n",
              "dtype: int64"
            ]
          },
          "metadata": {},
          "execution_count": 92
        }
      ],
      "source": [
        "# check if there are any Null values\n",
        "Data.isnull().sum()"
      ]
    },
    {
      "cell_type": "code",
      "execution_count": null,
      "metadata": {
        "colab": {
          "base_uri": "https://localhost:8080/"
        },
        "id": "kv9gyxg84MEh",
        "outputId": "002d41db-dc7a-4314-a0cb-299348703d14"
      },
      "outputs": [
        {
          "output_type": "stream",
          "name": "stdout",
          "text": [
            "Replaced 49 rows with the average\n",
            "price average is equal to: 551962.9884732141\n"
          ]
        }
      ],
      "source": [
        "print('Replaced {} rows with the average' .format(len(Data[Data.price==0])))\n",
        "print('price average is equal to:',Data[\"price\"].mean())\n",
        "Data['price']=Data['price'].replace(0,Data['price'].mean())"
      ]
    },
    {
      "cell_type": "code",
      "execution_count": null,
      "metadata": {
        "id": "N5-JuJ3K9Jy4"
      },
      "outputs": [],
      "source": [
        "def preprocess_name(text_col):\n",
        "    preprocessed_names = []\n",
        "    for sentence in tqdm(text_col.values):\n",
        "        sent = sentence.replace('\\\\r', ' ')\n",
        "        sent = sent.replace('\\\\\"', ' ')\n",
        "        sent = sent.replace('\\\\n', ' ')\n",
        "        sent = re.sub('[^A-Za-z0-9]+', ' ', sent)\n",
        "        preprocessed_names.append(sent.lower().strip())\n",
        "    return preprocessed_names"
      ]
    },
    {
      "cell_type": "code",
      "execution_count": null,
      "metadata": {
        "colab": {
          "base_uri": "https://localhost:8080/"
        },
        "id": "YXsWaxjH9Jy5",
        "outputId": "006b2b43-2ffe-438b-ee2b-071b3d11bb43"
      },
      "outputs": [
        {
          "output_type": "stream",
          "name": "stderr",
          "text": [
            "100%|██████████| 4600/4600 [00:00<00:00, 226721.80it/s]\n",
            "100%|██████████| 4600/4600 [00:00<00:00, 333958.74it/s]\n",
            "100%|██████████| 4600/4600 [00:00<00:00, 225877.73it/s]\n",
            "100%|██████████| 4600/4600 [00:00<00:00, 322606.40it/s]\n"
          ]
        }
      ],
      "source": [
        "preprocessed_names=preprocess_name(Data['street'])\n",
        "preprocessed_city=preprocess_name(Data['city'])\n",
        "preprocessed_date=preprocess_name(Data['date'])\n",
        "preprocessed_statezip=preprocess_name(Data['statezip'])\n",
        "for i in range(len(preprocessed_date)):\n",
        "    preprocessed_date[i]=preprocessed_date[i][0:10]\n",
        "    preprocessed_statezip[i]=preprocessed_statezip[i][3:] "
      ]
    },
    {
      "cell_type": "code",
      "execution_count": null,
      "metadata": {
        "colab": {
          "base_uri": "https://localhost:8080/",
          "height": 641
        },
        "id": "IbatzvSF9Jy6",
        "outputId": "0c21c93b-7e4d-46e2-d248-c7418f3539dc"
      },
      "outputs": [
        {
          "output_type": "execute_result",
          "data": {
            "text/plain": [
              "            date         price  bedrooms  bathrooms  sqft_living  sqft_lot  \\\n",
              "0     2014 05 02  3.130000e+05       3.0       1.50         1340      7912   \n",
              "1     2014 05 02  2.384000e+06       5.0       2.50         3650      9050   \n",
              "2     2014 05 02  3.420000e+05       3.0       2.00         1930     11947   \n",
              "3     2014 05 02  4.200000e+05       3.0       2.25         2000      8030   \n",
              "4     2014 05 02  5.500000e+05       4.0       2.50         1940     10500   \n",
              "...          ...           ...       ...        ...          ...       ...   \n",
              "4595  2014 07 09  3.081667e+05       3.0       1.75         1510      6360   \n",
              "4596  2014 07 09  5.343333e+05       3.0       2.50         1460      7573   \n",
              "4597  2014 07 09  4.169042e+05       3.0       2.50         3010      7014   \n",
              "4598  2014 07 10  2.034000e+05       4.0       2.00         2090      6630   \n",
              "4599  2014 07 10  2.206000e+05       3.0       2.50         1490      8102   \n",
              "\n",
              "      floors  waterfront  view  condition  sqft_above  sqft_basement  \\\n",
              "0        1.5           0     0          3        1340              0   \n",
              "1        2.0           0     4          5        3370            280   \n",
              "2        1.0           0     0          4        1930              0   \n",
              "3        1.0           0     0          4        1000           1000   \n",
              "4        1.0           0     0          4        1140            800   \n",
              "...      ...         ...   ...        ...         ...            ...   \n",
              "4595     1.0           0     0          4        1510              0   \n",
              "4596     2.0           0     0          3        1460              0   \n",
              "4597     2.0           0     0          3        3010              0   \n",
              "4598     1.0           0     0          3        1070           1020   \n",
              "4599     2.0           0     0          4        1490              0   \n",
              "\n",
              "      yr_built  yr_renovated                    street       city statezip  \\\n",
              "0         1955          2005      18810 Densmore Ave N  Shoreline    98133   \n",
              "1         1921             0           709 W Blaine St    Seattle    98119   \n",
              "2         1966             0  26206-26214 143rd Ave SE       Kent    98042   \n",
              "3         1963             0           857 170th Pl NE   Bellevue    98008   \n",
              "4         1976          1992         9105 170th Ave NE    Redmond    98052   \n",
              "...        ...           ...                       ...        ...      ...   \n",
              "4595      1954          1979            501 N 143rd St    Seattle    98133   \n",
              "4596      1983          2009          14855 SE 10th Pl   Bellevue    98007   \n",
              "4597      2009             0          759 Ilwaco Pl NE     Renton    98059   \n",
              "4598      1974             0         5148 S Creston St    Seattle    98178   \n",
              "4599      1990             0         18717 SE 258th St  Covington    98042   \n",
              "\n",
              "     country  \n",
              "0        USA  \n",
              "1        USA  \n",
              "2        USA  \n",
              "3        USA  \n",
              "4        USA  \n",
              "...      ...  \n",
              "4595     USA  \n",
              "4596     USA  \n",
              "4597     USA  \n",
              "4598     USA  \n",
              "4599     USA  \n",
              "\n",
              "[4600 rows x 18 columns]"
            ],
            "text/html": [
              "\n",
              "  <div id=\"df-5b4c0937-8edc-438d-be0d-22f933c5257e\">\n",
              "    <div class=\"colab-df-container\">\n",
              "      <div>\n",
              "<style scoped>\n",
              "    .dataframe tbody tr th:only-of-type {\n",
              "        vertical-align: middle;\n",
              "    }\n",
              "\n",
              "    .dataframe tbody tr th {\n",
              "        vertical-align: top;\n",
              "    }\n",
              "\n",
              "    .dataframe thead th {\n",
              "        text-align: right;\n",
              "    }\n",
              "</style>\n",
              "<table border=\"1\" class=\"dataframe\">\n",
              "  <thead>\n",
              "    <tr style=\"text-align: right;\">\n",
              "      <th></th>\n",
              "      <th>date</th>\n",
              "      <th>price</th>\n",
              "      <th>bedrooms</th>\n",
              "      <th>bathrooms</th>\n",
              "      <th>sqft_living</th>\n",
              "      <th>sqft_lot</th>\n",
              "      <th>floors</th>\n",
              "      <th>waterfront</th>\n",
              "      <th>view</th>\n",
              "      <th>condition</th>\n",
              "      <th>sqft_above</th>\n",
              "      <th>sqft_basement</th>\n",
              "      <th>yr_built</th>\n",
              "      <th>yr_renovated</th>\n",
              "      <th>street</th>\n",
              "      <th>city</th>\n",
              "      <th>statezip</th>\n",
              "      <th>country</th>\n",
              "    </tr>\n",
              "  </thead>\n",
              "  <tbody>\n",
              "    <tr>\n",
              "      <th>0</th>\n",
              "      <td>2014 05 02</td>\n",
              "      <td>3.130000e+05</td>\n",
              "      <td>3.0</td>\n",
              "      <td>1.50</td>\n",
              "      <td>1340</td>\n",
              "      <td>7912</td>\n",
              "      <td>1.5</td>\n",
              "      <td>0</td>\n",
              "      <td>0</td>\n",
              "      <td>3</td>\n",
              "      <td>1340</td>\n",
              "      <td>0</td>\n",
              "      <td>1955</td>\n",
              "      <td>2005</td>\n",
              "      <td>18810 Densmore Ave N</td>\n",
              "      <td>Shoreline</td>\n",
              "      <td>98133</td>\n",
              "      <td>USA</td>\n",
              "    </tr>\n",
              "    <tr>\n",
              "      <th>1</th>\n",
              "      <td>2014 05 02</td>\n",
              "      <td>2.384000e+06</td>\n",
              "      <td>5.0</td>\n",
              "      <td>2.50</td>\n",
              "      <td>3650</td>\n",
              "      <td>9050</td>\n",
              "      <td>2.0</td>\n",
              "      <td>0</td>\n",
              "      <td>4</td>\n",
              "      <td>5</td>\n",
              "      <td>3370</td>\n",
              "      <td>280</td>\n",
              "      <td>1921</td>\n",
              "      <td>0</td>\n",
              "      <td>709 W Blaine St</td>\n",
              "      <td>Seattle</td>\n",
              "      <td>98119</td>\n",
              "      <td>USA</td>\n",
              "    </tr>\n",
              "    <tr>\n",
              "      <th>2</th>\n",
              "      <td>2014 05 02</td>\n",
              "      <td>3.420000e+05</td>\n",
              "      <td>3.0</td>\n",
              "      <td>2.00</td>\n",
              "      <td>1930</td>\n",
              "      <td>11947</td>\n",
              "      <td>1.0</td>\n",
              "      <td>0</td>\n",
              "      <td>0</td>\n",
              "      <td>4</td>\n",
              "      <td>1930</td>\n",
              "      <td>0</td>\n",
              "      <td>1966</td>\n",
              "      <td>0</td>\n",
              "      <td>26206-26214 143rd Ave SE</td>\n",
              "      <td>Kent</td>\n",
              "      <td>98042</td>\n",
              "      <td>USA</td>\n",
              "    </tr>\n",
              "    <tr>\n",
              "      <th>3</th>\n",
              "      <td>2014 05 02</td>\n",
              "      <td>4.200000e+05</td>\n",
              "      <td>3.0</td>\n",
              "      <td>2.25</td>\n",
              "      <td>2000</td>\n",
              "      <td>8030</td>\n",
              "      <td>1.0</td>\n",
              "      <td>0</td>\n",
              "      <td>0</td>\n",
              "      <td>4</td>\n",
              "      <td>1000</td>\n",
              "      <td>1000</td>\n",
              "      <td>1963</td>\n",
              "      <td>0</td>\n",
              "      <td>857 170th Pl NE</td>\n",
              "      <td>Bellevue</td>\n",
              "      <td>98008</td>\n",
              "      <td>USA</td>\n",
              "    </tr>\n",
              "    <tr>\n",
              "      <th>4</th>\n",
              "      <td>2014 05 02</td>\n",
              "      <td>5.500000e+05</td>\n",
              "      <td>4.0</td>\n",
              "      <td>2.50</td>\n",
              "      <td>1940</td>\n",
              "      <td>10500</td>\n",
              "      <td>1.0</td>\n",
              "      <td>0</td>\n",
              "      <td>0</td>\n",
              "      <td>4</td>\n",
              "      <td>1140</td>\n",
              "      <td>800</td>\n",
              "      <td>1976</td>\n",
              "      <td>1992</td>\n",
              "      <td>9105 170th Ave NE</td>\n",
              "      <td>Redmond</td>\n",
              "      <td>98052</td>\n",
              "      <td>USA</td>\n",
              "    </tr>\n",
              "    <tr>\n",
              "      <th>...</th>\n",
              "      <td>...</td>\n",
              "      <td>...</td>\n",
              "      <td>...</td>\n",
              "      <td>...</td>\n",
              "      <td>...</td>\n",
              "      <td>...</td>\n",
              "      <td>...</td>\n",
              "      <td>...</td>\n",
              "      <td>...</td>\n",
              "      <td>...</td>\n",
              "      <td>...</td>\n",
              "      <td>...</td>\n",
              "      <td>...</td>\n",
              "      <td>...</td>\n",
              "      <td>...</td>\n",
              "      <td>...</td>\n",
              "      <td>...</td>\n",
              "      <td>...</td>\n",
              "    </tr>\n",
              "    <tr>\n",
              "      <th>4595</th>\n",
              "      <td>2014 07 09</td>\n",
              "      <td>3.081667e+05</td>\n",
              "      <td>3.0</td>\n",
              "      <td>1.75</td>\n",
              "      <td>1510</td>\n",
              "      <td>6360</td>\n",
              "      <td>1.0</td>\n",
              "      <td>0</td>\n",
              "      <td>0</td>\n",
              "      <td>4</td>\n",
              "      <td>1510</td>\n",
              "      <td>0</td>\n",
              "      <td>1954</td>\n",
              "      <td>1979</td>\n",
              "      <td>501 N 143rd St</td>\n",
              "      <td>Seattle</td>\n",
              "      <td>98133</td>\n",
              "      <td>USA</td>\n",
              "    </tr>\n",
              "    <tr>\n",
              "      <th>4596</th>\n",
              "      <td>2014 07 09</td>\n",
              "      <td>5.343333e+05</td>\n",
              "      <td>3.0</td>\n",
              "      <td>2.50</td>\n",
              "      <td>1460</td>\n",
              "      <td>7573</td>\n",
              "      <td>2.0</td>\n",
              "      <td>0</td>\n",
              "      <td>0</td>\n",
              "      <td>3</td>\n",
              "      <td>1460</td>\n",
              "      <td>0</td>\n",
              "      <td>1983</td>\n",
              "      <td>2009</td>\n",
              "      <td>14855 SE 10th Pl</td>\n",
              "      <td>Bellevue</td>\n",
              "      <td>98007</td>\n",
              "      <td>USA</td>\n",
              "    </tr>\n",
              "    <tr>\n",
              "      <th>4597</th>\n",
              "      <td>2014 07 09</td>\n",
              "      <td>4.169042e+05</td>\n",
              "      <td>3.0</td>\n",
              "      <td>2.50</td>\n",
              "      <td>3010</td>\n",
              "      <td>7014</td>\n",
              "      <td>2.0</td>\n",
              "      <td>0</td>\n",
              "      <td>0</td>\n",
              "      <td>3</td>\n",
              "      <td>3010</td>\n",
              "      <td>0</td>\n",
              "      <td>2009</td>\n",
              "      <td>0</td>\n",
              "      <td>759 Ilwaco Pl NE</td>\n",
              "      <td>Renton</td>\n",
              "      <td>98059</td>\n",
              "      <td>USA</td>\n",
              "    </tr>\n",
              "    <tr>\n",
              "      <th>4598</th>\n",
              "      <td>2014 07 10</td>\n",
              "      <td>2.034000e+05</td>\n",
              "      <td>4.0</td>\n",
              "      <td>2.00</td>\n",
              "      <td>2090</td>\n",
              "      <td>6630</td>\n",
              "      <td>1.0</td>\n",
              "      <td>0</td>\n",
              "      <td>0</td>\n",
              "      <td>3</td>\n",
              "      <td>1070</td>\n",
              "      <td>1020</td>\n",
              "      <td>1974</td>\n",
              "      <td>0</td>\n",
              "      <td>5148 S Creston St</td>\n",
              "      <td>Seattle</td>\n",
              "      <td>98178</td>\n",
              "      <td>USA</td>\n",
              "    </tr>\n",
              "    <tr>\n",
              "      <th>4599</th>\n",
              "      <td>2014 07 10</td>\n",
              "      <td>2.206000e+05</td>\n",
              "      <td>3.0</td>\n",
              "      <td>2.50</td>\n",
              "      <td>1490</td>\n",
              "      <td>8102</td>\n",
              "      <td>2.0</td>\n",
              "      <td>0</td>\n",
              "      <td>0</td>\n",
              "      <td>4</td>\n",
              "      <td>1490</td>\n",
              "      <td>0</td>\n",
              "      <td>1990</td>\n",
              "      <td>0</td>\n",
              "      <td>18717 SE 258th St</td>\n",
              "      <td>Covington</td>\n",
              "      <td>98042</td>\n",
              "      <td>USA</td>\n",
              "    </tr>\n",
              "  </tbody>\n",
              "</table>\n",
              "<p>4600 rows × 18 columns</p>\n",
              "</div>\n",
              "      <button class=\"colab-df-convert\" onclick=\"convertToInteractive('df-5b4c0937-8edc-438d-be0d-22f933c5257e')\"\n",
              "              title=\"Convert this dataframe to an interactive table.\"\n",
              "              style=\"display:none;\">\n",
              "        \n",
              "  <svg xmlns=\"http://www.w3.org/2000/svg\" height=\"24px\"viewBox=\"0 0 24 24\"\n",
              "       width=\"24px\">\n",
              "    <path d=\"M0 0h24v24H0V0z\" fill=\"none\"/>\n",
              "    <path d=\"M18.56 5.44l.94 2.06.94-2.06 2.06-.94-2.06-.94-.94-2.06-.94 2.06-2.06.94zm-11 1L8.5 8.5l.94-2.06 2.06-.94-2.06-.94L8.5 2.5l-.94 2.06-2.06.94zm10 10l.94 2.06.94-2.06 2.06-.94-2.06-.94-.94-2.06-.94 2.06-2.06.94z\"/><path d=\"M17.41 7.96l-1.37-1.37c-.4-.4-.92-.59-1.43-.59-.52 0-1.04.2-1.43.59L10.3 9.45l-7.72 7.72c-.78.78-.78 2.05 0 2.83L4 21.41c.39.39.9.59 1.41.59.51 0 1.02-.2 1.41-.59l7.78-7.78 2.81-2.81c.8-.78.8-2.07 0-2.86zM5.41 20L4 18.59l7.72-7.72 1.47 1.35L5.41 20z\"/>\n",
              "  </svg>\n",
              "      </button>\n",
              "      \n",
              "  <style>\n",
              "    .colab-df-container {\n",
              "      display:flex;\n",
              "      flex-wrap:wrap;\n",
              "      gap: 12px;\n",
              "    }\n",
              "\n",
              "    .colab-df-convert {\n",
              "      background-color: #E8F0FE;\n",
              "      border: none;\n",
              "      border-radius: 50%;\n",
              "      cursor: pointer;\n",
              "      display: none;\n",
              "      fill: #1967D2;\n",
              "      height: 32px;\n",
              "      padding: 0 0 0 0;\n",
              "      width: 32px;\n",
              "    }\n",
              "\n",
              "    .colab-df-convert:hover {\n",
              "      background-color: #E2EBFA;\n",
              "      box-shadow: 0px 1px 2px rgba(60, 64, 67, 0.3), 0px 1px 3px 1px rgba(60, 64, 67, 0.15);\n",
              "      fill: #174EA6;\n",
              "    }\n",
              "\n",
              "    [theme=dark] .colab-df-convert {\n",
              "      background-color: #3B4455;\n",
              "      fill: #D2E3FC;\n",
              "    }\n",
              "\n",
              "    [theme=dark] .colab-df-convert:hover {\n",
              "      background-color: #434B5C;\n",
              "      box-shadow: 0px 1px 3px 1px rgba(0, 0, 0, 0.15);\n",
              "      filter: drop-shadow(0px 1px 2px rgba(0, 0, 0, 0.3));\n",
              "      fill: #FFFFFF;\n",
              "    }\n",
              "  </style>\n",
              "\n",
              "      <script>\n",
              "        const buttonEl =\n",
              "          document.querySelector('#df-5b4c0937-8edc-438d-be0d-22f933c5257e button.colab-df-convert');\n",
              "        buttonEl.style.display =\n",
              "          google.colab.kernel.accessAllowed ? 'block' : 'none';\n",
              "\n",
              "        async function convertToInteractive(key) {\n",
              "          const element = document.querySelector('#df-5b4c0937-8edc-438d-be0d-22f933c5257e');\n",
              "          const dataTable =\n",
              "            await google.colab.kernel.invokeFunction('convertToInteractive',\n",
              "                                                     [key], {});\n",
              "          if (!dataTable) return;\n",
              "\n",
              "          const docLinkHtml = 'Like what you see? Visit the ' +\n",
              "            '<a target=\"_blank\" href=https://colab.research.google.com/notebooks/data_table.ipynb>data table notebook</a>'\n",
              "            + ' to learn more about interactive tables.';\n",
              "          element.innerHTML = '';\n",
              "          dataTable['output_type'] = 'display_data';\n",
              "          await google.colab.output.renderOutput(dataTable, element);\n",
              "          const docLink = document.createElement('div');\n",
              "          docLink.innerHTML = docLinkHtml;\n",
              "          element.appendChild(docLink);\n",
              "        }\n",
              "      </script>\n",
              "    </div>\n",
              "  </div>\n",
              "  "
            ]
          },
          "metadata": {},
          "execution_count": 96
        }
      ],
      "source": [
        "Data['statezip']=preprocessed_statezip\n",
        "Data['date']=preprocessed_date\n",
        "Data"
      ]
    },
    {
      "cell_type": "code",
      "source": [
        "Data = Data.drop('date',axis =1)\n",
        "Data = Data.drop('country',axis =1)"
      ],
      "metadata": {
        "id": "LcCNomq44Rza"
      },
      "execution_count": null,
      "outputs": []
    },
    {
      "cell_type": "code",
      "execution_count": null,
      "metadata": {
        "id": "oE4cOm259Jy8"
      },
      "outputs": [],
      "source": [
        "label_encoder = LabelEncoder()\n",
        "Data[\"city\"] = label_encoder.fit_transform(Data[\"city\"])\n",
        "Data[\"street\"] = label_encoder.fit_transform(Data[\"street\"])\n",
        "#Data[\"date\"] = label_encoder.fit_transform(Data[\"date\"])\n",
        "#Data[\"country\"] = label_encoder.fit_transform(Data[\"country\"])"
      ]
    },
    {
      "cell_type": "code",
      "execution_count": null,
      "metadata": {
        "id": "09YyLP-D9Jy9"
      },
      "outputs": [],
      "source": [
        "X = Data.drop('price',axis =1).values\n",
        "y = Data['price'].values"
      ]
    },
    {
      "cell_type": "code",
      "execution_count": null,
      "metadata": {
        "id": "o2FcsQ-b9Jy-"
      },
      "outputs": [],
      "source": [
        "X_train, X_test, y_train, y_test = train_test_split(X, y, test_size=0.2, random_state=101)"
      ]
    },
    {
      "cell_type": "code",
      "execution_count": null,
      "metadata": {
        "id": "AUlxyIvJ9Fli"
      },
      "outputs": [],
      "source": [
        "#s_scaler = StandardScaler()\n",
        "#X_train = s_scaler.fit_transform(X_train.astype(np.float))\n",
        "#X_test = s_scaler.transform(X_test.astype(np.float))"
      ]
    },
    {
      "cell_type": "code",
      "execution_count": null,
      "metadata": {
        "id": "NRRFsYvs3Jlk"
      },
      "outputs": [],
      "source": [
        "X_train = np.asarray(X_train).astype(np.float32)\n",
        "y_train = np.asarray(y_train).astype(np.float32)\n",
        "X_test = np.asarray(X_train).astype(np.float32)\n",
        "y_test= np.asarray(y_train).astype(np.float32)"
      ]
    },
    {
      "cell_type": "markdown",
      "metadata": {
        "id": "ALnbMdpQ3EGp"
      },
      "source": [
        "## Model Selection and Evaluation"
      ]
    },
    {
      "cell_type": "markdown",
      "metadata": {
        "id": "G5Yv0i6-S2My"
      },
      "source": [
        "#### Model One : 2 layers with ReLu as of activation function"
      ]
    },
    {
      "cell_type": "code",
      "execution_count": null,
      "metadata": {
        "colab": {
          "base_uri": "https://localhost:8080/"
        },
        "id": "3fSHYg_M3HGE",
        "outputId": "7853dc14-3f3d-4f4c-90df-f309d311b438"
      },
      "outputs": [
        {
          "output_type": "stream",
          "name": "stdout",
          "text": [
            "Epoch 1/150\n",
            "196/196 [==============================] - 1s 3ms/step - loss: 640621805568.0000 - mse: 640621805568.0000 - mae: 541944.5000 - val_loss: 343080861696.0000 - val_mse: 343080861696.0000 - val_mae: 487943.7812\n",
            "Epoch 2/150\n",
            "196/196 [==============================] - 0s 2ms/step - loss: 530527715328.0000 - mse: 530527715328.0000 - mae: 428815.4688 - val_loss: 210369118208.0000 - val_mse: 210369118208.0000 - val_mae: 332702.6562\n",
            "Epoch 3/150\n",
            "196/196 [==============================] - 0s 2ms/step - loss: 413027729408.0000 - mse: 413027729408.0000 - mae: 285389.9375 - val_loss: 128752836608.0000 - val_mse: 128752836608.0000 - val_mae: 228885.7031\n",
            "Epoch 4/150\n",
            "196/196 [==============================] - 0s 2ms/step - loss: 361194422272.0000 - mse: 361194422272.0000 - mae: 236050.9688 - val_loss: 106112589824.0000 - val_mse: 106112589824.0000 - val_mae: 214360.7812\n",
            "Epoch 5/150\n",
            "196/196 [==============================] - 0s 2ms/step - loss: 349251862528.0000 - mse: 349251862528.0000 - mae: 235541.0312 - val_loss: 102669172736.0000 - val_mse: 102669172736.0000 - val_mae: 219140.1250\n",
            "Epoch 6/150\n",
            "196/196 [==============================] - 0s 2ms/step - loss: 346589986816.0000 - mse: 346589986816.0000 - mae: 238995.2188 - val_loss: 101800345600.0000 - val_mse: 101800345600.0000 - val_mae: 221953.3750\n",
            "Epoch 7/150\n",
            "196/196 [==============================] - 0s 2ms/step - loss: 345079971840.0000 - mse: 345079971840.0000 - mae: 239693.4844 - val_loss: 101073707008.0000 - val_mse: 101073707008.0000 - val_mae: 222151.8906\n",
            "Epoch 8/150\n",
            "196/196 [==============================] - 0s 2ms/step - loss: 343828561920.0000 - mse: 343828561920.0000 - mae: 239628.3750 - val_loss: 100509753344.0000 - val_mse: 100509753344.0000 - val_mae: 222650.4688\n",
            "Epoch 9/150\n",
            "196/196 [==============================] - 0s 2ms/step - loss: 342721691648.0000 - mse: 342721691648.0000 - mae: 239416.6406 - val_loss: 99855499264.0000 - val_mse: 99855499264.0000 - val_mae: 221464.5312\n",
            "Epoch 10/150\n",
            "196/196 [==============================] - 0s 2ms/step - loss: 341755396096.0000 - mse: 341755396096.0000 - mae: 239000.0781 - val_loss: 99302277120.0000 - val_mse: 99302277120.0000 - val_mae: 221437.2812\n",
            "Epoch 11/150\n",
            "196/196 [==============================] - 0s 2ms/step - loss: 340866498560.0000 - mse: 340866498560.0000 - mae: 238186.7812 - val_loss: 99021651968.0000 - val_mse: 99021651968.0000 - val_mae: 223251.0156\n",
            "Epoch 12/150\n",
            "196/196 [==============================] - 0s 2ms/step - loss: 340134035456.0000 - mse: 340134035456.0000 - mae: 237978.9219 - val_loss: 98355519488.0000 - val_mse: 98355519488.0000 - val_mae: 221173.4531\n",
            "Epoch 13/150\n",
            "196/196 [==============================] - 0s 2ms/step - loss: 339420774400.0000 - mse: 339420774400.0000 - mae: 237536.3750 - val_loss: 97992941568.0000 - val_mse: 97992941568.0000 - val_mae: 221770.1094\n",
            "Epoch 14/150\n",
            "196/196 [==============================] - 0s 2ms/step - loss: 338748080128.0000 - mse: 338748080128.0000 - mae: 237985.1719 - val_loss: 97419239424.0000 - val_mse: 97419239424.0000 - val_mae: 220231.5000\n",
            "Epoch 15/150\n",
            "196/196 [==============================] - 0s 2ms/step - loss: 338106351616.0000 - mse: 338106351616.0000 - mae: 236347.2969 - val_loss: 97117175808.0000 - val_mse: 97117175808.0000 - val_mae: 221215.7188\n",
            "Epoch 16/150\n",
            "196/196 [==============================] - 1s 3ms/step - loss: 337552801792.0000 - mse: 337552801792.0000 - mae: 236611.6562 - val_loss: 96670613504.0000 - val_mse: 96670613504.0000 - val_mae: 220823.0469\n",
            "Epoch 17/150\n",
            "196/196 [==============================] - 1s 6ms/step - loss: 337036410880.0000 - mse: 337036410880.0000 - mae: 237747.5156 - val_loss: 96109961216.0000 - val_mse: 96109961216.0000 - val_mae: 219407.3906\n",
            "Epoch 18/150\n",
            "196/196 [==============================] - 0s 2ms/step - loss: 336381378560.0000 - mse: 336381378560.0000 - mae: 235717.2812 - val_loss: 95536381952.0000 - val_mse: 95536381952.0000 - val_mae: 217466.2344\n",
            "Epoch 19/150\n",
            "196/196 [==============================] - 0s 2ms/step - loss: 335859122176.0000 - mse: 335859122176.0000 - mae: 235705.7812 - val_loss: 95051776000.0000 - val_mse: 95051776000.0000 - val_mae: 216763.3750\n",
            "Epoch 20/150\n",
            "196/196 [==============================] - 0s 2ms/step - loss: 335270674432.0000 - mse: 335270674432.0000 - mae: 233647.1875 - val_loss: 94620778496.0000 - val_mse: 94620778496.0000 - val_mae: 216977.4531\n",
            "Epoch 21/150\n",
            "196/196 [==============================] - 0s 2ms/step - loss: 334683373568.0000 - mse: 334683373568.0000 - mae: 234573.3125 - val_loss: 94094753792.0000 - val_mse: 94094753792.0000 - val_mae: 215867.9219\n",
            "Epoch 22/150\n",
            "196/196 [==============================] - 0s 2ms/step - loss: 334109868032.0000 - mse: 334109868032.0000 - mae: 233290.2031 - val_loss: 93657792512.0000 - val_mse: 93657792512.0000 - val_mae: 215991.4844\n",
            "Epoch 23/150\n",
            "196/196 [==============================] - 0s 2ms/step - loss: 333568376832.0000 - mse: 333568376832.0000 - mae: 232945.5938 - val_loss: 93090709504.0000 - val_mse: 93090709504.0000 - val_mae: 215063.5156\n",
            "Epoch 24/150\n",
            "196/196 [==============================] - 0s 2ms/step - loss: 332993298432.0000 - mse: 332993298432.0000 - mae: 233127.9531 - val_loss: 92457803776.0000 - val_mse: 92457803776.0000 - val_mae: 212990.4219\n",
            "Epoch 25/150\n",
            "196/196 [==============================] - 0s 2ms/step - loss: 332253659136.0000 - mse: 332253659136.0000 - mae: 229444.6406 - val_loss: 92304941056.0000 - val_mse: 92304941056.0000 - val_mae: 216141.0938\n",
            "Epoch 26/150\n",
            "196/196 [==============================] - 0s 2ms/step - loss: 331747721216.0000 - mse: 331747721216.0000 - mae: 232884.5625 - val_loss: 91384356864.0000 - val_mse: 91384356864.0000 - val_mae: 211785.7656\n",
            "Epoch 27/150\n",
            "196/196 [==============================] - 0s 2ms/step - loss: 331058774016.0000 - mse: 331058774016.0000 - mae: 230336.7344 - val_loss: 90791698432.0000 - val_mse: 90791698432.0000 - val_mae: 210729.7031\n",
            "Epoch 28/150\n",
            "196/196 [==============================] - 0s 2ms/step - loss: 330443882496.0000 - mse: 330443882496.0000 - mae: 228208.4219 - val_loss: 90308984832.0000 - val_mse: 90308984832.0000 - val_mae: 211217.4219\n",
            "Epoch 29/150\n",
            "196/196 [==============================] - 0s 2ms/step - loss: 329811263488.0000 - mse: 329811263488.0000 - mae: 228476.5625 - val_loss: 89899294720.0000 - val_mse: 89899294720.0000 - val_mae: 212182.7031\n",
            "Epoch 30/150\n",
            "196/196 [==============================] - 0s 2ms/step - loss: 329124446208.0000 - mse: 329124446208.0000 - mae: 228034.8594 - val_loss: 89240682496.0000 - val_mse: 89240682496.0000 - val_mae: 210878.2812\n",
            "Epoch 31/150\n",
            "196/196 [==============================] - 0s 2ms/step - loss: 328462827520.0000 - mse: 328462827520.0000 - mae: 227472.1562 - val_loss: 88527396864.0000 - val_mse: 88527396864.0000 - val_mae: 208999.2969\n",
            "Epoch 32/150\n",
            "196/196 [==============================] - 0s 2ms/step - loss: 327844986880.0000 - mse: 327844986880.0000 - mae: 227141.6719 - val_loss: 87827644416.0000 - val_mse: 87827644416.0000 - val_mae: 207018.9219\n",
            "Epoch 33/150\n",
            "196/196 [==============================] - 0s 2ms/step - loss: 327116357632.0000 - mse: 327116357632.0000 - mae: 225123.0469 - val_loss: 87339909120.0000 - val_mse: 87339909120.0000 - val_mae: 207848.0938\n",
            "Epoch 34/150\n",
            "196/196 [==============================] - 0s 2ms/step - loss: 326323273728.0000 - mse: 326323273728.0000 - mae: 226353.9375 - val_loss: 86517882880.0000 - val_mse: 86517882880.0000 - val_mae: 203834.6406\n",
            "Epoch 35/150\n",
            "196/196 [==============================] - 0s 2ms/step - loss: 325736366080.0000 - mse: 325736366080.0000 - mae: 222706.6406 - val_loss: 86085222400.0000 - val_mse: 86085222400.0000 - val_mae: 206082.9062\n",
            "Epoch 36/150\n",
            "196/196 [==============================] - 0s 2ms/step - loss: 324903501824.0000 - mse: 324903501824.0000 - mae: 221863.4531 - val_loss: 85592809472.0000 - val_mse: 85592809472.0000 - val_mae: 206268.7031\n",
            "Epoch 37/150\n",
            "196/196 [==============================] - 0s 2ms/step - loss: 324236869632.0000 - mse: 324236869632.0000 - mae: 224646.6562 - val_loss: 84651188224.0000 - val_mse: 84651188224.0000 - val_mae: 202628.7969\n",
            "Epoch 38/150\n",
            "196/196 [==============================] - 0s 2ms/step - loss: 323508535296.0000 - mse: 323508535296.0000 - mae: 220665.5781 - val_loss: 84087881728.0000 - val_mse: 84087881728.0000 - val_mae: 202536.5312\n",
            "Epoch 39/150\n",
            "196/196 [==============================] - 0s 2ms/step - loss: 322856550400.0000 - mse: 322856550400.0000 - mae: 220905.9688 - val_loss: 83405873152.0000 - val_mse: 83405873152.0000 - val_mae: 201158.6875\n",
            "Epoch 40/150\n",
            "196/196 [==============================] - 0s 2ms/step - loss: 322071134208.0000 - mse: 322071134208.0000 - mae: 220010.5625 - val_loss: 82705809408.0000 - val_mse: 82705809408.0000 - val_mae: 199677.0938\n",
            "Epoch 41/150\n",
            "196/196 [==============================] - 0s 2ms/step - loss: 321308065792.0000 - mse: 321308065792.0000 - mae: 219017.8281 - val_loss: 82032164864.0000 - val_mse: 82032164864.0000 - val_mae: 198476.6406\n",
            "Epoch 42/150\n",
            "196/196 [==============================] - 0s 2ms/step - loss: 320650117120.0000 - mse: 320650117120.0000 - mae: 217933.3125 - val_loss: 81413562368.0000 - val_mse: 81413562368.0000 - val_mae: 198128.7812\n",
            "Epoch 43/150\n",
            "196/196 [==============================] - 0s 2ms/step - loss: 319838846976.0000 - mse: 319838846976.0000 - mae: 215764.1875 - val_loss: 80905134080.0000 - val_mse: 80905134080.0000 - val_mae: 198760.0938\n",
            "Epoch 44/150\n",
            "196/196 [==============================] - 0s 2ms/step - loss: 319152488448.0000 - mse: 319152488448.0000 - mae: 216657.5938 - val_loss: 80155729920.0000 - val_mse: 80155729920.0000 - val_mae: 196993.4375\n",
            "Epoch 45/150\n",
            "196/196 [==============================] - 0s 2ms/step - loss: 318372184064.0000 - mse: 318372184064.0000 - mae: 213565.1719 - val_loss: 79751446528.0000 - val_mse: 79751446528.0000 - val_mae: 198039.0625\n",
            "Epoch 46/150\n",
            "196/196 [==============================] - 0s 2ms/step - loss: 317563731968.0000 - mse: 317563731968.0000 - mae: 213920.8750 - val_loss: 79196086272.0000 - val_mse: 79196086272.0000 - val_mae: 197635.2031\n",
            "Epoch 47/150\n",
            "196/196 [==============================] - 0s 2ms/step - loss: 316887400448.0000 - mse: 316887400448.0000 - mae: 213310.9219 - val_loss: 78388224000.0000 - val_mse: 78388224000.0000 - val_mae: 195549.3594\n",
            "Epoch 48/150\n",
            "196/196 [==============================] - 0s 2ms/step - loss: 316175253504.0000 - mse: 316175253504.0000 - mae: 214244.7500 - val_loss: 77463068672.0000 - val_mse: 77463068672.0000 - val_mae: 192051.5469\n",
            "Epoch 49/150\n",
            "196/196 [==============================] - 0s 2ms/step - loss: 315331837952.0000 - mse: 315331837952.0000 - mae: 211588.0312 - val_loss: 76825026560.0000 - val_mse: 76825026560.0000 - val_mae: 190678.9062\n",
            "Epoch 50/150\n",
            "196/196 [==============================] - 0s 2ms/step - loss: 314461421568.0000 - mse: 314461421568.0000 - mae: 207459.8125 - val_loss: 76479741952.0000 - val_mse: 76479741952.0000 - val_mae: 192398.2188\n",
            "Epoch 51/150\n",
            "196/196 [==============================] - 0s 2ms/step - loss: 314130169856.0000 - mse: 314130169856.0000 - mae: 211280.8438 - val_loss: 75911610368.0000 - val_mse: 75911610368.0000 - val_mae: 191541.8281\n",
            "Epoch 52/150\n",
            "196/196 [==============================] - 0s 2ms/step - loss: 313182945280.0000 - mse: 313182945280.0000 - mae: 208645.5312 - val_loss: 75443314688.0000 - val_mse: 75443314688.0000 - val_mae: 191607.7344\n",
            "Epoch 53/150\n",
            "196/196 [==============================] - 0s 2ms/step - loss: 312476958720.0000 - mse: 312476958720.0000 - mae: 209150.9531 - val_loss: 74456186880.0000 - val_mse: 74456186880.0000 - val_mae: 187588.2344\n",
            "Epoch 54/150\n",
            "196/196 [==============================] - 0s 2ms/step - loss: 311859773440.0000 - mse: 311859773440.0000 - mae: 207959.2969 - val_loss: 73766993920.0000 - val_mse: 73766993920.0000 - val_mae: 185497.5469\n",
            "Epoch 55/150\n",
            "196/196 [==============================] - 0s 2ms/step - loss: 311132389376.0000 - mse: 311132389376.0000 - mae: 206398.2969 - val_loss: 73159360512.0000 - val_mse: 73159360512.0000 - val_mae: 184021.2500\n",
            "Epoch 56/150\n",
            "196/196 [==============================] - 0s 2ms/step - loss: 310583885824.0000 - mse: 310583885824.0000 - mae: 204602.6250 - val_loss: 72697241600.0000 - val_mse: 72697241600.0000 - val_mae: 184711.1719\n",
            "Epoch 57/150\n",
            "196/196 [==============================] - 0s 2ms/step - loss: 309858631680.0000 - mse: 309858631680.0000 - mae: 203637.2656 - val_loss: 72419524608.0000 - val_mse: 72419524608.0000 - val_mae: 186168.3750\n",
            "Epoch 58/150\n",
            "196/196 [==============================] - 0s 2ms/step - loss: 309134524416.0000 - mse: 309134524416.0000 - mae: 204711.4062 - val_loss: 71493984256.0000 - val_mse: 71493984256.0000 - val_mae: 181326.6719\n",
            "Epoch 59/150\n",
            "196/196 [==============================] - 0s 2ms/step - loss: 308509736960.0000 - mse: 308509736960.0000 - mae: 203166.8594 - val_loss: 70942302208.0000 - val_mse: 70942302208.0000 - val_mae: 180340.3281\n",
            "Epoch 60/150\n",
            "196/196 [==============================] - 0s 2ms/step - loss: 307771604992.0000 - mse: 307771604992.0000 - mae: 199790.2656 - val_loss: 71331430400.0000 - val_mse: 71331430400.0000 - val_mae: 186335.5000\n",
            "Epoch 61/150\n",
            "196/196 [==============================] - 0s 2ms/step - loss: 307440058368.0000 - mse: 307440058368.0000 - mae: 202200.1406 - val_loss: 70184361984.0000 - val_mse: 70184361984.0000 - val_mae: 181840.5469\n",
            "Epoch 62/150\n",
            "196/196 [==============================] - 0s 2ms/step - loss: 306609553408.0000 - mse: 306609553408.0000 - mae: 199106.9531 - val_loss: 69648408576.0000 - val_mse: 69648408576.0000 - val_mae: 180890.5000\n",
            "Epoch 63/150\n",
            "196/196 [==============================] - 0s 2ms/step - loss: 306150998016.0000 - mse: 306150998016.0000 - mae: 200697.2500 - val_loss: 69297029120.0000 - val_mse: 69297029120.0000 - val_mae: 181004.9688\n",
            "Epoch 64/150\n",
            "196/196 [==============================] - 0s 2ms/step - loss: 305447272448.0000 - mse: 305447272448.0000 - mae: 198695.2188 - val_loss: 68633636864.0000 - val_mse: 68633636864.0000 - val_mae: 179037.1562\n",
            "Epoch 65/150\n",
            "196/196 [==============================] - 0s 2ms/step - loss: 304883433472.0000 - mse: 304883433472.0000 - mae: 197979.7188 - val_loss: 68149932032.0000 - val_mse: 68149932032.0000 - val_mae: 178055.7656\n",
            "Epoch 66/150\n",
            "196/196 [==============================] - 0s 2ms/step - loss: 304400793600.0000 - mse: 304400793600.0000 - mae: 198360.6406 - val_loss: 67633979392.0000 - val_mse: 67633979392.0000 - val_mae: 176909.2969\n",
            "Epoch 67/150\n",
            "196/196 [==============================] - 0s 2ms/step - loss: 303752806400.0000 - mse: 303752806400.0000 - mae: 196245.2344 - val_loss: 67202162688.0000 - val_mse: 67202162688.0000 - val_mae: 176249.7031\n",
            "Epoch 68/150\n",
            "196/196 [==============================] - 0s 2ms/step - loss: 303237988352.0000 - mse: 303237988352.0000 - mae: 195933.7344 - val_loss: 66746974208.0000 - val_mse: 66746974208.0000 - val_mae: 175444.4219\n",
            "Epoch 69/150\n",
            "196/196 [==============================] - 0s 2ms/step - loss: 302662778880.0000 - mse: 302662778880.0000 - mae: 194382.1406 - val_loss: 66595000320.0000 - val_mse: 66595000320.0000 - val_mae: 176630.5469\n",
            "Epoch 70/150\n",
            "196/196 [==============================] - 0s 2ms/step - loss: 302182367232.0000 - mse: 302182367232.0000 - mae: 195348.7188 - val_loss: 65875304448.0000 - val_mse: 65875304448.0000 - val_mae: 173880.0781\n",
            "Epoch 71/150\n",
            "196/196 [==============================] - 0s 2ms/step - loss: 301636354048.0000 - mse: 301636354048.0000 - mae: 193413.0469 - val_loss: 65918275584.0000 - val_mse: 65918275584.0000 - val_mae: 175949.7031\n",
            "Epoch 72/150\n",
            "196/196 [==============================] - 0s 2ms/step - loss: 301148962816.0000 - mse: 301148962816.0000 - mae: 194381.3594 - val_loss: 65083301888.0000 - val_mse: 65083301888.0000 - val_mae: 172580.2969\n",
            "Epoch 73/150\n",
            "196/196 [==============================] - 0s 2ms/step - loss: 300703547392.0000 - mse: 300703547392.0000 - mae: 193224.7969 - val_loss: 64678035456.0000 - val_mse: 64678035456.0000 - val_mae: 171641.8125\n",
            "Epoch 74/150\n",
            "196/196 [==============================] - 0s 2ms/step - loss: 300217499648.0000 - mse: 300217499648.0000 - mae: 191655.9531 - val_loss: 64500355072.0000 - val_mse: 64500355072.0000 - val_mae: 172341.9062\n",
            "Epoch 75/150\n",
            "196/196 [==============================] - 0s 2ms/step - loss: 299783028736.0000 - mse: 299783028736.0000 - mae: 192234.9062 - val_loss: 64049758208.0000 - val_mse: 64049758208.0000 - val_mae: 171007.2969\n",
            "Epoch 76/150\n",
            "196/196 [==============================] - 0s 2ms/step - loss: 299366383616.0000 - mse: 299366383616.0000 - mae: 191303.0781 - val_loss: 63843819520.0000 - val_mse: 63843819520.0000 - val_mae: 171354.3125\n",
            "Epoch 77/150\n",
            "196/196 [==============================] - 0s 2ms/step - loss: 298952065024.0000 - mse: 298952065024.0000 - mae: 190767.6719 - val_loss: 63504756736.0000 - val_mse: 63504756736.0000 - val_mae: 170755.5000\n",
            "Epoch 78/150\n",
            "196/196 [==============================] - 0s 2ms/step - loss: 298491019264.0000 - mse: 298491019264.0000 - mae: 189976.1875 - val_loss: 63073755136.0000 - val_mse: 63073755136.0000 - val_mae: 169275.3906\n",
            "Epoch 79/150\n",
            "196/196 [==============================] - 0s 2ms/step - loss: 298061332480.0000 - mse: 298061332480.0000 - mae: 191023.8125 - val_loss: 62647672832.0000 - val_mse: 62647672832.0000 - val_mae: 166917.6406\n",
            "Epoch 80/150\n",
            "196/196 [==============================] - 0s 2ms/step - loss: 297806364672.0000 - mse: 297806364672.0000 - mae: 189077.5625 - val_loss: 62425677824.0000 - val_mse: 62425677824.0000 - val_mae: 167690.8281\n",
            "Epoch 81/150\n",
            "196/196 [==============================] - 0s 2ms/step - loss: 297403973632.0000 - mse: 297403973632.0000 - mae: 188343.1406 - val_loss: 62197108736.0000 - val_mse: 62197108736.0000 - val_mae: 167467.1562\n",
            "Epoch 82/150\n",
            "196/196 [==============================] - 0s 2ms/step - loss: 297040936960.0000 - mse: 297040936960.0000 - mae: 188461.4844 - val_loss: 61936513024.0000 - val_mse: 61936513024.0000 - val_mae: 167022.9062\n",
            "Epoch 83/150\n",
            "196/196 [==============================] - 0s 2ms/step - loss: 296546336768.0000 - mse: 296546336768.0000 - mae: 187370.4531 - val_loss: 62034104320.0000 - val_mse: 62034104320.0000 - val_mae: 168884.1094\n",
            "Epoch 84/150\n",
            "196/196 [==============================] - 0s 2ms/step - loss: 296318042112.0000 - mse: 296318042112.0000 - mae: 189057.5938 - val_loss: 61386895360.0000 - val_mse: 61386895360.0000 - val_mae: 165484.7188\n",
            "Epoch 85/150\n",
            "196/196 [==============================] - 0s 2ms/step - loss: 296036040704.0000 - mse: 296036040704.0000 - mae: 186475.4219 - val_loss: 61420187648.0000 - val_mse: 61420187648.0000 - val_mae: 167083.9062\n",
            "Epoch 86/150\n",
            "196/196 [==============================] - 0s 2ms/step - loss: 295747289088.0000 - mse: 295747289088.0000 - mae: 188062.2812 - val_loss: 61057118208.0000 - val_mse: 61057118208.0000 - val_mae: 165773.7188\n",
            "Epoch 87/150\n",
            "196/196 [==============================] - 0s 2ms/step - loss: 295443464192.0000 - mse: 295443464192.0000 - mae: 186510.6562 - val_loss: 60889366528.0000 - val_mse: 60889366528.0000 - val_mae: 165510.1562\n",
            "Epoch 88/150\n",
            "196/196 [==============================] - 0s 2ms/step - loss: 295235911680.0000 - mse: 295235911680.0000 - mae: 186789.1719 - val_loss: 60568608768.0000 - val_mse: 60568608768.0000 - val_mae: 164176.5156\n",
            "Epoch 89/150\n",
            "196/196 [==============================] - 0s 2ms/step - loss: 294843809792.0000 - mse: 294843809792.0000 - mae: 186588.2500 - val_loss: 60377055232.0000 - val_mse: 60377055232.0000 - val_mae: 163694.7656\n",
            "Epoch 90/150\n",
            "196/196 [==============================] - 0s 2ms/step - loss: 294672138240.0000 - mse: 294672138240.0000 - mae: 186117.6406 - val_loss: 60222251008.0000 - val_mse: 60222251008.0000 - val_mae: 163673.4062\n",
            "Epoch 91/150\n",
            "196/196 [==============================] - 0s 2ms/step - loss: 294389481472.0000 - mse: 294389481472.0000 - mae: 186182.8750 - val_loss: 60045422592.0000 - val_mse: 60045422592.0000 - val_mae: 162988.4531\n",
            "Epoch 92/150\n",
            "196/196 [==============================] - 0s 2ms/step - loss: 294313033728.0000 - mse: 294313033728.0000 - mae: 184941.6094 - val_loss: 59920580608.0000 - val_mse: 59920580608.0000 - val_mae: 163291.8594\n",
            "Epoch 93/150\n",
            "196/196 [==============================] - 0s 2ms/step - loss: 293957304320.0000 - mse: 293957304320.0000 - mae: 185378.4375 - val_loss: 59769163776.0000 - val_mse: 59769163776.0000 - val_mae: 163007.3594\n",
            "Epoch 94/150\n",
            "196/196 [==============================] - 0s 2ms/step - loss: 293848743936.0000 - mse: 293848743936.0000 - mae: 184566.0938 - val_loss: 59850399744.0000 - val_mse: 59850399744.0000 - val_mae: 164146.5938\n",
            "Epoch 95/150\n",
            "196/196 [==============================] - 0s 2ms/step - loss: 293704597504.0000 - mse: 293704597504.0000 - mae: 185615.6719 - val_loss: 59572301824.0000 - val_mse: 59572301824.0000 - val_mae: 163130.2031\n",
            "Epoch 96/150\n",
            "196/196 [==============================] - 0s 2ms/step - loss: 293394284544.0000 - mse: 293394284544.0000 - mae: 184369.0625 - val_loss: 59427901440.0000 - val_mse: 59427901440.0000 - val_mae: 162742.1875\n",
            "Epoch 97/150\n",
            "196/196 [==============================] - 0s 2ms/step - loss: 293135679488.0000 - mse: 293135679488.0000 - mae: 184043.7188 - val_loss: 59720593408.0000 - val_mse: 59720593408.0000 - val_mae: 164736.2656\n",
            "Epoch 98/150\n",
            "196/196 [==============================] - 0s 2ms/step - loss: 293096685568.0000 - mse: 293096685568.0000 - mae: 184343.9219 - val_loss: 59266617344.0000 - val_mse: 59266617344.0000 - val_mae: 162894.4375\n",
            "Epoch 99/150\n",
            "196/196 [==============================] - 0s 2ms/step - loss: 292751081472.0000 - mse: 292751081472.0000 - mae: 185739.9219 - val_loss: 59091824640.0000 - val_mse: 59091824640.0000 - val_mae: 161968.1719\n",
            "Epoch 100/150\n",
            "196/196 [==============================] - 0s 2ms/step - loss: 292766449664.0000 - mse: 292766449664.0000 - mae: 183239.8906 - val_loss: 59427827712.0000 - val_mse: 59427827712.0000 - val_mae: 164303.0938\n",
            "Epoch 101/150\n",
            "196/196 [==============================] - 0s 2ms/step - loss: 292612374528.0000 - mse: 292612374528.0000 - mae: 184272.1094 - val_loss: 59220090880.0000 - val_mse: 59220090880.0000 - val_mae: 163670.6875\n",
            "Epoch 102/150\n",
            "196/196 [==============================] - 0s 2ms/step - loss: 292477698048.0000 - mse: 292477698048.0000 - mae: 184980.7500 - val_loss: 58825424896.0000 - val_mse: 58825424896.0000 - val_mae: 161556.0156\n",
            "Epoch 103/150\n",
            "196/196 [==============================] - 0s 2ms/step - loss: 292262281216.0000 - mse: 292262281216.0000 - mae: 182723.4844 - val_loss: 59144327168.0000 - val_mse: 59144327168.0000 - val_mae: 163824.2812\n",
            "Epoch 104/150\n",
            "196/196 [==============================] - 0s 2ms/step - loss: 292175708160.0000 - mse: 292175708160.0000 - mae: 184426.2969 - val_loss: 58803654656.0000 - val_mse: 58803654656.0000 - val_mae: 162386.3594\n",
            "Epoch 105/150\n",
            "196/196 [==============================] - 0s 2ms/step - loss: 291972612096.0000 - mse: 291972612096.0000 - mae: 182904.4688 - val_loss: 59228798976.0000 - val_mse: 59228798976.0000 - val_mae: 164773.1250\n",
            "Epoch 106/150\n",
            "196/196 [==============================] - 0s 2ms/step - loss: 291876110336.0000 - mse: 291876110336.0000 - mae: 183521.4062 - val_loss: 59271757824.0000 - val_mse: 59271757824.0000 - val_mae: 165153.1250\n",
            "Epoch 107/150\n",
            "196/196 [==============================] - 0s 2ms/step - loss: 291935223808.0000 - mse: 291935223808.0000 - mae: 184778.4375 - val_loss: 58634051584.0000 - val_mse: 58634051584.0000 - val_mae: 162315.9531\n",
            "Epoch 108/150\n",
            "196/196 [==============================] - 0s 2ms/step - loss: 291801366528.0000 - mse: 291801366528.0000 - mae: 184025.9219 - val_loss: 58459959296.0000 - val_mse: 58459959296.0000 - val_mae: 161043.4062\n",
            "Epoch 109/150\n",
            "196/196 [==============================] - 0s 2ms/step - loss: 291709452288.0000 - mse: 291709452288.0000 - mae: 183048.1562 - val_loss: 58559127552.0000 - val_mse: 58559127552.0000 - val_mae: 162366.7344\n",
            "Epoch 110/150\n",
            "196/196 [==============================] - 1s 3ms/step - loss: 291561242624.0000 - mse: 291561242624.0000 - mae: 182936.8438 - val_loss: 58541084672.0000 - val_mse: 58541084672.0000 - val_mae: 162561.1875\n",
            "Epoch 111/150\n",
            "196/196 [==============================] - 1s 5ms/step - loss: 291441213440.0000 - mse: 291441213440.0000 - mae: 183260.6719 - val_loss: 58504949760.0000 - val_mse: 58504949760.0000 - val_mae: 162584.5781\n",
            "Epoch 112/150\n",
            "196/196 [==============================] - 1s 6ms/step - loss: 291424731136.0000 - mse: 291424731136.0000 - mae: 184505.4531 - val_loss: 58331451392.0000 - val_mse: 58331451392.0000 - val_mae: 161292.0781\n",
            "Epoch 113/150\n",
            "196/196 [==============================] - 1s 3ms/step - loss: 291305521152.0000 - mse: 291305521152.0000 - mae: 182752.3125 - val_loss: 58395054080.0000 - val_mse: 58395054080.0000 - val_mae: 162320.4219\n",
            "Epoch 114/150\n",
            "196/196 [==============================] - 0s 2ms/step - loss: 291299524608.0000 - mse: 291299524608.0000 - mae: 183441.5781 - val_loss: 58257637376.0000 - val_mse: 58257637376.0000 - val_mae: 161598.9688\n",
            "Epoch 115/150\n",
            "196/196 [==============================] - 0s 2ms/step - loss: 291190308864.0000 - mse: 291190308864.0000 - mae: 183016.1875 - val_loss: 58266382336.0000 - val_mse: 58266382336.0000 - val_mae: 161869.4531\n",
            "Epoch 116/150\n",
            "196/196 [==============================] - 0s 2ms/step - loss: 291185885184.0000 - mse: 291185885184.0000 - mae: 182784.9688 - val_loss: 58338754560.0000 - val_mse: 58338754560.0000 - val_mae: 162457.7500\n",
            "Epoch 117/150\n",
            "196/196 [==============================] - 0s 2ms/step - loss: 291023093760.0000 - mse: 291023093760.0000 - mae: 183777.1719 - val_loss: 58193641472.0000 - val_mse: 58193641472.0000 - val_mae: 161627.6094\n",
            "Epoch 118/150\n",
            "196/196 [==============================] - 0s 2ms/step - loss: 290997010432.0000 - mse: 290997010432.0000 - mae: 183080.7344 - val_loss: 58154639360.0000 - val_mse: 58154639360.0000 - val_mae: 161458.9844\n",
            "Epoch 119/150\n",
            "196/196 [==============================] - 0s 2ms/step - loss: 291049766912.0000 - mse: 291049766912.0000 - mae: 182756.5156 - val_loss: 58168303616.0000 - val_mse: 58168303616.0000 - val_mae: 161795.2969\n",
            "Epoch 120/150\n",
            "196/196 [==============================] - 0s 2ms/step - loss: 290719399936.0000 - mse: 290719399936.0000 - mae: 182003.7031 - val_loss: 58892718080.0000 - val_mse: 58892718080.0000 - val_mae: 165403.2812\n",
            "Epoch 121/150\n",
            "196/196 [==============================] - 0s 2ms/step - loss: 290815672320.0000 - mse: 290815672320.0000 - mae: 184931.3906 - val_loss: 58137092096.0000 - val_mse: 58137092096.0000 - val_mae: 161658.3906\n",
            "Epoch 122/150\n",
            "196/196 [==============================] - 0s 2ms/step - loss: 290931474432.0000 - mse: 290931474432.0000 - mae: 183150.9844 - val_loss: 58294657024.0000 - val_mse: 58294657024.0000 - val_mae: 162759.3906\n",
            "Epoch 123/150\n",
            "196/196 [==============================] - 0s 2ms/step - loss: 290891300864.0000 - mse: 290891300864.0000 - mae: 183226.9219 - val_loss: 58117144576.0000 - val_mse: 58117144576.0000 - val_mae: 161761.1406\n",
            "Epoch 124/150\n",
            "196/196 [==============================] - 0s 2ms/step - loss: 290774581248.0000 - mse: 290774581248.0000 - mae: 183151.2969 - val_loss: 58173292544.0000 - val_mse: 58173292544.0000 - val_mae: 162315.1094\n",
            "Epoch 125/150\n",
            "196/196 [==============================] - 0s 2ms/step - loss: 290608971776.0000 - mse: 290608971776.0000 - mae: 182678.8750 - val_loss: 58149928960.0000 - val_mse: 58149928960.0000 - val_mae: 162364.4844\n",
            "Epoch 126/150\n",
            "196/196 [==============================] - 0s 2ms/step - loss: 290667888640.0000 - mse: 290667888640.0000 - mae: 183497.5625 - val_loss: 58088173568.0000 - val_mse: 58088173568.0000 - val_mae: 161905.7188\n",
            "Epoch 127/150\n",
            "196/196 [==============================] - 0s 2ms/step - loss: 290584690688.0000 - mse: 290584690688.0000 - mae: 182821.0000 - val_loss: 58080223232.0000 - val_mse: 58080223232.0000 - val_mae: 161317.4844\n",
            "Epoch 128/150\n",
            "196/196 [==============================] - 0s 2ms/step - loss: 290437922816.0000 - mse: 290437922816.0000 - mae: 181952.1094 - val_loss: 58481065984.0000 - val_mse: 58481065984.0000 - val_mae: 164096.2812\n",
            "Epoch 129/150\n",
            "196/196 [==============================] - 0s 2ms/step - loss: 290505293824.0000 - mse: 290505293824.0000 - mae: 184373.2188 - val_loss: 58043629568.0000 - val_mse: 58043629568.0000 - val_mae: 161503.5469\n",
            "Epoch 130/150\n",
            "196/196 [==============================] - 0s 2ms/step - loss: 290533539840.0000 - mse: 290533539840.0000 - mae: 182826.5938 - val_loss: 58048630784.0000 - val_mse: 58048630784.0000 - val_mae: 161751.5156\n",
            "Epoch 131/150\n",
            "196/196 [==============================] - 0s 2ms/step - loss: 290509586432.0000 - mse: 290509586432.0000 - mae: 183056.4688 - val_loss: 58066350080.0000 - val_mse: 58066350080.0000 - val_mae: 161752.0469\n",
            "Epoch 132/150\n",
            "196/196 [==============================] - 0s 2ms/step - loss: 290381824000.0000 - mse: 290381824000.0000 - mae: 182774.1719 - val_loss: 58069286912.0000 - val_mse: 58069286912.0000 - val_mae: 161796.9219\n",
            "Epoch 133/150\n",
            "196/196 [==============================] - 0s 2ms/step - loss: 290471673856.0000 - mse: 290471673856.0000 - mae: 182138.3594 - val_loss: 58329141248.0000 - val_mse: 58329141248.0000 - val_mae: 163497.1719\n",
            "Epoch 134/150\n",
            "182/196 [==========================>...] - ETA: 0s - loss: 306893160448.0000 - mse: 306893160448.0000 - mae: 184629.3594Restoring model weights from the end of the best epoch: 129.\n",
            "196/196 [==============================] - 0s 2ms/step - loss: 290379956224.0000 - mse: 290379956224.0000 - mae: 183748.1406 - val_loss: 58231734272.0000 - val_mse: 58231734272.0000 - val_mae: 162937.0000\n",
            "Epoch 134: early stopping\n"
          ]
        }
      ],
      "source": [
        "model = Sequential()\n",
        "model.add(Dense(10, activation='relu',input_shape=(15,),kernel_initializer='normal'))\n",
        "model.add(Dense(1, kernel_initializer='normal'))\n",
        "model.compile(loss='mean_squared_error', optimizer='adam',  metrics=['mse', 'mae'])\n",
        "from keras import callbacks\n",
        "earlystopping = callbacks.EarlyStopping(monitor =\"val_loss\", mode =\"min\", patience = 5, restore_best_weights = True,verbose=1)\n",
        "trained_model = model.fit(X_train,y_train, batch_size=16, epochs=150, validation_split=0.15 ,callbacks =[earlystopping]) \n",
        "history = trained_model.history"
      ]
    },
    {
      "cell_type": "markdown",
      "metadata": {
        "id": "dyn6yagOTSrr"
      },
      "source": [
        "#### evalute number of neurons and layers"
      ]
    },
    {
      "cell_type": "code",
      "execution_count": null,
      "metadata": {
        "colab": {
          "base_uri": "https://localhost:8080/"
        },
        "id": "SwXb1OqRTD0S",
        "outputId": "d6370f3e-4de3-4c69-f284-6080f9a095f8"
      },
      "outputs": [
        {
          "output_type": "stream",
          "name": "stdout",
          "text": [
            "MAE: 178404.83\n",
            "MSE: 255575100000.0\n",
            "VarScore: 0.177839457988739\n"
          ]
        }
      ],
      "source": [
        "# history\n",
        "Y_pred = model.predict(X_test)\n",
        "y_pred=np.ravel(Y_pred)  \n",
        "from sklearn import metrics\n",
        "print('MAE:', metrics.mean_absolute_error(y_test, y_pred))  \n",
        "print('MSE:', metrics.mean_squared_error(y_test, y_pred))  \n",
        "print('VarScore:',metrics.explained_variance_score(y_test,y_pred))"
      ]
    },
    {
      "cell_type": "code",
      "execution_count": null,
      "metadata": {
        "colab": {
          "base_uri": "https://localhost:8080/",
          "height": 295
        },
        "id": "NJ6L5J6M3HIe",
        "outputId": "aac07b6a-5a34-4d57-f2b2-42eef408c893"
      },
      "outputs": [
        {
          "output_type": "display_data",
          "data": {
            "text/plain": [
              "<Figure size 432x288 with 1 Axes>"
            ],
            "image/png": "[encoded data removed]"
          },
          "metadata": {
            "needs_background": "light"
          }
        }
      ],
      "source": [
        "plt.title('MSE Loss')\n",
        "plt.plot(history['mae'], label='MAE (training data)',color='blue')\n",
        "plt.plot(history['val_mae'], label='MAE (test data)',color='orange')\n",
        "plt.ylabel('MAE Metric')\n",
        "plt.xlabel('epoch')\n",
        "plt.grid()\n",
        "plt.legend(['MAE (training data)', 'MAE (validation data)'], loc='upper right')\n",
        "plt.show()"
      ]
    },
    {
      "cell_type": "markdown",
      "metadata": {
        "id": "A_gmlSgNTgc-"
      },
      "source": [
        "#### Model Two : 2 layers with Sigmoid as of activation function"
      ]
    },
    {
      "cell_type": "code",
      "execution_count": null,
      "metadata": {
        "colab": {
          "base_uri": "https://localhost:8080/"
        },
        "id": "JcB9_1uPTmdW",
        "outputId": "8b17f80e-3a52-47b8-c4ab-0b6601bded50"
      },
      "outputs": [
        {
          "output_type": "stream",
          "name": "stdout",
          "text": [
            "Epoch 1/150\n",
            "196/196 [==============================] - 2s 5ms/step - loss: 660585775104.0000 - mse: 660585775104.0000 - mae: 560127.6875 - val_loss: 402745425920.0000 - val_mse: 402745425920.0000 - val_mae: 544667.2500\n",
            "Epoch 2/150\n",
            "196/196 [==============================] - 1s 4ms/step - loss: 660584857600.0000 - mse: 660584857600.0000 - mae: 560126.7500 - val_loss: 402744410112.0000 - val_mse: 402744410112.0000 - val_mae: 544666.2500\n",
            "Epoch 3/150\n",
            "196/196 [==============================] - 1s 3ms/step - loss: 660583809024.0000 - mse: 660583809024.0000 - mae: 560125.8125 - val_loss: 402743427072.0000 - val_mse: 402743427072.0000 - val_mae: 544665.2500\n",
            "Epoch 4/150\n",
            "196/196 [==============================] - 1s 3ms/step - loss: 660582563840.0000 - mse: 660582563840.0000 - mae: 560124.8750 - val_loss: 402742378496.0000 - val_mse: 402742378496.0000 - val_mae: 544664.3125\n",
            "Epoch 5/150\n",
            "196/196 [==============================] - 1s 3ms/step - loss: 660581515264.0000 - mse: 660581515264.0000 - mae: 560124.1250 - val_loss: 402741329920.0000 - val_mse: 402741329920.0000 - val_mae: 544663.3125\n",
            "Epoch 6/150\n",
            "196/196 [==============================] - 1s 3ms/step - loss: 660580466688.0000 - mse: 660580466688.0000 - mae: 560122.8125 - val_loss: 402740248576.0000 - val_mse: 402740248576.0000 - val_mae: 544662.3750\n",
            "Epoch 7/150\n",
            "196/196 [==============================] - 1s 4ms/step - loss: 660579352576.0000 - mse: 660579352576.0000 - mae: 560121.9375 - val_loss: 402739265536.0000 - val_mse: 402739265536.0000 - val_mae: 544661.4375\n",
            "Epoch 8/150\n",
            "196/196 [==============================] - 1s 3ms/step - loss: 660578369536.0000 - mse: 660578369536.0000 - mae: 560121.0625 - val_loss: 402738151424.0000 - val_mse: 402738151424.0000 - val_mae: 544660.4375\n",
            "Epoch 9/150\n",
            "196/196 [==============================] - 1s 3ms/step - loss: 660577320960.0000 - mse: 660577320960.0000 - mae: 560119.8125 - val_loss: 402737135616.0000 - val_mse: 402737135616.0000 - val_mae: 544659.5625\n",
            "Epoch 10/150\n",
            "196/196 [==============================] - 1s 4ms/step - loss: 660576272384.0000 - mse: 660576272384.0000 - mae: 560119.0625 - val_loss: 402736021504.0000 - val_mse: 402736021504.0000 - val_mae: 544658.5625\n",
            "Epoch 11/150\n",
            "196/196 [==============================] - 1s 6ms/step - loss: 660575027200.0000 - mse: 660575027200.0000 - mae: 560118.0000 - val_loss: 402735005696.0000 - val_mse: 402735005696.0000 - val_mae: 544657.6250\n",
            "Epoch 12/150\n",
            "196/196 [==============================] - 1s 6ms/step - loss: 660574240768.0000 - mse: 660574240768.0000 - mae: 560117.1250 - val_loss: 402733989888.0000 - val_mse: 402733989888.0000 - val_mae: 544656.6250\n",
            "Epoch 13/150\n",
            "196/196 [==============================] - 0s 2ms/step - loss: 660573126656.0000 - mse: 660573126656.0000 - mae: 560116.1875 - val_loss: 402733006848.0000 - val_mse: 402733006848.0000 - val_mae: 544655.7500\n",
            "Epoch 14/150\n",
            "196/196 [==============================] - 0s 2ms/step - loss: 660571947008.0000 - mse: 660571947008.0000 - mae: 560115.3125 - val_loss: 402731991040.0000 - val_mse: 402731991040.0000 - val_mae: 544654.8125\n",
            "Epoch 15/150\n",
            "196/196 [==============================] - 0s 2ms/step - loss: 660570963968.0000 - mse: 660570963968.0000 - mae: 560114.1875 - val_loss: 402730909696.0000 - val_mse: 402730909696.0000 - val_mae: 544653.8125\n",
            "Epoch 16/150\n",
            "196/196 [==============================] - 0s 2ms/step - loss: 660569915392.0000 - mse: 660569915392.0000 - mae: 560113.3125 - val_loss: 402729893888.0000 - val_mse: 402729893888.0000 - val_mae: 544652.8750\n",
            "Epoch 17/150\n",
            "196/196 [==============================] - 0s 2ms/step - loss: 660568735744.0000 - mse: 660568735744.0000 - mae: 560112.4375 - val_loss: 402728845312.0000 - val_mse: 402728845312.0000 - val_mae: 544651.8750\n",
            "Epoch 18/150\n",
            "196/196 [==============================] - 0s 2ms/step - loss: 660567556096.0000 - mse: 660567556096.0000 - mae: 560111.2500 - val_loss: 402727731200.0000 - val_mse: 402727731200.0000 - val_mae: 544650.9375\n",
            "Epoch 19/150\n",
            "196/196 [==============================] - 0s 2ms/step - loss: 660566507520.0000 - mse: 660566507520.0000 - mae: 560110.3750 - val_loss: 402726682624.0000 - val_mse: 402726682624.0000 - val_mae: 544650.0000\n",
            "Epoch 20/150\n",
            "196/196 [==============================] - 0s 2ms/step - loss: 660565393408.0000 - mse: 660565393408.0000 - mae: 560109.6875 - val_loss: 402725634048.0000 - val_mse: 402725634048.0000 - val_mae: 544649.0625\n",
            "Epoch 21/150\n",
            "196/196 [==============================] - 0s 2ms/step - loss: 660564606976.0000 - mse: 660564606976.0000 - mae: 560108.8125 - val_loss: 402724651008.0000 - val_mse: 402724651008.0000 - val_mae: 544648.0625\n",
            "Epoch 22/150\n",
            "196/196 [==============================] - 0s 2ms/step - loss: 660563558400.0000 - mse: 660563558400.0000 - mae: 560107.6875 - val_loss: 402723569664.0000 - val_mse: 402723569664.0000 - val_mae: 544647.1875\n",
            "Epoch 23/150\n",
            "196/196 [==============================] - 0s 2ms/step - loss: 660562313216.0000 - mse: 660562313216.0000 - mae: 560106.8750 - val_loss: 402722586624.0000 - val_mse: 402722586624.0000 - val_mae: 544646.1250\n",
            "Epoch 24/150\n",
            "196/196 [==============================] - 0s 2ms/step - loss: 660561002496.0000 - mse: 660561002496.0000 - mae: 560105.7500 - val_loss: 402721538048.0000 - val_mse: 402721538048.0000 - val_mae: 544645.1875\n",
            "Epoch 25/150\n",
            "196/196 [==============================] - 0s 2ms/step - loss: 660560084992.0000 - mse: 660560084992.0000 - mae: 560104.8125 - val_loss: 402720489472.0000 - val_mse: 402720489472.0000 - val_mae: 544644.1875\n",
            "Epoch 26/150\n",
            "196/196 [==============================] - 0s 2ms/step - loss: 660558905344.0000 - mse: 660558905344.0000 - mae: 560103.7500 - val_loss: 402719473664.0000 - val_mse: 402719473664.0000 - val_mae: 544643.3125\n",
            "Epoch 27/150\n",
            "196/196 [==============================] - 0s 2ms/step - loss: 660558053376.0000 - mse: 660558053376.0000 - mae: 560102.6875 - val_loss: 402718425088.0000 - val_mse: 402718425088.0000 - val_mae: 544642.3125\n",
            "Epoch 28/150\n",
            "196/196 [==============================] - 0s 2ms/step - loss: 660556873728.0000 - mse: 660556873728.0000 - mae: 560101.8750 - val_loss: 402717343744.0000 - val_mse: 402717343744.0000 - val_mae: 544641.3750\n",
            "Epoch 29/150\n",
            "196/196 [==============================] - 0s 2ms/step - loss: 660555890688.0000 - mse: 660555890688.0000 - mae: 560101.0000 - val_loss: 402716295168.0000 - val_mse: 402716295168.0000 - val_mae: 544640.4375\n",
            "Epoch 30/150\n",
            "196/196 [==============================] - 0s 2ms/step - loss: 660554579968.0000 - mse: 660554579968.0000 - mae: 560100.0000 - val_loss: 402715213824.0000 - val_mse: 402715213824.0000 - val_mae: 544639.5625\n",
            "Epoch 31/150\n",
            "196/196 [==============================] - 0s 2ms/step - loss: 660553465856.0000 - mse: 660553465856.0000 - mae: 560098.8750 - val_loss: 402714263552.0000 - val_mse: 402714263552.0000 - val_mae: 544638.6250\n",
            "Epoch 32/150\n",
            "196/196 [==============================] - 0s 2ms/step - loss: 660552613888.0000 - mse: 660552613888.0000 - mae: 560098.1875 - val_loss: 402713247744.0000 - val_mse: 402713247744.0000 - val_mae: 544637.6250\n",
            "Epoch 33/150\n",
            "196/196 [==============================] - 0s 2ms/step - loss: 660551499776.0000 - mse: 660551499776.0000 - mae: 560097.0625 - val_loss: 402712166400.0000 - val_mse: 402712166400.0000 - val_mae: 544636.5625\n",
            "Epoch 34/150\n",
            "196/196 [==============================] - 0s 2ms/step - loss: 660550516736.0000 - mse: 660550516736.0000 - mae: 560096.1875 - val_loss: 402711183360.0000 - val_mse: 402711183360.0000 - val_mae: 544635.6875\n",
            "Epoch 35/150\n",
            "196/196 [==============================] - 0s 2ms/step - loss: 660549533696.0000 - mse: 660549533696.0000 - mae: 560095.3750 - val_loss: 402710102016.0000 - val_mse: 402710102016.0000 - val_mae: 544634.7500\n",
            "Epoch 36/150\n",
            "196/196 [==============================] - 0s 2ms/step - loss: 660548222976.0000 - mse: 660548222976.0000 - mae: 560094.1875 - val_loss: 402709118976.0000 - val_mse: 402709118976.0000 - val_mae: 544633.7500\n",
            "Epoch 37/150\n",
            "196/196 [==============================] - 0s 2ms/step - loss: 660547305472.0000 - mse: 660547305472.0000 - mae: 560093.4375 - val_loss: 402708037632.0000 - val_mse: 402708037632.0000 - val_mae: 544632.7500\n",
            "Epoch 38/150\n",
            "196/196 [==============================] - 0s 2ms/step - loss: 660546191360.0000 - mse: 660546191360.0000 - mae: 560092.3125 - val_loss: 402707021824.0000 - val_mse: 402707021824.0000 - val_mae: 544631.9375\n",
            "Epoch 39/150\n",
            "196/196 [==============================] - 0s 2ms/step - loss: 660545011712.0000 - mse: 660545011712.0000 - mae: 560091.4375 - val_loss: 402705940480.0000 - val_mse: 402705940480.0000 - val_mae: 544630.9375\n",
            "Epoch 40/150\n",
            "196/196 [==============================] - 0s 2ms/step - loss: 660544159744.0000 - mse: 660544159744.0000 - mae: 560090.6250 - val_loss: 402704891904.0000 - val_mse: 402704891904.0000 - val_mae: 544630.0000\n",
            "Epoch 41/150\n",
            "196/196 [==============================] - 0s 2ms/step - loss: 660542980096.0000 - mse: 660542980096.0000 - mae: 560089.6250 - val_loss: 402703876096.0000 - val_mse: 402703876096.0000 - val_mae: 544629.1250\n",
            "Epoch 42/150\n",
            "196/196 [==============================] - 0s 2ms/step - loss: 660541800448.0000 - mse: 660541800448.0000 - mae: 560088.5625 - val_loss: 402702893056.0000 - val_mse: 402702893056.0000 - val_mae: 544628.1250\n",
            "Epoch 43/150\n",
            "196/196 [==============================] - 0s 2ms/step - loss: 660540817408.0000 - mse: 660540817408.0000 - mae: 560087.5000 - val_loss: 402701844480.0000 - val_mse: 402701844480.0000 - val_mae: 544627.1875\n",
            "Epoch 44/150\n",
            "196/196 [==============================] - 0s 2ms/step - loss: 660539703296.0000 - mse: 660539703296.0000 - mae: 560086.5625 - val_loss: 402700795904.0000 - val_mse: 402700795904.0000 - val_mae: 544626.1875\n",
            "Epoch 45/150\n",
            "196/196 [==============================] - 0s 2ms/step - loss: 660538785792.0000 - mse: 660538785792.0000 - mae: 560085.7500 - val_loss: 402699780096.0000 - val_mse: 402699780096.0000 - val_mae: 544625.1875\n",
            "Epoch 46/150\n",
            "196/196 [==============================] - 0s 2ms/step - loss: 660537671680.0000 - mse: 660537671680.0000 - mae: 560084.6875 - val_loss: 402698665984.0000 - val_mse: 402698665984.0000 - val_mae: 544624.2500\n",
            "Epoch 47/150\n",
            "196/196 [==============================] - 0s 2ms/step - loss: 660536557568.0000 - mse: 660536557568.0000 - mae: 560083.7500 - val_loss: 402697584640.0000 - val_mse: 402697584640.0000 - val_mae: 544623.2500\n",
            "Epoch 48/150\n",
            "196/196 [==============================] - 0s 2ms/step - loss: 660535705600.0000 - mse: 660535705600.0000 - mae: 560082.6875 - val_loss: 402696568832.0000 - val_mse: 402696568832.0000 - val_mae: 544622.3125\n",
            "Epoch 49/150\n",
            "196/196 [==============================] - 0s 2ms/step - loss: 660534591488.0000 - mse: 660534591488.0000 - mae: 560081.8750 - val_loss: 402695585792.0000 - val_mse: 402695585792.0000 - val_mae: 544621.3750\n",
            "Epoch 50/150\n",
            "196/196 [==============================] - 0s 2ms/step - loss: 660533411840.0000 - mse: 660533411840.0000 - mae: 560080.8750 - val_loss: 402694537216.0000 - val_mse: 402694537216.0000 - val_mae: 544620.5000\n",
            "Epoch 51/150\n",
            "196/196 [==============================] - 0s 2ms/step - loss: 660532363264.0000 - mse: 660532363264.0000 - mae: 560080.0625 - val_loss: 402693455872.0000 - val_mse: 402693455872.0000 - val_mae: 544619.5625\n",
            "Epoch 52/150\n",
            "196/196 [==============================] - 0s 2ms/step - loss: 660531249152.0000 - mse: 660531249152.0000 - mae: 560079.0000 - val_loss: 402692472832.0000 - val_mse: 402692472832.0000 - val_mae: 544618.6875\n",
            "Epoch 53/150\n",
            "196/196 [==============================] - 0s 2ms/step - loss: 660530135040.0000 - mse: 660530135040.0000 - mae: 560078.1250 - val_loss: 402691424256.0000 - val_mse: 402691424256.0000 - val_mae: 544617.5625\n",
            "Epoch 54/150\n",
            "196/196 [==============================] - 0s 2ms/step - loss: 660529152000.0000 - mse: 660529152000.0000 - mae: 560077.1250 - val_loss: 402690375680.0000 - val_mse: 402690375680.0000 - val_mae: 544616.6250\n",
            "Epoch 55/150\n",
            "196/196 [==============================] - 0s 2ms/step - loss: 660528234496.0000 - mse: 660528234496.0000 - mae: 560076.0000 - val_loss: 402689392640.0000 - val_mse: 402689392640.0000 - val_mae: 544615.6875\n",
            "Epoch 56/150\n",
            "196/196 [==============================] - 0s 2ms/step - loss: 660526858240.0000 - mse: 660526858240.0000 - mae: 560075.3125 - val_loss: 402688376832.0000 - val_mse: 402688376832.0000 - val_mae: 544614.8125\n",
            "Epoch 57/150\n",
            "196/196 [==============================] - 0s 2ms/step - loss: 660526071808.0000 - mse: 660526071808.0000 - mae: 560073.9375 - val_loss: 402687328256.0000 - val_mse: 402687328256.0000 - val_mae: 544613.7500\n",
            "Epoch 58/150\n",
            "196/196 [==============================] - 0s 2ms/step - loss: 660524892160.0000 - mse: 660524892160.0000 - mae: 560073.2500 - val_loss: 402686214144.0000 - val_mse: 402686214144.0000 - val_mae: 544612.8125\n",
            "Epoch 59/150\n",
            "196/196 [==============================] - 0s 2ms/step - loss: 660523712512.0000 - mse: 660523712512.0000 - mae: 560072.3125 - val_loss: 402685231104.0000 - val_mse: 402685231104.0000 - val_mae: 544611.8750\n",
            "Epoch 60/150\n",
            "196/196 [==============================] - 0s 2ms/step - loss: 660522532864.0000 - mse: 660522532864.0000 - mae: 560071.2500 - val_loss: 402684149760.0000 - val_mse: 402684149760.0000 - val_mae: 544610.8750\n",
            "Epoch 61/150\n",
            "196/196 [==============================] - 0s 2ms/step - loss: 660521549824.0000 - mse: 660521549824.0000 - mae: 560070.4375 - val_loss: 402683166720.0000 - val_mse: 402683166720.0000 - val_mae: 544610.0000\n",
            "Epoch 62/150\n",
            "196/196 [==============================] - 0s 2ms/step - loss: 660520632320.0000 - mse: 660520632320.0000 - mae: 560069.5000 - val_loss: 402682019840.0000 - val_mse: 402682019840.0000 - val_mae: 544609.0000\n",
            "Epoch 63/150\n",
            "196/196 [==============================] - 0s 2ms/step - loss: 660519452672.0000 - mse: 660519452672.0000 - mae: 560068.6875 - val_loss: 402681036800.0000 - val_mse: 402681036800.0000 - val_mae: 544608.0625\n",
            "Epoch 64/150\n",
            "196/196 [==============================] - 0s 2ms/step - loss: 660518535168.0000 - mse: 660518535168.0000 - mae: 560067.5625 - val_loss: 402679955456.0000 - val_mse: 402679955456.0000 - val_mae: 544607.0625\n",
            "Epoch 65/150\n",
            "196/196 [==============================] - 0s 2ms/step - loss: 660517289984.0000 - mse: 660517289984.0000 - mae: 560066.6875 - val_loss: 402678906880.0000 - val_mse: 402678906880.0000 - val_mae: 544606.0625\n",
            "Epoch 66/150\n",
            "196/196 [==============================] - 0s 2ms/step - loss: 660516372480.0000 - mse: 660516372480.0000 - mae: 560065.8125 - val_loss: 402677923840.0000 - val_mse: 402677923840.0000 - val_mae: 544605.1875\n",
            "Epoch 67/150\n",
            "196/196 [==============================] - 0s 2ms/step - loss: 660515127296.0000 - mse: 660515127296.0000 - mae: 560064.8750 - val_loss: 402676842496.0000 - val_mse: 402676842496.0000 - val_mae: 544604.3125\n",
            "Epoch 68/150\n",
            "196/196 [==============================] - 0s 2ms/step - loss: 660513882112.0000 - mse: 660513882112.0000 - mae: 560063.6875 - val_loss: 402675761152.0000 - val_mse: 402675761152.0000 - val_mae: 544603.3125\n",
            "Epoch 69/150\n",
            "196/196 [==============================] - 0s 2ms/step - loss: 660512964608.0000 - mse: 660512964608.0000 - mae: 560062.7500 - val_loss: 402674712576.0000 - val_mse: 402674712576.0000 - val_mae: 544602.5000\n",
            "Epoch 70/150\n",
            "196/196 [==============================] - 0s 2ms/step - loss: 660511981568.0000 - mse: 660511981568.0000 - mae: 560061.9375 - val_loss: 402673729536.0000 - val_mse: 402673729536.0000 - val_mae: 544601.4375\n",
            "Epoch 71/150\n",
            "196/196 [==============================] - 0s 2ms/step - loss: 660510801920.0000 - mse: 660510801920.0000 - mae: 560061.0625 - val_loss: 402672680960.0000 - val_mse: 402672680960.0000 - val_mae: 544600.4375\n",
            "Epoch 72/150\n",
            "196/196 [==============================] - 0s 2ms/step - loss: 660509949952.0000 - mse: 660509949952.0000 - mae: 560059.9375 - val_loss: 402671599616.0000 - val_mse: 402671599616.0000 - val_mae: 544599.5000\n",
            "Epoch 73/150\n",
            "196/196 [==============================] - 0s 2ms/step - loss: 660508704768.0000 - mse: 660508704768.0000 - mae: 560059.0625 - val_loss: 402670583808.0000 - val_mse: 402670583808.0000 - val_mae: 544598.6250\n",
            "Epoch 74/150\n",
            "196/196 [==============================] - 0s 2ms/step - loss: 660507590656.0000 - mse: 660507590656.0000 - mae: 560058.1250 - val_loss: 402669535232.0000 - val_mse: 402669535232.0000 - val_mae: 544597.6250\n",
            "Epoch 75/150\n",
            "196/196 [==============================] - 0s 2ms/step - loss: 660506476544.0000 - mse: 660506476544.0000 - mae: 560057.1875 - val_loss: 402668486656.0000 - val_mse: 402668486656.0000 - val_mae: 544596.6250\n",
            "Epoch 76/150\n",
            "196/196 [==============================] - 0s 2ms/step - loss: 660505559040.0000 - mse: 660505559040.0000 - mae: 560056.1250 - val_loss: 402667470848.0000 - val_mse: 402667470848.0000 - val_mae: 544595.6875\n",
            "Epoch 77/150\n",
            "196/196 [==============================] - 0s 2ms/step - loss: 660504641536.0000 - mse: 660504641536.0000 - mae: 560055.3125 - val_loss: 402666389504.0000 - val_mse: 402666389504.0000 - val_mae: 544594.7500\n",
            "Epoch 78/150\n",
            "196/196 [==============================] - 0s 2ms/step - loss: 660503396352.0000 - mse: 660503396352.0000 - mae: 560054.3125 - val_loss: 402665373696.0000 - val_mse: 402665373696.0000 - val_mae: 544593.6875\n",
            "Epoch 79/150\n",
            "196/196 [==============================] - 0s 2ms/step - loss: 660502216704.0000 - mse: 660502216704.0000 - mae: 560053.2500 - val_loss: 402664325120.0000 - val_mse: 402664325120.0000 - val_mae: 544592.8125\n",
            "Epoch 80/150\n",
            "196/196 [==============================] - 0s 2ms/step - loss: 660501364736.0000 - mse: 660501364736.0000 - mae: 560052.1250 - val_loss: 402663342080.0000 - val_mse: 402663342080.0000 - val_mae: 544591.8125\n",
            "Epoch 81/150\n",
            "196/196 [==============================] - 0s 2ms/step - loss: 660500054016.0000 - mse: 660500054016.0000 - mae: 560051.3750 - val_loss: 402662359040.0000 - val_mse: 402662359040.0000 - val_mae: 544590.8750\n",
            "Epoch 82/150\n",
            "196/196 [==============================] - 0s 2ms/step - loss: 660499070976.0000 - mse: 660499070976.0000 - mae: 560050.4375 - val_loss: 402661244928.0000 - val_mse: 402661244928.0000 - val_mae: 544589.8750\n",
            "Epoch 83/150\n",
            "196/196 [==============================] - 0s 2ms/step - loss: 660498022400.0000 - mse: 660498022400.0000 - mae: 560049.2500 - val_loss: 402660229120.0000 - val_mse: 402660229120.0000 - val_mae: 544588.9375\n",
            "Epoch 84/150\n",
            "196/196 [==============================] - 0s 2ms/step - loss: 660496711680.0000 - mse: 660496711680.0000 - mae: 560048.5625 - val_loss: 402659180544.0000 - val_mse: 402659180544.0000 - val_mae: 544588.0000\n",
            "Epoch 85/150\n",
            "196/196 [==============================] - 0s 2ms/step - loss: 660495925248.0000 - mse: 660495925248.0000 - mae: 560047.5000 - val_loss: 402658099200.0000 - val_mse: 402658099200.0000 - val_mae: 544587.0625\n",
            "Epoch 86/150\n",
            "196/196 [==============================] - 0s 2ms/step - loss: 660494548992.0000 - mse: 660494548992.0000 - mae: 560046.6875 - val_loss: 402657083392.0000 - val_mse: 402657083392.0000 - val_mae: 544586.1250\n",
            "Epoch 87/150\n",
            "196/196 [==============================] - 0s 2ms/step - loss: 660493828096.0000 - mse: 660493828096.0000 - mae: 560045.5625 - val_loss: 402656002048.0000 - val_mse: 402656002048.0000 - val_mae: 544585.0625\n",
            "Epoch 88/150\n",
            "196/196 [==============================] - 0s 2ms/step - loss: 660492713984.0000 - mse: 660492713984.0000 - mae: 560044.6250 - val_loss: 402655051776.0000 - val_mse: 402655051776.0000 - val_mae: 544584.3125\n",
            "Epoch 89/150\n",
            "196/196 [==============================] - 0s 2ms/step - loss: 660491337728.0000 - mse: 660491337728.0000 - mae: 560043.5625 - val_loss: 402653937664.0000 - val_mse: 402653937664.0000 - val_mae: 544583.1875\n",
            "Epoch 90/150\n",
            "196/196 [==============================] - 0s 2ms/step - loss: 660490485760.0000 - mse: 660490485760.0000 - mae: 560042.8750 - val_loss: 402652921856.0000 - val_mse: 402652921856.0000 - val_mae: 544582.3125\n",
            "Epoch 91/150\n",
            "196/196 [==============================] - 0s 2ms/step - loss: 660489371648.0000 - mse: 660489371648.0000 - mae: 560041.6875 - val_loss: 402651840512.0000 - val_mse: 402651840512.0000 - val_mae: 544581.3125\n",
            "Epoch 92/150\n",
            "196/196 [==============================] - 0s 2ms/step - loss: 660488388608.0000 - mse: 660488388608.0000 - mae: 560040.6875 - val_loss: 402650857472.0000 - val_mse: 402650857472.0000 - val_mae: 544580.4375\n",
            "Epoch 93/150\n",
            "196/196 [==============================] - 0s 2ms/step - loss: 660487405568.0000 - mse: 660487405568.0000 - mae: 560039.9375 - val_loss: 402649808896.0000 - val_mse: 402649808896.0000 - val_mae: 544579.5000\n",
            "Epoch 94/150\n",
            "196/196 [==============================] - 0s 2ms/step - loss: 660486291456.0000 - mse: 660486291456.0000 - mae: 560038.9375 - val_loss: 402648760320.0000 - val_mse: 402648760320.0000 - val_mae: 544578.5000\n",
            "Epoch 95/150\n",
            "196/196 [==============================] - 0s 2ms/step - loss: 660485177344.0000 - mse: 660485177344.0000 - mae: 560037.7500 - val_loss: 402647744512.0000 - val_mse: 402647744512.0000 - val_mae: 544577.6250\n",
            "Epoch 96/150\n",
            "196/196 [==============================] - 0s 2ms/step - loss: 660484325376.0000 - mse: 660484325376.0000 - mae: 560037.0625 - val_loss: 402646695936.0000 - val_mse: 402646695936.0000 - val_mae: 544576.6250\n",
            "Epoch 97/150\n",
            "196/196 [==============================] - 0s 2ms/step - loss: 660483145728.0000 - mse: 660483145728.0000 - mae: 560036.3125 - val_loss: 402645647360.0000 - val_mse: 402645647360.0000 - val_mae: 544575.6875\n",
            "Epoch 98/150\n",
            "196/196 [==============================] - 0s 2ms/step - loss: 660482162688.0000 - mse: 660482162688.0000 - mae: 560035.0000 - val_loss: 402644598784.0000 - val_mse: 402644598784.0000 - val_mae: 544574.8125\n",
            "Epoch 99/150\n",
            "196/196 [==============================] - 0s 2ms/step - loss: 660480983040.0000 - mse: 660480983040.0000 - mae: 560034.0000 - val_loss: 402643550208.0000 - val_mse: 402643550208.0000 - val_mae: 544573.7500\n",
            "Epoch 100/150\n",
            "196/196 [==============================] - 0s 2ms/step - loss: 660479737856.0000 - mse: 660479737856.0000 - mae: 560033.2500 - val_loss: 402642534400.0000 - val_mse: 402642534400.0000 - val_mae: 544572.8125\n",
            "Epoch 101/150\n",
            "196/196 [==============================] - 0s 2ms/step - loss: 660478820352.0000 - mse: 660478820352.0000 - mae: 560032.1250 - val_loss: 402641485824.0000 - val_mse: 402641485824.0000 - val_mae: 544571.8125\n",
            "Epoch 102/150\n",
            "196/196 [==============================] - 0s 2ms/step - loss: 660477640704.0000 - mse: 660477640704.0000 - mae: 560031.1250 - val_loss: 402640470016.0000 - val_mse: 402640470016.0000 - val_mae: 544570.8750\n",
            "Epoch 103/150\n",
            "196/196 [==============================] - 0s 2ms/step - loss: 660476788736.0000 - mse: 660476788736.0000 - mae: 560030.3125 - val_loss: 402639454208.0000 - val_mse: 402639454208.0000 - val_mae: 544569.8750\n",
            "Epoch 104/150\n",
            "196/196 [==============================] - 0s 2ms/step - loss: 660475740160.0000 - mse: 660475740160.0000 - mae: 560029.1250 - val_loss: 402638438400.0000 - val_mse: 402638438400.0000 - val_mae: 544568.9375\n",
            "Epoch 105/150\n",
            "196/196 [==============================] - 0s 2ms/step - loss: 660474363904.0000 - mse: 660474363904.0000 - mae: 560028.6250 - val_loss: 402637357056.0000 - val_mse: 402637357056.0000 - val_mae: 544568.0000\n",
            "Epoch 106/150\n",
            "196/196 [==============================] - 0s 2ms/step - loss: 660473446400.0000 - mse: 660473446400.0000 - mae: 560027.4375 - val_loss: 402636341248.0000 - val_mse: 402636341248.0000 - val_mae: 544567.0625\n",
            "Epoch 107/150\n",
            "196/196 [==============================] - 0s 2ms/step - loss: 660472201216.0000 - mse: 660472201216.0000 - mae: 560026.5000 - val_loss: 402635325440.0000 - val_mse: 402635325440.0000 - val_mae: 544566.1250\n",
            "Epoch 108/150\n",
            "196/196 [==============================] - 0s 2ms/step - loss: 660471283712.0000 - mse: 660471283712.0000 - mae: 560025.2500 - val_loss: 402634276864.0000 - val_mse: 402634276864.0000 - val_mae: 544565.1875\n",
            "Epoch 109/150\n",
            "196/196 [==============================] - 0s 2ms/step - loss: 660470104064.0000 - mse: 660470104064.0000 - mae: 560024.6875 - val_loss: 402633195520.0000 - val_mse: 402633195520.0000 - val_mae: 544564.2500\n",
            "Epoch 110/150\n",
            "196/196 [==============================] - 0s 2ms/step - loss: 660469186560.0000 - mse: 660469186560.0000 - mae: 560023.6875 - val_loss: 402632114176.0000 - val_mse: 402632114176.0000 - val_mae: 544563.2500\n",
            "Epoch 111/150\n",
            "196/196 [==============================] - 0s 2ms/step - loss: 660468137984.0000 - mse: 660468137984.0000 - mae: 560022.6875 - val_loss: 402631098368.0000 - val_mse: 402631098368.0000 - val_mae: 544562.3125\n",
            "Epoch 112/150\n",
            "196/196 [==============================] - 0s 2ms/step - loss: 660466958336.0000 - mse: 660466958336.0000 - mae: 560021.8750 - val_loss: 402630049792.0000 - val_mse: 402630049792.0000 - val_mae: 544561.3125\n",
            "Epoch 113/150\n",
            "196/196 [==============================] - 0s 2ms/step - loss: 660465975296.0000 - mse: 660465975296.0000 - mae: 560020.8750 - val_loss: 402629033984.0000 - val_mse: 402629033984.0000 - val_mae: 544560.3750\n",
            "Epoch 114/150\n",
            "196/196 [==============================] - 0s 2ms/step - loss: 660465188864.0000 - mse: 660465188864.0000 - mae: 560019.8750 - val_loss: 402627919872.0000 - val_mse: 402627919872.0000 - val_mae: 544559.4375\n",
            "Epoch 115/150\n",
            "196/196 [==============================] - 0s 2ms/step - loss: 660463747072.0000 - mse: 660463747072.0000 - mae: 560018.8750 - val_loss: 402626936832.0000 - val_mse: 402626936832.0000 - val_mae: 544558.5625\n",
            "Epoch 116/150\n",
            "196/196 [==============================] - 0s 2ms/step - loss: 660462698496.0000 - mse: 660462698496.0000 - mae: 560018.0000 - val_loss: 402625855488.0000 - val_mse: 402625855488.0000 - val_mae: 544557.4375\n",
            "Epoch 117/150\n",
            "196/196 [==============================] - 0s 2ms/step - loss: 660461780992.0000 - mse: 660461780992.0000 - mae: 560017.1250 - val_loss: 402624872448.0000 - val_mse: 402624872448.0000 - val_mae: 544556.6875\n",
            "Epoch 118/150\n",
            "196/196 [==============================] - 0s 2ms/step - loss: 660460666880.0000 - mse: 660460666880.0000 - mae: 560016.0000 - val_loss: 402623823872.0000 - val_mse: 402623823872.0000 - val_mae: 544555.6250\n",
            "Epoch 119/150\n",
            "196/196 [==============================] - 0s 2ms/step - loss: 660459749376.0000 - mse: 660459749376.0000 - mae: 560015.0625 - val_loss: 402622775296.0000 - val_mse: 402622775296.0000 - val_mae: 544554.7500\n",
            "Epoch 120/150\n",
            "196/196 [==============================] - 0s 2ms/step - loss: 660458373120.0000 - mse: 660458373120.0000 - mae: 560014.1250 - val_loss: 402621792256.0000 - val_mse: 402621792256.0000 - val_mae: 544553.6250\n",
            "Epoch 121/150\n",
            "196/196 [==============================] - 0s 2ms/step - loss: 660457455616.0000 - mse: 660457455616.0000 - mae: 560013.1875 - val_loss: 402620678144.0000 - val_mse: 402620678144.0000 - val_mae: 544552.8125\n",
            "Epoch 122/150\n",
            "196/196 [==============================] - 0s 2ms/step - loss: 660456144896.0000 - mse: 660456144896.0000 - mae: 560012.3125 - val_loss: 402619727872.0000 - val_mse: 402619727872.0000 - val_mae: 544551.8125\n",
            "Epoch 123/150\n",
            "196/196 [==============================] - 0s 2ms/step - loss: 660455751680.0000 - mse: 660455751680.0000 - mae: 560011.2500 - val_loss: 402618646528.0000 - val_mse: 402618646528.0000 - val_mae: 544550.8750\n",
            "Epoch 124/150\n",
            "196/196 [==============================] - 0s 2ms/step - loss: 660454113280.0000 - mse: 660454113280.0000 - mae: 560010.2500 - val_loss: 402617630720.0000 - val_mse: 402617630720.0000 - val_mae: 544550.0000\n",
            "Epoch 125/150\n",
            "196/196 [==============================] - 0s 2ms/step - loss: 660453064704.0000 - mse: 660453064704.0000 - mae: 560009.3750 - val_loss: 402616483840.0000 - val_mse: 402616483840.0000 - val_mae: 544548.9375\n",
            "Epoch 126/150\n",
            "196/196 [==============================] - 0s 2ms/step - loss: 660451819520.0000 - mse: 660451819520.0000 - mae: 560008.4375 - val_loss: 402615533568.0000 - val_mse: 402615533568.0000 - val_mae: 544548.0000\n",
            "Epoch 127/150\n",
            "196/196 [==============================] - 0s 2ms/step - loss: 660450967552.0000 - mse: 660450967552.0000 - mae: 560007.5000 - val_loss: 402614484992.0000 - val_mse: 402614484992.0000 - val_mae: 544547.0625\n",
            "Epoch 128/150\n",
            "196/196 [==============================] - 0s 2ms/step - loss: 660449787904.0000 - mse: 660449787904.0000 - mae: 560006.4375 - val_loss: 402613469184.0000 - val_mse: 402613469184.0000 - val_mae: 544546.0625\n",
            "Epoch 129/150\n",
            "196/196 [==============================] - 0s 2ms/step - loss: 660448739328.0000 - mse: 660448739328.0000 - mae: 560005.5000 - val_loss: 402612453376.0000 - val_mse: 402612453376.0000 - val_mae: 544545.1250\n",
            "Epoch 130/150\n",
            "196/196 [==============================] - 0s 2ms/step - loss: 660447821824.0000 - mse: 660447821824.0000 - mae: 560004.7500 - val_loss: 402611437568.0000 - val_mse: 402611437568.0000 - val_mae: 544544.2500\n",
            "Epoch 131/150\n",
            "196/196 [==============================] - 0s 2ms/step - loss: 660446511104.0000 - mse: 660446511104.0000 - mae: 560003.6250 - val_loss: 402610323456.0000 - val_mse: 402610323456.0000 - val_mae: 544543.3125\n",
            "Epoch 132/150\n",
            "196/196 [==============================] - 0s 2ms/step - loss: 660445724672.0000 - mse: 660445724672.0000 - mae: 560002.6250 - val_loss: 402609307648.0000 - val_mse: 402609307648.0000 - val_mae: 544542.2500\n",
            "Epoch 133/150\n",
            "196/196 [==============================] - 0s 2ms/step - loss: 660444610560.0000 - mse: 660444610560.0000 - mae: 560001.5625 - val_loss: 402608259072.0000 - val_mse: 402608259072.0000 - val_mae: 544541.3125\n",
            "Epoch 134/150\n",
            "196/196 [==============================] - 0s 2ms/step - loss: 660443561984.0000 - mse: 660443561984.0000 - mae: 560000.7500 - val_loss: 402607243264.0000 - val_mse: 402607243264.0000 - val_mae: 544540.4375\n",
            "Epoch 135/150\n",
            "196/196 [==============================] - 0s 2ms/step - loss: 660442513408.0000 - mse: 660442513408.0000 - mae: 560000.0625 - val_loss: 402606161920.0000 - val_mse: 402606161920.0000 - val_mae: 544539.5000\n",
            "Epoch 136/150\n",
            "196/196 [==============================] - 0s 2ms/step - loss: 660441268224.0000 - mse: 660441268224.0000 - mae: 559998.9375 - val_loss: 402605178880.0000 - val_mse: 402605178880.0000 - val_mae: 544538.5000\n",
            "Epoch 137/150\n",
            "196/196 [==============================] - 0s 2ms/step - loss: 660440285184.0000 - mse: 660440285184.0000 - mae: 559998.0000 - val_loss: 402604032000.0000 - val_mse: 402604032000.0000 - val_mae: 544537.5000\n",
            "Epoch 138/150\n",
            "196/196 [==============================] - 0s 2ms/step - loss: 660439367680.0000 - mse: 660439367680.0000 - mae: 559997.0000 - val_loss: 402603016192.0000 - val_mse: 402603016192.0000 - val_mae: 544536.5625\n",
            "Epoch 139/150\n",
            "196/196 [==============================] - 0s 2ms/step - loss: 660438056960.0000 - mse: 660438056960.0000 - mae: 559996.0000 - val_loss: 402601967616.0000 - val_mse: 402601967616.0000 - val_mae: 544535.6250\n",
            "Epoch 140/150\n",
            "196/196 [==============================] - 0s 2ms/step - loss: 660437008384.0000 - mse: 660437008384.0000 - mae: 559995.1250 - val_loss: 402600951808.0000 - val_mse: 402600951808.0000 - val_mae: 544534.6875\n",
            "Epoch 141/150\n",
            "196/196 [==============================] - 0s 2ms/step - loss: 660436025344.0000 - mse: 660436025344.0000 - mae: 559994.0000 - val_loss: 402599936000.0000 - val_mse: 402599936000.0000 - val_mae: 544533.6875\n",
            "Epoch 142/150\n",
            "196/196 [==============================] - 0s 2ms/step - loss: 660435042304.0000 - mse: 660435042304.0000 - mae: 559993.0625 - val_loss: 402598920192.0000 - val_mse: 402598920192.0000 - val_mae: 544532.7500\n",
            "Epoch 143/150\n",
            "196/196 [==============================] - 0s 2ms/step - loss: 660433731584.0000 - mse: 660433731584.0000 - mae: 559992.2500 - val_loss: 402597871616.0000 - val_mse: 402597871616.0000 - val_mae: 544531.8125\n",
            "Epoch 144/150\n",
            "196/196 [==============================] - 0s 2ms/step - loss: 660432814080.0000 - mse: 660432814080.0000 - mae: 559991.3125 - val_loss: 402596823040.0000 - val_mse: 402596823040.0000 - val_mae: 544530.8125\n",
            "Epoch 145/150\n",
            "196/196 [==============================] - 0s 2ms/step - loss: 660431699968.0000 - mse: 660431699968.0000 - mae: 559990.1875 - val_loss: 402595774464.0000 - val_mse: 402595774464.0000 - val_mae: 544529.9375\n",
            "Epoch 146/150\n",
            "196/196 [==============================] - 0s 2ms/step - loss: 660430716928.0000 - mse: 660430716928.0000 - mae: 559989.4375 - val_loss: 402594693120.0000 - val_mse: 402594693120.0000 - val_mae: 544529.0000\n",
            "Epoch 147/150\n",
            "196/196 [==============================] - 0s 2ms/step - loss: 660429471744.0000 - mse: 660429471744.0000 - mae: 559988.6250 - val_loss: 402593677312.0000 - val_mse: 402593677312.0000 - val_mae: 544528.0000\n",
            "Epoch 148/150\n",
            "196/196 [==============================] - 0s 2ms/step - loss: 660428488704.0000 - mse: 660428488704.0000 - mae: 559987.3750 - val_loss: 402592661504.0000 - val_mse: 402592661504.0000 - val_mae: 544527.0625\n",
            "Epoch 149/150\n",
            "196/196 [==============================] - 0s 2ms/step - loss: 660427374592.0000 - mse: 660427374592.0000 - mae: 559986.3125 - val_loss: 402591678464.0000 - val_mse: 402591678464.0000 - val_mae: 544526.1250\n",
            "Epoch 150/150\n",
            "196/196 [==============================] - 1s 3ms/step - loss: 660426194944.0000 - mse: 660426194944.0000 - mae: 559985.7500 - val_loss: 402590531584.0000 - val_mse: 402590531584.0000 - val_mae: 544525.1250\n"
          ]
        }
      ],
      "source": [
        "model = Sequential()\n",
        "model.add(Dense(10, activation='sigmoid',input_shape=(15,),kernel_initializer='normal'))\n",
        "model.add(Dense(1, kernel_initializer='normal'))\n",
        "model.compile(loss='mean_squared_error', optimizer='adam',  metrics=['mse', 'mae'])\n",
        "from keras import callbacks\n",
        "earlystopping = callbacks.EarlyStopping(monitor =\"val_loss\", mode =\"min\", patience = 5, restore_best_weights = True,verbose=1)\n",
        "trained_model = model.fit(X_train,y_train, batch_size=16, epochs=150, validation_split=0.15 ,callbacks =[earlystopping]) \n",
        "history = trained_model.history"
      ]
    },
    {
      "cell_type": "markdown",
      "metadata": {
        "id": "BJhkf0iZUQdB"
      },
      "source": [
        "#### evalute number of neurons and layers"
      ]
    },
    {
      "cell_type": "code",
      "execution_count": null,
      "metadata": {
        "colab": {
          "base_uri": "https://localhost:8080/"
        },
        "id": "7Dy5zT_8TmkI",
        "outputId": "77d415c1-7a0c-4cb4-849a-7b65451d95be"
      },
      "outputs": [
        {
          "output_type": "stream",
          "name": "stdout",
          "text": [
            "MAE: 557666.06\n",
            "MSE: 621750500000.0\n",
            "VarScore: 6.556510925292969e-07\n"
          ]
        }
      ],
      "source": [
        "# history\n",
        "Y_pred = model.predict(X_test)\n",
        "y_pred=np.ravel(Y_pred)  \n",
        "from sklearn import metrics\n",
        "print('MAE:', metrics.mean_absolute_error(y_test, y_pred))  \n",
        "print('MSE:', metrics.mean_squared_error(y_test, y_pred))  \n",
        "print('VarScore:',metrics.explained_variance_score(y_test,y_pred))"
      ]
    },
    {
      "cell_type": "code",
      "execution_count": null,
      "metadata": {
        "colab": {
          "base_uri": "https://localhost:8080/",
          "height": 295
        },
        "id": "YPubl2inTmqt",
        "outputId": "6d1d1c1b-0857-49a1-fd33-dc3842cfa897"
      },
      "outputs": [
        {
          "output_type": "display_data",
          "data": {
            "text/plain": [
              "<Figure size 432x288 with 1 Axes>"
            ],
            "image/png": "[encoded data removed]"
          },
          "metadata": {
            "needs_background": "light"
          }
        }
      ],
      "source": [
        "plt.title('MSE Loss')\n",
        "plt.plot(history['mae'], label='MAE (training data)',color='blue')\n",
        "plt.plot(history['val_mae'], label='MAE (test data)',color='orange')\n",
        "plt.ylabel('MAE Metric')\n",
        "plt.xlabel('epoch')\n",
        "plt.grid()\n",
        "plt.legend(['MAE (training data)', 'MAE (validation data)'], loc='upper right')\n",
        "plt.show()"
      ]
    },
    {
      "cell_type": "markdown",
      "metadata": {
        "id": "Oe7z0vKzUG-5"
      },
      "source": [
        "#### Model Three : 3 layers with ReLu as of activation function"
      ]
    },
    {
      "cell_type": "code",
      "execution_count": null,
      "metadata": {
        "colab": {
          "base_uri": "https://localhost:8080/"
        },
        "id": "hJElJgOgUHsN",
        "outputId": "f789eec2-4dc1-41c6-807b-cf62e4948559"
      },
      "outputs": [
        {
          "output_type": "stream",
          "name": "stdout",
          "text": [
            "Epoch 1/150\n",
            "196/196 [==============================] - 2s 5ms/step - loss: 649154396160.0000 - mse: 649154396160.0000 - mae: 549736.1250 - val_loss: 350952816640.0000 - val_mse: 350952816640.0000 - val_mae: 495732.3438\n",
            "Epoch 2/150\n",
            "196/196 [==============================] - 1s 3ms/step - loss: 474847313920.0000 - mse: 474847313920.0000 - mae: 362286.0312 - val_loss: 119470604288.0000 - val_mse: 119470604288.0000 - val_mae: 220081.7656\n",
            "Epoch 3/150\n",
            "196/196 [==============================] - 1s 3ms/step - loss: 351894700032.0000 - mse: 351894700032.0000 - mae: 237552.2031 - val_loss: 102744653824.0000 - val_mse: 102744653824.0000 - val_mae: 220917.3281\n",
            "Epoch 4/150\n",
            "196/196 [==============================] - 1s 4ms/step - loss: 346402422784.0000 - mse: 346402422784.0000 - mae: 240461.8906 - val_loss: 101439307776.0000 - val_mse: 101439307776.0000 - val_mae: 222424.0781\n",
            "Epoch 5/150\n",
            "196/196 [==============================] - 1s 4ms/step - loss: 343971790848.0000 - mse: 343971790848.0000 - mae: 239319.8594 - val_loss: 100310450176.0000 - val_mse: 100310450176.0000 - val_mae: 221856.3438\n",
            "Epoch 6/150\n",
            "196/196 [==============================] - 1s 3ms/step - loss: 342164766720.0000 - mse: 342164766720.0000 - mae: 240077.0781 - val_loss: 99258228736.0000 - val_mse: 99258228736.0000 - val_mae: 219911.3438\n",
            "Epoch 7/150\n",
            "196/196 [==============================] - 1s 3ms/step - loss: 340826488832.0000 - mse: 340826488832.0000 - mae: 237980.4062 - val_loss: 98644934656.0000 - val_mse: 98644934656.0000 - val_mae: 222601.7500\n",
            "Epoch 8/150\n",
            "196/196 [==============================] - 1s 3ms/step - loss: 339388432384.0000 - mse: 339388432384.0000 - mae: 236682.9062 - val_loss: 98396848128.0000 - val_mse: 98396848128.0000 - val_mae: 225936.2656\n",
            "Epoch 9/150\n",
            "196/196 [==============================] - 1s 5ms/step - loss: 338271436800.0000 - mse: 338271436800.0000 - mae: 237852.9062 - val_loss: 97147609088.0000 - val_mse: 97147609088.0000 - val_mae: 222668.2500\n",
            "Epoch 10/150\n",
            "196/196 [==============================] - 1s 4ms/step - loss: 337168957440.0000 - mse: 337168957440.0000 - mae: 237193.4688 - val_loss: 95972671488.0000 - val_mse: 95972671488.0000 - val_mae: 218720.6250\n",
            "Epoch 11/150\n",
            "196/196 [==============================] - 0s 2ms/step - loss: 336243032064.0000 - mse: 336243032064.0000 - mae: 236713.7344 - val_loss: 94944444416.0000 - val_mse: 94944444416.0000 - val_mae: 215527.2500\n",
            "Epoch 12/150\n",
            "196/196 [==============================] - 0s 2ms/step - loss: 335106146304.0000 - mse: 335106146304.0000 - mae: 233479.2031 - val_loss: 94146232320.0000 - val_mse: 94146232320.0000 - val_mae: 216630.8906\n",
            "Epoch 13/150\n",
            "196/196 [==============================] - 0s 2ms/step - loss: 333829439488.0000 - mse: 333829439488.0000 - mae: 232470.7656 - val_loss: 93583523840.0000 - val_mse: 93583523840.0000 - val_mae: 219031.5156\n",
            "Epoch 14/150\n",
            "196/196 [==============================] - 0s 2ms/step - loss: 332890767360.0000 - mse: 332890767360.0000 - mae: 233060.8906 - val_loss: 92098240512.0000 - val_mse: 92098240512.0000 - val_mae: 215047.0781\n",
            "Epoch 15/150\n",
            "196/196 [==============================] - 0s 2ms/step - loss: 331409752064.0000 - mse: 331409752064.0000 - mae: 231180.5781 - val_loss: 90677780480.0000 - val_mse: 90677780480.0000 - val_mae: 210593.8906\n",
            "Epoch 16/150\n",
            "196/196 [==============================] - 0s 2ms/step - loss: 330112073728.0000 - mse: 330112073728.0000 - mae: 228450.6250 - val_loss: 89831825408.0000 - val_mse: 89831825408.0000 - val_mae: 213201.1406\n",
            "Epoch 17/150\n",
            "196/196 [==============================] - 0s 2ms/step - loss: 328624832512.0000 - mse: 328624832512.0000 - mae: 228364.0156 - val_loss: 87997423616.0000 - val_mse: 87997423616.0000 - val_mae: 207036.0625\n",
            "Epoch 18/150\n",
            "196/196 [==============================] - 0s 2ms/step - loss: 326856245248.0000 - mse: 326856245248.0000 - mae: 225916.2500 - val_loss: 86511616000.0000 - val_mse: 86511616000.0000 - val_mae: 205500.2812\n",
            "Epoch 19/150\n",
            "196/196 [==============================] - 0s 2ms/step - loss: 325210079232.0000 - mse: 325210079232.0000 - mae: 224012.0938 - val_loss: 84879589376.0000 - val_mse: 84879589376.0000 - val_mae: 201598.5625\n",
            "Epoch 20/150\n",
            "196/196 [==============================] - 0s 2ms/step - loss: 323497558016.0000 - mse: 323497558016.0000 - mae: 221734.4844 - val_loss: 83258138624.0000 - val_mse: 83258138624.0000 - val_mae: 197525.1094\n",
            "Epoch 21/150\n",
            "196/196 [==============================] - 0s 2ms/step - loss: 321454669824.0000 - mse: 321454669824.0000 - mae: 216225.1719 - val_loss: 83678855168.0000 - val_mse: 83678855168.0000 - val_mae: 209834.0000\n",
            "Epoch 22/150\n",
            "196/196 [==============================] - 0s 2ms/step - loss: 319751225344.0000 - mse: 319751225344.0000 - mae: 218352.6094 - val_loss: 79967657984.0000 - val_mse: 79967657984.0000 - val_mae: 196724.7031\n",
            "Epoch 23/150\n",
            "196/196 [==============================] - 0s 2ms/step - loss: 317835968512.0000 - mse: 317835968512.0000 - mae: 215181.0469 - val_loss: 78138712064.0000 - val_mse: 78138712064.0000 - val_mae: 192558.2812\n",
            "Epoch 24/150\n",
            "196/196 [==============================] - 0s 2ms/step - loss: 315852357632.0000 - mse: 315852357632.0000 - mae: 212502.0938 - val_loss: 76486500352.0000 - val_mse: 76486500352.0000 - val_mae: 187169.5469\n",
            "Epoch 25/150\n",
            "196/196 [==============================] - 0s 2ms/step - loss: 314120044544.0000 - mse: 314120044544.0000 - mae: 208428.5000 - val_loss: 74876346368.0000 - val_mse: 74876346368.0000 - val_mae: 188166.3438\n",
            "Epoch 26/150\n",
            "196/196 [==============================] - 0s 2ms/step - loss: 312358076416.0000 - mse: 312358076416.0000 - mae: 208036.3750 - val_loss: 73211027456.0000 - val_mse: 73211027456.0000 - val_mae: 185359.0156\n",
            "Epoch 27/150\n",
            "196/196 [==============================] - 0s 2ms/step - loss: 310298640384.0000 - mse: 310298640384.0000 - mae: 204833.5781 - val_loss: 71733403648.0000 - val_mse: 71733403648.0000 - val_mae: 183515.4688\n",
            "Epoch 28/150\n",
            "196/196 [==============================] - 0s 2ms/step - loss: 308503314432.0000 - mse: 308503314432.0000 - mae: 201790.8125 - val_loss: 71522893824.0000 - val_mse: 71522893824.0000 - val_mae: 188207.4375\n",
            "Epoch 29/150\n",
            "196/196 [==============================] - 0s 2ms/step - loss: 306466390016.0000 - mse: 306466390016.0000 - mae: 200103.9375 - val_loss: 71114776576.0000 - val_mse: 71114776576.0000 - val_mae: 189890.2812\n",
            "Epoch 30/150\n",
            "196/196 [==============================] - 0s 2ms/step - loss: 305277763584.0000 - mse: 305277763584.0000 - mae: 198447.1250 - val_loss: 69689442304.0000 - val_mse: 69689442304.0000 - val_mae: 187337.4219\n",
            "Epoch 31/150\n",
            "196/196 [==============================] - 0s 2ms/step - loss: 303787048960.0000 - mse: 303787048960.0000 - mae: 197464.8594 - val_loss: 66122653696.0000 - val_mse: 66122653696.0000 - val_mae: 174197.4844\n",
            "Epoch 32/150\n",
            "196/196 [==============================] - 0s 2ms/step - loss: 301960593408.0000 - mse: 301960593408.0000 - mae: 194081.3125 - val_loss: 64934301696.0000 - val_mse: 64934301696.0000 - val_mae: 171178.0312\n",
            "Epoch 33/150\n",
            "196/196 [==============================] - 0s 2ms/step - loss: 300672548864.0000 - mse: 300672548864.0000 - mae: 191556.1875 - val_loss: 64683675648.0000 - val_mse: 64683675648.0000 - val_mae: 174943.4531\n",
            "Epoch 34/150\n",
            "196/196 [==============================] - 0s 2ms/step - loss: 299381129216.0000 - mse: 299381129216.0000 - mae: 192616.7031 - val_loss: 63155736576.0000 - val_mse: 63155736576.0000 - val_mae: 169903.0625\n",
            "Epoch 35/150\n",
            "196/196 [==============================] - 0s 2ms/step - loss: 298305945600.0000 - mse: 298305945600.0000 - mae: 190410.4531 - val_loss: 62264725504.0000 - val_mse: 62264725504.0000 - val_mae: 167496.0938\n",
            "Epoch 36/150\n",
            "196/196 [==============================] - 0s 2ms/step - loss: 297680601088.0000 - mse: 297680601088.0000 - mae: 189107.3594 - val_loss: 61602136064.0000 - val_mse: 61602136064.0000 - val_mae: 165049.4844\n",
            "Epoch 37/150\n",
            "196/196 [==============================] - 0s 2ms/step - loss: 296687435776.0000 - mse: 296687435776.0000 - mae: 188043.7812 - val_loss: 61166731264.0000 - val_mse: 61166731264.0000 - val_mae: 166799.1562\n",
            "Epoch 38/150\n",
            "196/196 [==============================] - 0s 2ms/step - loss: 295609532416.0000 - mse: 295609532416.0000 - mae: 186165.1562 - val_loss: 62723010560.0000 - val_mse: 62723010560.0000 - val_mae: 174936.6875\n",
            "Epoch 39/150\n",
            "196/196 [==============================] - 0s 2ms/step - loss: 295145242624.0000 - mse: 295145242624.0000 - mae: 187333.6250 - val_loss: 59996303360.0000 - val_mse: 59996303360.0000 - val_mae: 163687.3594\n",
            "Epoch 40/150\n",
            "196/196 [==============================] - 0s 2ms/step - loss: 294772408320.0000 - mse: 294772408320.0000 - mae: 185857.7656 - val_loss: 59940147200.0000 - val_mse: 59940147200.0000 - val_mae: 165333.5938\n",
            "Epoch 41/150\n",
            "196/196 [==============================] - 0s 2ms/step - loss: 293879939072.0000 - mse: 293879939072.0000 - mae: 184880.5156 - val_loss: 60752191488.0000 - val_mse: 60752191488.0000 - val_mae: 170143.1406\n",
            "Epoch 42/150\n",
            "196/196 [==============================] - 0s 2ms/step - loss: 293474238464.0000 - mse: 293474238464.0000 - mae: 185509.0156 - val_loss: 59904745472.0000 - val_mse: 59904745472.0000 - val_mae: 167146.5625\n",
            "Epoch 43/150\n",
            "196/196 [==============================] - 0s 2ms/step - loss: 293016829952.0000 - mse: 293016829952.0000 - mae: 185285.4375 - val_loss: 58773086208.0000 - val_mse: 58773086208.0000 - val_mae: 161593.4375\n",
            "Epoch 44/150\n",
            "196/196 [==============================] - 0s 2ms/step - loss: 292689117184.0000 - mse: 292689117184.0000 - mae: 184335.8906 - val_loss: 58637983744.0000 - val_mse: 58637983744.0000 - val_mae: 161268.6094\n",
            "Epoch 45/150\n",
            "196/196 [==============================] - 0s 2ms/step - loss: 292531142656.0000 - mse: 292531142656.0000 - mae: 184004.2969 - val_loss: 58616406016.0000 - val_mse: 58616406016.0000 - val_mae: 163035.0938\n",
            "Epoch 46/150\n",
            "196/196 [==============================] - 0s 2ms/step - loss: 291925196800.0000 - mse: 291925196800.0000 - mae: 184129.9219 - val_loss: 61043220480.0000 - val_mse: 61043220480.0000 - val_mae: 173073.8281\n",
            "Epoch 47/150\n",
            "196/196 [==============================] - 0s 2ms/step - loss: 292151394304.0000 - mse: 292151394304.0000 - mae: 184775.6562 - val_loss: 58249261056.0000 - val_mse: 58249261056.0000 - val_mae: 162144.2188\n",
            "Epoch 48/150\n",
            "196/196 [==============================] - 0s 2ms/step - loss: 291672031232.0000 - mse: 291672031232.0000 - mae: 183947.0469 - val_loss: 58274631680.0000 - val_mse: 58274631680.0000 - val_mae: 162694.3750\n",
            "Epoch 49/150\n",
            "196/196 [==============================] - 0s 2ms/step - loss: 291666395136.0000 - mse: 291666395136.0000 - mae: 184110.0625 - val_loss: 58231717888.0000 - val_mse: 58231717888.0000 - val_mae: 162647.7031\n",
            "Epoch 50/150\n",
            "196/196 [==============================] - 0s 2ms/step - loss: 291381608448.0000 - mse: 291381608448.0000 - mae: 184038.4062 - val_loss: 58106421248.0000 - val_mse: 58106421248.0000 - val_mae: 162294.6562\n",
            "Epoch 51/150\n",
            "196/196 [==============================] - 0s 2ms/step - loss: 291439968256.0000 - mse: 291439968256.0000 - mae: 183851.7812 - val_loss: 58146263040.0000 - val_mse: 58146263040.0000 - val_mae: 163025.6875\n",
            "Epoch 52/150\n",
            "196/196 [==============================] - 0s 2ms/step - loss: 291095740416.0000 - mse: 291095740416.0000 - mae: 183833.8281 - val_loss: 58010222592.0000 - val_mse: 58010222592.0000 - val_mae: 161644.9531\n",
            "Epoch 53/150\n",
            "196/196 [==============================] - 0s 2ms/step - loss: 291129393152.0000 - mse: 291129393152.0000 - mae: 183274.0938 - val_loss: 60284772352.0000 - val_mse: 60284772352.0000 - val_mae: 171243.6562\n",
            "Epoch 54/150\n",
            "196/196 [==============================] - 0s 2ms/step - loss: 290984722432.0000 - mse: 290984722432.0000 - mae: 185037.7344 - val_loss: 58308661248.0000 - val_mse: 58308661248.0000 - val_mae: 161431.7344\n",
            "Epoch 55/150\n",
            "196/196 [==============================] - 0s 2ms/step - loss: 290980823040.0000 - mse: 290980823040.0000 - mae: 182642.0625 - val_loss: 59445362688.0000 - val_mse: 59445362688.0000 - val_mae: 168424.5000\n",
            "Epoch 56/150\n",
            "196/196 [==============================] - 0s 2ms/step - loss: 291220258816.0000 - mse: 291220258816.0000 - mae: 184316.8438 - val_loss: 58364669952.0000 - val_mse: 58364669952.0000 - val_mae: 164314.2969\n",
            "Epoch 57/150\n",
            "174/196 [=========================>....] - ETA: 0s - loss: 317030498304.0000 - mse: 317030498304.0000 - mae: 186095.5156Restoring model weights from the end of the best epoch: 52.\n",
            "196/196 [==============================] - 0s 2ms/step - loss: 291031416832.0000 - mse: 291031416832.0000 - mae: 184814.7969 - val_loss: 58018107392.0000 - val_mse: 58018107392.0000 - val_mae: 161726.6875\n",
            "Epoch 57: early stopping\n"
          ]
        }
      ],
      "source": [
        "model = Sequential()\n",
        "model.add(Dense(10, activation='relu',input_shape=(15,),kernel_initializer='normal'))\n",
        "model.add(Dense(8,  activation='relu'))\n",
        "model.add(Dense(1, kernel_initializer='normal'))\n",
        "model.compile(loss='mean_squared_error', optimizer='adam',  metrics=['mse', 'mae'])\n",
        "from keras import callbacks\n",
        "earlystopping = callbacks.EarlyStopping(monitor =\"val_loss\", mode =\"min\", patience = 5, restore_best_weights = True,verbose=1)\n",
        "trained_model = model.fit(X_train,y_train, batch_size=16, epochs=150, validation_split=0.15 ,callbacks =[earlystopping]) \n",
        "history = trained_model.history"
      ]
    },
    {
      "cell_type": "markdown",
      "metadata": {
        "id": "QldkM0uyVBo6"
      },
      "source": [
        "#### evalute number of neurons and layers"
      ]
    },
    {
      "cell_type": "code",
      "execution_count": null,
      "metadata": {
        "colab": {
          "base_uri": "https://localhost:8080/"
        },
        "id": "8S3oFgBZUH0U",
        "outputId": "2d40bf64-2a0b-42ed-98ef-e19bbfe252cd"
      },
      "outputs": [
        {
          "output_type": "stream",
          "name": "stdout",
          "text": [
            "MAE: 178458.27\n",
            "MSE: 255936950000.0\n",
            "VarScore: 0.17681866884231567\n"
          ]
        }
      ],
      "source": [
        "# history\n",
        "Y_pred = model.predict(X_test)\n",
        "y_pred=np.ravel(Y_pred)  \n",
        "from sklearn import metrics\n",
        "print('MAE:', metrics.mean_absolute_error(y_test, y_pred))  \n",
        "print('MSE:', metrics.mean_squared_error(y_test, y_pred))  \n",
        "print('VarScore:',metrics.explained_variance_score(y_test,y_pred))"
      ]
    },
    {
      "cell_type": "code",
      "execution_count": null,
      "metadata": {
        "colab": {
          "base_uri": "https://localhost:8080/",
          "height": 295
        },
        "id": "fPjoEIRIUIAg",
        "outputId": "d219f74e-e76e-4d28-a648-a34511c9d964"
      },
      "outputs": [
        {
          "output_type": "display_data",
          "data": {
            "text/plain": [
              "<Figure size 432x288 with 1 Axes>"
            ],
            "image/png": "[encoded data removed]"
          },
          "metadata": {
            "needs_background": "light"
          }
        }
      ],
      "source": [
        "plt.title('MSE Loss')\n",
        "plt.plot(history['mae'], label='MAE (training data)',color='blue')\n",
        "plt.plot(history['val_mae'], label='MAE (test data)',color='orange')\n",
        "plt.ylabel('MAE Metric')\n",
        "plt.xlabel('epoch')\n",
        "plt.grid()\n",
        "plt.legend(['MAE (training data)', 'MAE (validation data)'], loc='upper right')\n",
        "plt.show()"
      ]
    },
    {
      "cell_type": "markdown",
      "metadata": {
        "id": "5A1_rzgEUIe0"
      },
      "source": [
        "#### Model Four : 3 layers with Sigmoid as of activation *function*"
      ]
    },
    {
      "cell_type": "code",
      "execution_count": null,
      "metadata": {
        "colab": {
          "base_uri": "https://localhost:8080/"
        },
        "id": "PLywgoApUIoy",
        "outputId": "435a736c-3080-4a80-86dd-657bb8d57c68"
      },
      "outputs": [
        {
          "output_type": "stream",
          "name": "stdout",
          "text": [
            "Epoch 1/150\n",
            "196/196 [==============================] - 2s 4ms/step - loss: 660585644032.0000 - mse: 660585644032.0000 - mae: 560127.3750 - val_loss: 402744967168.0000 - val_mse: 402744967168.0000 - val_mae: 544666.6875\n",
            "Epoch 2/150\n",
            "196/196 [==============================] - 1s 4ms/step - loss: 660583284736.0000 - mse: 660583284736.0000 - mae: 560125.5625 - val_loss: 402742378496.0000 - val_mse: 402742378496.0000 - val_mae: 544664.3750\n",
            "Epoch 3/150\n",
            "196/196 [==============================] - 1s 3ms/step - loss: 660581187584.0000 - mse: 660581187584.0000 - mae: 560123.1250 - val_loss: 402740150272.0000 - val_mse: 402740150272.0000 - val_mae: 544662.2500\n",
            "Epoch 4/150\n",
            "196/196 [==============================] - 1s 4ms/step - loss: 660578566144.0000 - mse: 660578566144.0000 - mae: 560121.2500 - val_loss: 402738118656.0000 - val_mse: 402738118656.0000 - val_mae: 544660.3750\n",
            "Epoch 5/150\n",
            "196/196 [==============================] - 1s 3ms/step - loss: 660576665600.0000 - mse: 660576665600.0000 - mae: 560119.5000 - val_loss: 402736021504.0000 - val_mse: 402736021504.0000 - val_mae: 544658.4375\n",
            "Epoch 6/150\n",
            "196/196 [==============================] - 1s 4ms/step - loss: 660574502912.0000 - mse: 660574502912.0000 - mae: 560117.5625 - val_loss: 402734088192.0000 - val_mse: 402734088192.0000 - val_mae: 544656.6875\n",
            "Epoch 7/150\n",
            "196/196 [==============================] - 1s 3ms/step - loss: 660572602368.0000 - mse: 660572602368.0000 - mae: 560116.0000 - val_loss: 402732089344.0000 - val_mse: 402732089344.0000 - val_mae: 544654.8750\n",
            "Epoch 8/150\n",
            "196/196 [==============================] - 1s 3ms/step - loss: 660570374144.0000 - mse: 660570374144.0000 - mae: 560113.9375 - val_loss: 402730156032.0000 - val_mse: 402730156032.0000 - val_mae: 544653.1875\n",
            "Epoch 9/150\n",
            "196/196 [==============================] - 1s 6ms/step - loss: 660568604672.0000 - mse: 660568604672.0000 - mae: 560112.3125 - val_loss: 402728386560.0000 - val_mse: 402728386560.0000 - val_mae: 544651.5000\n",
            "Epoch 10/150\n",
            "196/196 [==============================] - 1s 3ms/step - loss: 660566966272.0000 - mse: 660566966272.0000 - mae: 560110.4375 - val_loss: 402726420480.0000 - val_mse: 402726420480.0000 - val_mae: 544649.6250\n",
            "Epoch 11/150\n",
            "196/196 [==============================] - 0s 2ms/step - loss: 660564541440.0000 - mse: 660564541440.0000 - mae: 560108.6250 - val_loss: 402724519936.0000 - val_mse: 402724519936.0000 - val_mae: 544647.8750\n",
            "Epoch 12/150\n",
            "196/196 [==============================] - 0s 2ms/step - loss: 660562771968.0000 - mse: 660562771968.0000 - mae: 560107.1875 - val_loss: 402722684928.0000 - val_mse: 402722684928.0000 - val_mae: 544646.1875\n",
            "Epoch 13/150\n",
            "196/196 [==============================] - 0s 2ms/step - loss: 660560674816.0000 - mse: 660560674816.0000 - mae: 560105.4375 - val_loss: 402720751616.0000 - val_mse: 402720751616.0000 - val_mae: 544644.3750\n",
            "Epoch 14/150\n",
            "196/196 [==============================] - 0s 2ms/step - loss: 660558905344.0000 - mse: 660558905344.0000 - mae: 560103.6250 - val_loss: 402718818304.0000 - val_mse: 402718818304.0000 - val_mae: 544642.8125\n",
            "Epoch 15/150\n",
            "196/196 [==============================] - 0s 2ms/step - loss: 660557070336.0000 - mse: 660557070336.0000 - mae: 560101.8750 - val_loss: 402716950528.0000 - val_mse: 402716950528.0000 - val_mae: 544641.0000\n",
            "Epoch 16/150\n",
            "196/196 [==============================] - 0s 2ms/step - loss: 660554842112.0000 - mse: 660554842112.0000 - mae: 560100.4375 - val_loss: 402715181056.0000 - val_mse: 402715181056.0000 - val_mae: 544639.4375\n",
            "Epoch 17/150\n",
            "196/196 [==============================] - 0s 2ms/step - loss: 660553334784.0000 - mse: 660553334784.0000 - mae: 560098.4375 - val_loss: 402713313280.0000 - val_mse: 402713313280.0000 - val_mae: 544637.5625\n",
            "Epoch 18/150\n",
            "196/196 [==============================] - 0s 2ms/step - loss: 660551368704.0000 - mse: 660551368704.0000 - mae: 560096.7500 - val_loss: 402711412736.0000 - val_mse: 402711412736.0000 - val_mae: 544635.8750\n",
            "Epoch 19/150\n",
            "196/196 [==============================] - 0s 2ms/step - loss: 660549337088.0000 - mse: 660549337088.0000 - mae: 560095.1250 - val_loss: 402709577728.0000 - val_mse: 402709577728.0000 - val_mae: 544634.1875\n",
            "Epoch 20/150\n",
            "196/196 [==============================] - 0s 2ms/step - loss: 660547502080.0000 - mse: 660547502080.0000 - mae: 560093.3125 - val_loss: 402707677184.0000 - val_mse: 402707677184.0000 - val_mae: 544632.3750\n",
            "Epoch 21/150\n",
            "196/196 [==============================] - 0s 2ms/step - loss: 660545470464.0000 - mse: 660545470464.0000 - mae: 560091.6875 - val_loss: 402705809408.0000 - val_mse: 402705809408.0000 - val_mae: 544630.8125\n",
            "Epoch 22/150\n",
            "196/196 [==============================] - 0s 2ms/step - loss: 660543569920.0000 - mse: 660543569920.0000 - mae: 560090.1250 - val_loss: 402703974400.0000 - val_mse: 402703974400.0000 - val_mae: 544629.1875\n",
            "Epoch 23/150\n",
            "196/196 [==============================] - 0s 2ms/step - loss: 660541734912.0000 - mse: 660541734912.0000 - mae: 560088.1250 - val_loss: 402702139392.0000 - val_mse: 402702139392.0000 - val_mae: 544627.4375\n",
            "Epoch 24/150\n",
            "196/196 [==============================] - 0s 2ms/step - loss: 660539637760.0000 - mse: 660539637760.0000 - mae: 560086.4375 - val_loss: 402700238848.0000 - val_mse: 402700238848.0000 - val_mae: 544625.6250\n",
            "Epoch 25/150\n",
            "196/196 [==============================] - 0s 2ms/step - loss: 660537802752.0000 - mse: 660537802752.0000 - mae: 560084.9375 - val_loss: 402698371072.0000 - val_mse: 402698371072.0000 - val_mae: 544623.8750\n",
            "Epoch 26/150\n",
            "196/196 [==============================] - 0s 2ms/step - loss: 660535771136.0000 - mse: 660535771136.0000 - mae: 560083.2500 - val_loss: 402696568832.0000 - val_mse: 402696568832.0000 - val_mae: 544622.2500\n",
            "Epoch 27/150\n",
            "196/196 [==============================] - 0s 2ms/step - loss: 660534001664.0000 - mse: 660534001664.0000 - mae: 560081.1875 - val_loss: 402694668288.0000 - val_mse: 402694668288.0000 - val_mae: 544620.3750\n",
            "Epoch 28/150\n",
            "196/196 [==============================] - 0s 2ms/step - loss: 660531970048.0000 - mse: 660531970048.0000 - mae: 560079.5625 - val_loss: 402692800512.0000 - val_mse: 402692800512.0000 - val_mae: 544618.8125\n",
            "Epoch 29/150\n",
            "196/196 [==============================] - 0s 2ms/step - loss: 660530200576.0000 - mse: 660530200576.0000 - mae: 560078.0625 - val_loss: 402690899968.0000 - val_mse: 402690899968.0000 - val_mae: 544617.1875\n",
            "Epoch 30/150\n",
            "196/196 [==============================] - 0s 2ms/step - loss: 660528234496.0000 - mse: 660528234496.0000 - mae: 560076.1250 - val_loss: 402689097728.0000 - val_mse: 402689097728.0000 - val_mae: 544615.4375\n",
            "Epoch 31/150\n",
            "196/196 [==============================] - 0s 2ms/step - loss: 660526333952.0000 - mse: 660526333952.0000 - mae: 560074.6250 - val_loss: 402687164416.0000 - val_mse: 402687164416.0000 - val_mae: 544613.6875\n",
            "Epoch 32/150\n",
            "196/196 [==============================] - 0s 2ms/step - loss: 660524564480.0000 - mse: 660524564480.0000 - mae: 560072.8125 - val_loss: 402685362176.0000 - val_mse: 402685362176.0000 - val_mae: 544611.8750\n",
            "Epoch 33/150\n",
            "196/196 [==============================] - 0s 2ms/step - loss: 660522532864.0000 - mse: 660522532864.0000 - mae: 560071.4375 - val_loss: 402683494400.0000 - val_mse: 402683494400.0000 - val_mae: 544610.2500\n",
            "Epoch 34/150\n",
            "196/196 [==============================] - 0s 2ms/step - loss: 660520566784.0000 - mse: 660520566784.0000 - mae: 560069.4375 - val_loss: 402681593856.0000 - val_mse: 402681593856.0000 - val_mae: 544608.4375\n",
            "Epoch 35/150\n",
            "196/196 [==============================] - 0s 2ms/step - loss: 660518666240.0000 - mse: 660518666240.0000 - mae: 560067.7500 - val_loss: 402679824384.0000 - val_mse: 402679824384.0000 - val_mae: 544606.8750\n",
            "Epoch 36/150\n",
            "196/196 [==============================] - 0s 2ms/step - loss: 660516896768.0000 - mse: 660516896768.0000 - mae: 560065.9375 - val_loss: 402677891072.0000 - val_mse: 402677891072.0000 - val_mae: 544605.1875\n",
            "Epoch 37/150\n",
            "196/196 [==============================] - 0s 2ms/step - loss: 660514996224.0000 - mse: 660514996224.0000 - mae: 560064.1875 - val_loss: 402676088832.0000 - val_mse: 402676088832.0000 - val_mae: 544603.5000\n",
            "Epoch 38/150\n",
            "196/196 [==============================] - 0s 2ms/step - loss: 660512899072.0000 - mse: 660512899072.0000 - mae: 560062.8125 - val_loss: 402674089984.0000 - val_mse: 402674089984.0000 - val_mae: 544601.6875\n",
            "Epoch 39/150\n",
            "196/196 [==============================] - 0s 2ms/step - loss: 660511064064.0000 - mse: 660511064064.0000 - mae: 560060.6875 - val_loss: 402672222208.0000 - val_mse: 402672222208.0000 - val_mae: 544599.8750\n",
            "Epoch 40/150\n",
            "196/196 [==============================] - 0s 2ms/step - loss: 660509229056.0000 - mse: 660509229056.0000 - mae: 560059.2500 - val_loss: 402670485504.0000 - val_mse: 402670485504.0000 - val_mae: 544598.2500\n",
            "Epoch 41/150\n",
            "196/196 [==============================] - 0s 2ms/step - loss: 660507000832.0000 - mse: 660507000832.0000 - mae: 560057.5625 - val_loss: 402668552192.0000 - val_mse: 402668552192.0000 - val_mae: 544596.6250\n",
            "Epoch 42/150\n",
            "196/196 [==============================] - 0s 2ms/step - loss: 660505165824.0000 - mse: 660505165824.0000 - mae: 560055.7500 - val_loss: 402666684416.0000 - val_mse: 402666684416.0000 - val_mae: 544594.8750\n",
            "Epoch 43/150\n",
            "196/196 [==============================] - 0s 2ms/step - loss: 660503265280.0000 - mse: 660503265280.0000 - mae: 560054.1250 - val_loss: 402664849408.0000 - val_mse: 402664849408.0000 - val_mae: 544593.1875\n",
            "Epoch 44/150\n",
            "196/196 [==============================] - 0s 2ms/step - loss: 660501495808.0000 - mse: 660501495808.0000 - mae: 560052.5000 - val_loss: 402663047168.0000 - val_mse: 402663047168.0000 - val_mae: 544591.5000\n",
            "Epoch 45/150\n",
            "196/196 [==============================] - 0s 2ms/step - loss: 660499529728.0000 - mse: 660499529728.0000 - mae: 560050.5625 - val_loss: 402661146624.0000 - val_mse: 402661146624.0000 - val_mae: 544589.7500\n",
            "Epoch 46/150\n",
            "196/196 [==============================] - 0s 2ms/step - loss: 660497629184.0000 - mse: 660497629184.0000 - mae: 560048.8750 - val_loss: 402659344384.0000 - val_mse: 402659344384.0000 - val_mae: 544588.1250\n",
            "Epoch 47/150\n",
            "196/196 [==============================] - 0s 2ms/step - loss: 660495728640.0000 - mse: 660495728640.0000 - mae: 560047.2500 - val_loss: 402657542144.0000 - val_mse: 402657542144.0000 - val_mae: 544586.3750\n",
            "Epoch 48/150\n",
            "196/196 [==============================] - 0s 2ms/step - loss: 660493697024.0000 - mse: 660493697024.0000 - mae: 560045.3750 - val_loss: 402655608832.0000 - val_mse: 402655608832.0000 - val_mae: 544584.6250\n",
            "Epoch 49/150\n",
            "196/196 [==============================] - 0s 2ms/step - loss: 660491862016.0000 - mse: 660491862016.0000 - mae: 560043.9375 - val_loss: 402653806592.0000 - val_mse: 402653806592.0000 - val_mae: 544583.0000\n",
            "Epoch 50/150\n",
            "196/196 [==============================] - 0s 2ms/step - loss: 660489961472.0000 - mse: 660489961472.0000 - mae: 560042.3125 - val_loss: 402651906048.0000 - val_mse: 402651906048.0000 - val_mae: 544581.3125\n",
            "Epoch 51/150\n",
            "196/196 [==============================] - 0s 2ms/step - loss: 660488323072.0000 - mse: 660488323072.0000 - mae: 560040.5000 - val_loss: 402650038272.0000 - val_mse: 402650038272.0000 - val_mae: 544579.6250\n",
            "Epoch 52/150\n",
            "196/196 [==============================] - 0s 2ms/step - loss: 660486225920.0000 - mse: 660486225920.0000 - mae: 560038.5625 - val_loss: 402648170496.0000 - val_mse: 402648170496.0000 - val_mae: 544577.8750\n",
            "Epoch 53/150\n",
            "196/196 [==============================] - 0s 2ms/step - loss: 660484390912.0000 - mse: 660484390912.0000 - mae: 560037.0000 - val_loss: 402646335488.0000 - val_mse: 402646335488.0000 - val_mae: 544576.1875\n",
            "Epoch 54/150\n",
            "196/196 [==============================] - 0s 2ms/step - loss: 660482424832.0000 - mse: 660482424832.0000 - mae: 560035.1875 - val_loss: 402644500480.0000 - val_mse: 402644500480.0000 - val_mae: 544574.4375\n",
            "Epoch 55/150\n",
            "196/196 [==============================] - 0s 2ms/step - loss: 660480458752.0000 - mse: 660480458752.0000 - mae: 560033.6875 - val_loss: 402642665472.0000 - val_mse: 402642665472.0000 - val_mae: 544572.7500\n",
            "Epoch 56/150\n",
            "196/196 [==============================] - 0s 2ms/step - loss: 660478754816.0000 - mse: 660478754816.0000 - mae: 560032.1875 - val_loss: 402640797696.0000 - val_mse: 402640797696.0000 - val_mae: 544571.1875\n",
            "Epoch 57/150\n",
            "196/196 [==============================] - 0s 2ms/step - loss: 660476657664.0000 - mse: 660476657664.0000 - mae: 560030.3125 - val_loss: 402638929920.0000 - val_mse: 402638929920.0000 - val_mae: 544569.3750\n",
            "Epoch 58/150\n",
            "196/196 [==============================] - 0s 2ms/step - loss: 660474822656.0000 - mse: 660474822656.0000 - mae: 560028.3750 - val_loss: 402637094912.0000 - val_mse: 402637094912.0000 - val_mae: 544567.6250\n",
            "Epoch 59/150\n",
            "196/196 [==============================] - 0s 2ms/step - loss: 660472856576.0000 - mse: 660472856576.0000 - mae: 560026.7500 - val_loss: 402635259904.0000 - val_mse: 402635259904.0000 - val_mae: 544565.9375\n",
            "Epoch 60/150\n",
            "196/196 [==============================] - 0s 2ms/step - loss: 660470956032.0000 - mse: 660470956032.0000 - mae: 560025.1875 - val_loss: 402633392128.0000 - val_mse: 402633392128.0000 - val_mae: 544564.2500\n",
            "Epoch 61/150\n",
            "196/196 [==============================] - 0s 2ms/step - loss: 660469252096.0000 - mse: 660469252096.0000 - mae: 560023.3125 - val_loss: 402631524352.0000 - val_mse: 402631524352.0000 - val_mae: 544562.6250\n",
            "Epoch 62/150\n",
            "196/196 [==============================] - 0s 2ms/step - loss: 660467351552.0000 - mse: 660467351552.0000 - mae: 560021.8125 - val_loss: 402629689344.0000 - val_mse: 402629689344.0000 - val_mae: 544560.8750\n",
            "Epoch 63/150\n",
            "196/196 [==============================] - 0s 2ms/step - loss: 660465516544.0000 - mse: 660465516544.0000 - mae: 560020.0625 - val_loss: 402627821568.0000 - val_mse: 402627821568.0000 - val_mae: 544559.1875\n",
            "Epoch 64/150\n",
            "196/196 [==============================] - 0s 2ms/step - loss: 660463157248.0000 - mse: 660463157248.0000 - mae: 560018.2500 - val_loss: 402625921024.0000 - val_mse: 402625921024.0000 - val_mae: 544557.4375\n",
            "Epoch 65/150\n",
            "196/196 [==============================] - 0s 2ms/step - loss: 660461322240.0000 - mse: 660461322240.0000 - mae: 560016.6250 - val_loss: 402624151552.0000 - val_mse: 402624151552.0000 - val_mae: 544555.6875\n",
            "Epoch 66/150\n",
            "196/196 [==============================] - 0s 2ms/step - loss: 660459552768.0000 - mse: 660459552768.0000 - mae: 560015.0000 - val_loss: 402622251008.0000 - val_mse: 402622251008.0000 - val_mae: 544554.0000\n",
            "Epoch 67/150\n",
            "196/196 [==============================] - 1s 3ms/step - loss: 660457652224.0000 - mse: 660457652224.0000 - mae: 560013.1250 - val_loss: 402620383232.0000 - val_mse: 402620383232.0000 - val_mae: 544552.3125\n",
            "Epoch 68/150\n",
            "196/196 [==============================] - 0s 3ms/step - loss: 660455686144.0000 - mse: 660455686144.0000 - mae: 560011.5625 - val_loss: 402618580992.0000 - val_mse: 402618580992.0000 - val_mae: 544550.6875\n",
            "Epoch 69/150\n",
            "196/196 [==============================] - 0s 2ms/step - loss: 660453785600.0000 - mse: 660453785600.0000 - mae: 560009.8750 - val_loss: 402616680448.0000 - val_mse: 402616680448.0000 - val_mae: 544548.8750\n",
            "Epoch 70/150\n",
            "196/196 [==============================] - 0s 3ms/step - loss: 660451819520.0000 - mse: 660451819520.0000 - mae: 560008.0000 - val_loss: 402614812672.0000 - val_mse: 402614812672.0000 - val_mae: 544547.3125\n",
            "Epoch 71/150\n",
            "196/196 [==============================] - 0s 2ms/step - loss: 660449853440.0000 - mse: 660449853440.0000 - mae: 560006.3750 - val_loss: 402612912128.0000 - val_mse: 402612912128.0000 - val_mae: 544545.4375\n",
            "Epoch 72/150\n",
            "196/196 [==============================] - 0s 2ms/step - loss: 660447821824.0000 - mse: 660447821824.0000 - mae: 560004.6875 - val_loss: 402611175424.0000 - val_mse: 402611175424.0000 - val_mae: 544543.7500\n",
            "Epoch 73/150\n",
            "196/196 [==============================] - 0s 2ms/step - loss: 660446183424.0000 - mse: 660446183424.0000 - mae: 560003.0625 - val_loss: 402609242112.0000 - val_mse: 402609242112.0000 - val_mae: 544542.1250\n",
            "Epoch 74/150\n",
            "196/196 [==============================] - 0s 2ms/step - loss: 660444282880.0000 - mse: 660444282880.0000 - mae: 560001.1875 - val_loss: 402607374336.0000 - val_mse: 402607374336.0000 - val_mae: 544540.3750\n",
            "Epoch 75/150\n",
            "196/196 [==============================] - 0s 2ms/step - loss: 660442054656.0000 - mse: 660442054656.0000 - mae: 559999.5625 - val_loss: 402605506560.0000 - val_mse: 402605506560.0000 - val_mae: 544538.6875\n",
            "Epoch 76/150\n",
            "196/196 [==============================] - 0s 2ms/step - loss: 660440285184.0000 - mse: 660440285184.0000 - mae: 559997.8750 - val_loss: 402603638784.0000 - val_mse: 402603638784.0000 - val_mae: 544537.0000\n",
            "Epoch 77/150\n",
            "196/196 [==============================] - 0s 2ms/step - loss: 660438515712.0000 - mse: 660438515712.0000 - mae: 559995.9375 - val_loss: 402601803776.0000 - val_mse: 402601803776.0000 - val_mae: 544535.3125\n",
            "Epoch 78/150\n",
            "196/196 [==============================] - 0s 2ms/step - loss: 660436549632.0000 - mse: 660436549632.0000 - mae: 559994.5000 - val_loss: 402599968768.0000 - val_mse: 402599968768.0000 - val_mae: 544533.5000\n",
            "Epoch 79/150\n",
            "196/196 [==============================] - 0s 2ms/step - loss: 660434583552.0000 - mse: 660434583552.0000 - mae: 559992.5625 - val_loss: 402598133760.0000 - val_mse: 402598133760.0000 - val_mae: 544531.8750\n",
            "Epoch 80/150\n",
            "196/196 [==============================] - 0s 2ms/step - loss: 660432748544.0000 - mse: 660432748544.0000 - mae: 559991.0625 - val_loss: 402596200448.0000 - val_mse: 402596200448.0000 - val_mae: 544530.1250\n",
            "Epoch 81/150\n",
            "196/196 [==============================] - 0s 2ms/step - loss: 660430782464.0000 - mse: 660430782464.0000 - mae: 559989.1250 - val_loss: 402594365440.0000 - val_mse: 402594365440.0000 - val_mae: 544528.3750\n",
            "Epoch 82/150\n",
            "196/196 [==============================] - 0s 2ms/step - loss: 660428685312.0000 - mse: 660428685312.0000 - mae: 559987.6250 - val_loss: 402592530432.0000 - val_mse: 402592530432.0000 - val_mae: 544526.8125\n",
            "Epoch 83/150\n",
            "196/196 [==============================] - 0s 2ms/step - loss: 660427112448.0000 - mse: 660427112448.0000 - mae: 559985.7500 - val_loss: 402590564352.0000 - val_mse: 402590564352.0000 - val_mae: 544525.0000\n",
            "Epoch 84/150\n",
            "196/196 [==============================] - 0s 2ms/step - loss: 660425080832.0000 - mse: 660425080832.0000 - mae: 559984.0625 - val_loss: 402588794880.0000 - val_mse: 402588794880.0000 - val_mae: 544523.3750\n",
            "Epoch 85/150\n",
            "196/196 [==============================] - 0s 2ms/step - loss: 660423245824.0000 - mse: 660423245824.0000 - mae: 559982.5000 - val_loss: 402586927104.0000 - val_mse: 402586927104.0000 - val_mae: 544521.6250\n",
            "Epoch 86/150\n",
            "196/196 [==============================] - 0s 2ms/step - loss: 660421345280.0000 - mse: 660421345280.0000 - mae: 559980.6250 - val_loss: 402585092096.0000 - val_mse: 402585092096.0000 - val_mae: 544519.8750\n",
            "Epoch 87/150\n",
            "196/196 [==============================] - 0s 2ms/step - loss: 660419510272.0000 - mse: 660419510272.0000 - mae: 559979.1875 - val_loss: 402583224320.0000 - val_mse: 402583224320.0000 - val_mae: 544518.1875\n",
            "Epoch 88/150\n",
            "196/196 [==============================] - 0s 2ms/step - loss: 660417609728.0000 - mse: 660417609728.0000 - mae: 559977.3125 - val_loss: 402581323776.0000 - val_mse: 402581323776.0000 - val_mae: 544516.3750\n",
            "Epoch 89/150\n",
            "196/196 [==============================] - 0s 2ms/step - loss: 660415774720.0000 - mse: 660415774720.0000 - mae: 559975.6250 - val_loss: 402579456000.0000 - val_mse: 402579456000.0000 - val_mae: 544514.8125\n",
            "Epoch 90/150\n",
            "196/196 [==============================] - 0s 2ms/step - loss: 660413677568.0000 - mse: 660413677568.0000 - mae: 559974.0000 - val_loss: 402577686528.0000 - val_mse: 402577686528.0000 - val_mae: 544513.1875\n",
            "Epoch 91/150\n",
            "196/196 [==============================] - 0s 2ms/step - loss: 660411449344.0000 - mse: 660411449344.0000 - mae: 559972.3125 - val_loss: 402575818752.0000 - val_mse: 402575818752.0000 - val_mae: 544511.4375\n",
            "Epoch 92/150\n",
            "196/196 [==============================] - 0s 2ms/step - loss: 660410073088.0000 - mse: 660410073088.0000 - mae: 559970.5625 - val_loss: 402573918208.0000 - val_mse: 402573918208.0000 - val_mae: 544509.6250\n",
            "Epoch 93/150\n",
            "196/196 [==============================] - 0s 2ms/step - loss: 660407975936.0000 - mse: 660407975936.0000 - mae: 559968.6875 - val_loss: 402572017664.0000 - val_mse: 402572017664.0000 - val_mae: 544507.8750\n",
            "Epoch 94/150\n",
            "196/196 [==============================] - 0s 2ms/step - loss: 660406075392.0000 - mse: 660406075392.0000 - mae: 559967.1875 - val_loss: 402570117120.0000 - val_mse: 402570117120.0000 - val_mae: 544506.2500\n",
            "Epoch 95/150\n",
            "196/196 [==============================] - 1s 3ms/step - loss: 660403978240.0000 - mse: 660403978240.0000 - mae: 559965.1875 - val_loss: 402568282112.0000 - val_mse: 402568282112.0000 - val_mae: 544504.4375\n",
            "Epoch 96/150\n",
            "196/196 [==============================] - 1s 5ms/step - loss: 660401946624.0000 - mse: 660401946624.0000 - mae: 559963.6875 - val_loss: 402566512640.0000 - val_mse: 402566512640.0000 - val_mae: 544502.8125\n",
            "Epoch 97/150\n",
            "196/196 [==============================] - 1s 5ms/step - loss: 660400177152.0000 - mse: 660400177152.0000 - mae: 559962.1875 - val_loss: 402564612096.0000 - val_mse: 402564612096.0000 - val_mae: 544501.1875\n",
            "Epoch 98/150\n",
            "196/196 [==============================] - 0s 2ms/step - loss: 660398342144.0000 - mse: 660398342144.0000 - mae: 559960.2500 - val_loss: 402562809856.0000 - val_mse: 402562809856.0000 - val_mae: 544499.5000\n",
            "Epoch 99/150\n",
            "196/196 [==============================] - 0s 2ms/step - loss: 660396310528.0000 - mse: 660396310528.0000 - mae: 559958.3750 - val_loss: 402560811008.0000 - val_mse: 402560811008.0000 - val_mae: 544497.6875\n",
            "Epoch 100/150\n",
            "196/196 [==============================] - 0s 2ms/step - loss: 660394409984.0000 - mse: 660394409984.0000 - mae: 559956.8750 - val_loss: 402559041536.0000 - val_mse: 402559041536.0000 - val_mae: 544495.8750\n",
            "Epoch 101/150\n",
            "196/196 [==============================] - 0s 2ms/step - loss: 660392706048.0000 - mse: 660392706048.0000 - mae: 559955.1250 - val_loss: 402557239296.0000 - val_mse: 402557239296.0000 - val_mae: 544494.2500\n",
            "Epoch 102/150\n",
            "196/196 [==============================] - 0s 2ms/step - loss: 660390739968.0000 - mse: 660390739968.0000 - mae: 559953.5000 - val_loss: 402555338752.0000 - val_mse: 402555338752.0000 - val_mae: 544492.6250\n",
            "Epoch 103/150\n",
            "196/196 [==============================] - 0s 2ms/step - loss: 660388708352.0000 - mse: 660388708352.0000 - mae: 559951.6875 - val_loss: 402553405440.0000 - val_mse: 402553405440.0000 - val_mae: 544490.8750\n",
            "Epoch 104/150\n",
            "196/196 [==============================] - 0s 2ms/step - loss: 660386676736.0000 - mse: 660386676736.0000 - mae: 559950.0625 - val_loss: 402551537664.0000 - val_mse: 402551537664.0000 - val_mae: 544489.1875\n",
            "Epoch 105/150\n",
            "196/196 [==============================] - 0s 2ms/step - loss: 660385038336.0000 - mse: 660385038336.0000 - mae: 559948.2500 - val_loss: 402549800960.0000 - val_mse: 402549800960.0000 - val_mae: 544487.5000\n",
            "Epoch 106/150\n",
            "196/196 [==============================] - 0s 2ms/step - loss: 660382875648.0000 - mse: 660382875648.0000 - mae: 559946.5000 - val_loss: 402547802112.0000 - val_mse: 402547802112.0000 - val_mae: 544485.7500\n",
            "Epoch 107/150\n",
            "196/196 [==============================] - 0s 2ms/step - loss: 660381040640.0000 - mse: 660381040640.0000 - mae: 559944.8125 - val_loss: 402546032640.0000 - val_mse: 402546032640.0000 - val_mae: 544484.0000\n",
            "Epoch 108/150\n",
            "196/196 [==============================] - 0s 2ms/step - loss: 660379205632.0000 - mse: 660379205632.0000 - mae: 559943.1875 - val_loss: 402544164864.0000 - val_mse: 402544164864.0000 - val_mae: 544482.3125\n",
            "Epoch 109/150\n",
            "196/196 [==============================] - 0s 2ms/step - loss: 660377305088.0000 - mse: 660377305088.0000 - mae: 559941.3750 - val_loss: 402542231552.0000 - val_mse: 402542231552.0000 - val_mae: 544480.6250\n",
            "Epoch 110/150\n",
            "196/196 [==============================] - 0s 2ms/step - loss: 660375404544.0000 - mse: 660375404544.0000 - mae: 559939.6250 - val_loss: 402540429312.0000 - val_mse: 402540429312.0000 - val_mae: 544478.8750\n",
            "Epoch 111/150\n",
            "196/196 [==============================] - 0s 2ms/step - loss: 660373372928.0000 - mse: 660373372928.0000 - mae: 559938.1875 - val_loss: 402538528768.0000 - val_mse: 402538528768.0000 - val_mae: 544477.2500\n",
            "Epoch 112/150\n",
            "196/196 [==============================] - 0s 2ms/step - loss: 660371537920.0000 - mse: 660371537920.0000 - mae: 559936.3125 - val_loss: 402536792064.0000 - val_mse: 402536792064.0000 - val_mae: 544475.5000\n",
            "Epoch 113/150\n",
            "196/196 [==============================] - 0s 2ms/step - loss: 660369702912.0000 - mse: 660369702912.0000 - mae: 559934.8125 - val_loss: 402534793216.0000 - val_mse: 402534793216.0000 - val_mae: 544473.8125\n",
            "Epoch 114/150\n",
            "196/196 [==============================] - 0s 2ms/step - loss: 660367671296.0000 - mse: 660367671296.0000 - mae: 559933.0000 - val_loss: 402533023744.0000 - val_mse: 402533023744.0000 - val_mae: 544472.1250\n",
            "Epoch 115/150\n",
            "196/196 [==============================] - 0s 2ms/step - loss: 660365508608.0000 - mse: 660365508608.0000 - mae: 559931.3125 - val_loss: 402531221504.0000 - val_mse: 402531221504.0000 - val_mae: 544470.3750\n",
            "Epoch 116/150\n",
            "196/196 [==============================] - 0s 2ms/step - loss: 660364066816.0000 - mse: 660364066816.0000 - mae: 559929.4375 - val_loss: 402529255424.0000 - val_mse: 402529255424.0000 - val_mae: 544468.6875\n",
            "Epoch 117/150\n",
            "196/196 [==============================] - 0s 2ms/step - loss: 660361969664.0000 - mse: 660361969664.0000 - mae: 559927.7500 - val_loss: 402527485952.0000 - val_mse: 402527485952.0000 - val_mae: 544467.0000\n",
            "Epoch 118/150\n",
            "196/196 [==============================] - 0s 2ms/step - loss: 660360134656.0000 - mse: 660360134656.0000 - mae: 559926.1250 - val_loss: 402525585408.0000 - val_mse: 402525585408.0000 - val_mae: 544465.2500\n",
            "Epoch 119/150\n",
            "196/196 [==============================] - 0s 2ms/step - loss: 660358299648.0000 - mse: 660358299648.0000 - mae: 559924.5625 - val_loss: 402523750400.0000 - val_mse: 402523750400.0000 - val_mae: 544463.5625\n",
            "Epoch 120/150\n",
            "196/196 [==============================] - 0s 2ms/step - loss: 660356464640.0000 - mse: 660356464640.0000 - mae: 559922.6250 - val_loss: 402521817088.0000 - val_mse: 402521817088.0000 - val_mae: 544461.8750\n",
            "Epoch 121/150\n",
            "196/196 [==============================] - 0s 2ms/step - loss: 660354301952.0000 - mse: 660354301952.0000 - mae: 559921.0000 - val_loss: 402519916544.0000 - val_mse: 402519916544.0000 - val_mae: 544460.1250\n",
            "Epoch 122/150\n",
            "196/196 [==============================] - 0s 2ms/step - loss: 660352663552.0000 - mse: 660352663552.0000 - mae: 559919.5000 - val_loss: 402518212608.0000 - val_mse: 402518212608.0000 - val_mae: 544458.4375\n",
            "Epoch 123/150\n",
            "196/196 [==============================] - 0s 2ms/step - loss: 660350631936.0000 - mse: 660350631936.0000 - mae: 559917.5000 - val_loss: 402516279296.0000 - val_mse: 402516279296.0000 - val_mae: 544456.7500\n",
            "Epoch 124/150\n",
            "196/196 [==============================] - 0s 2ms/step - loss: 660348731392.0000 - mse: 660348731392.0000 - mae: 559915.6875 - val_loss: 402514444288.0000 - val_mse: 402514444288.0000 - val_mae: 544455.0000\n",
            "Epoch 125/150\n",
            "196/196 [==============================] - 0s 2ms/step - loss: 660346830848.0000 - mse: 660346830848.0000 - mae: 559914.1250 - val_loss: 402512576512.0000 - val_mse: 402512576512.0000 - val_mae: 544453.3125\n",
            "Epoch 126/150\n",
            "196/196 [==============================] - 0s 2ms/step - loss: 660344864768.0000 - mse: 660344864768.0000 - mae: 559912.5625 - val_loss: 402510741504.0000 - val_mse: 402510741504.0000 - val_mae: 544451.6250\n",
            "Epoch 127/150\n",
            "196/196 [==============================] - 0s 2ms/step - loss: 660343095296.0000 - mse: 660343095296.0000 - mae: 559910.8125 - val_loss: 402508873728.0000 - val_mse: 402508873728.0000 - val_mae: 544449.8750\n",
            "Epoch 128/150\n",
            "196/196 [==============================] - 0s 2ms/step - loss: 660340998144.0000 - mse: 660340998144.0000 - mae: 559908.8125 - val_loss: 402507005952.0000 - val_mse: 402507005952.0000 - val_mae: 544448.1875\n",
            "Epoch 129/150\n",
            "196/196 [==============================] - 0s 2ms/step - loss: 660339228672.0000 - mse: 660339228672.0000 - mae: 559907.3750 - val_loss: 402505138176.0000 - val_mse: 402505138176.0000 - val_mae: 544446.4375\n",
            "Epoch 130/150\n",
            "196/196 [==============================] - 0s 2ms/step - loss: 660337328128.0000 - mse: 660337328128.0000 - mae: 559905.6250 - val_loss: 402503237632.0000 - val_mse: 402503237632.0000 - val_mae: 544444.7500\n",
            "Epoch 131/150\n",
            "196/196 [==============================] - 0s 2ms/step - loss: 660335296512.0000 - mse: 660335296512.0000 - mae: 559904.0625 - val_loss: 402501402624.0000 - val_mse: 402501402624.0000 - val_mae: 544443.1875\n",
            "Epoch 132/150\n",
            "196/196 [==============================] - 0s 2ms/step - loss: 660333330432.0000 - mse: 660333330432.0000 - mae: 559902.1250 - val_loss: 402499534848.0000 - val_mse: 402499534848.0000 - val_mae: 544441.3750\n",
            "Epoch 133/150\n",
            "196/196 [==============================] - 0s 2ms/step - loss: 660331626496.0000 - mse: 660331626496.0000 - mae: 559900.3750 - val_loss: 402497732608.0000 - val_mse: 402497732608.0000 - val_mae: 544439.6250\n",
            "Epoch 134/150\n",
            "196/196 [==============================] - 0s 2ms/step - loss: 660329529344.0000 - mse: 660329529344.0000 - mae: 559898.7500 - val_loss: 402495864832.0000 - val_mse: 402495864832.0000 - val_mae: 544437.9375\n",
            "Epoch 135/150\n",
            "196/196 [==============================] - 0s 2ms/step - loss: 660327694336.0000 - mse: 660327694336.0000 - mae: 559897.2500 - val_loss: 402493964288.0000 - val_mse: 402493964288.0000 - val_mae: 544436.2500\n",
            "Epoch 136/150\n",
            "196/196 [==============================] - 0s 2ms/step - loss: 660325531648.0000 - mse: 660325531648.0000 - mae: 559895.3750 - val_loss: 402492129280.0000 - val_mse: 402492129280.0000 - val_mae: 544434.5000\n",
            "Epoch 137/150\n",
            "196/196 [==============================] - 0s 2ms/step - loss: 660323500032.0000 - mse: 660323500032.0000 - mae: 559893.7500 - val_loss: 402490327040.0000 - val_mse: 402490327040.0000 - val_mae: 544432.8750\n",
            "Epoch 138/150\n",
            "196/196 [==============================] - 0s 2ms/step - loss: 660321599488.0000 - mse: 660321599488.0000 - mae: 559892.0625 - val_loss: 402488426496.0000 - val_mse: 402488426496.0000 - val_mae: 544431.1875\n",
            "Epoch 139/150\n",
            "196/196 [==============================] - 0s 2ms/step - loss: 660319830016.0000 - mse: 660319830016.0000 - mae: 559890.4375 - val_loss: 402486525952.0000 - val_mse: 402486525952.0000 - val_mae: 544429.4375\n",
            "Epoch 140/150\n",
            "196/196 [==============================] - 0s 2ms/step - loss: 660318126080.0000 - mse: 660318126080.0000 - mae: 559888.5000 - val_loss: 402484723712.0000 - val_mse: 402484723712.0000 - val_mae: 544427.6875\n",
            "Epoch 141/150\n",
            "196/196 [==============================] - 0s 2ms/step - loss: 660316160000.0000 - mse: 660316160000.0000 - mae: 559886.7500 - val_loss: 402482757632.0000 - val_mse: 402482757632.0000 - val_mae: 544425.9375\n",
            "Epoch 142/150\n",
            "196/196 [==============================] - 0s 2ms/step - loss: 660314259456.0000 - mse: 660314259456.0000 - mae: 559885.1875 - val_loss: 402480988160.0000 - val_mse: 402480988160.0000 - val_mae: 544424.3125\n",
            "Epoch 143/150\n",
            "196/196 [==============================] - 0s 2ms/step - loss: 660312162304.0000 - mse: 660312162304.0000 - mae: 559883.4375 - val_loss: 402479120384.0000 - val_mse: 402479120384.0000 - val_mae: 544422.6250\n",
            "Epoch 144/150\n",
            "196/196 [==============================] - 0s 2ms/step - loss: 660310523904.0000 - mse: 660310523904.0000 - mae: 559881.9375 - val_loss: 402477219840.0000 - val_mse: 402477219840.0000 - val_mae: 544420.8750\n",
            "Epoch 145/150\n",
            "196/196 [==============================] - 0s 2ms/step - loss: 660308557824.0000 - mse: 660308557824.0000 - mae: 559880.0000 - val_loss: 402475417600.0000 - val_mse: 402475417600.0000 - val_mae: 544419.3125\n",
            "Epoch 146/150\n",
            "196/196 [==============================] - 0s 2ms/step - loss: 660306591744.0000 - mse: 660306591744.0000 - mae: 559878.3125 - val_loss: 402473484288.0000 - val_mse: 402473484288.0000 - val_mae: 544417.4375\n",
            "Epoch 147/150\n",
            "196/196 [==============================] - 0s 2ms/step - loss: 660304494592.0000 - mse: 660304494592.0000 - mae: 559876.8125 - val_loss: 402471747584.0000 - val_mse: 402471747584.0000 - val_mae: 544415.7500\n",
            "Epoch 148/150\n",
            "196/196 [==============================] - 0s 2ms/step - loss: 660302790656.0000 - mse: 660302790656.0000 - mae: 559875.0625 - val_loss: 402469814272.0000 - val_mse: 402469814272.0000 - val_mae: 544414.1250\n",
            "Epoch 149/150\n",
            "196/196 [==============================] - 0s 2ms/step - loss: 660300824576.0000 - mse: 660300824576.0000 - mae: 559873.0625 - val_loss: 402467979264.0000 - val_mse: 402467979264.0000 - val_mae: 544412.3750\n",
            "Epoch 150/150\n",
            "196/196 [==============================] - 0s 2ms/step - loss: 660298858496.0000 - mse: 660298858496.0000 - mae: 559871.5625 - val_loss: 402466045952.0000 - val_mse: 402466045952.0000 - val_mae: 544410.6875\n"
          ]
        }
      ],
      "source": [
        "model = Sequential()\n",
        "model.add(Dense(10, activation='sigmoid',input_shape=(15,),kernel_initializer='normal'))\n",
        "model.add(Dense(8,  activation='sigmoid'))\n",
        "model.add(Dense(1, kernel_initializer='normal'))\n",
        "model.compile(loss='mean_squared_error', optimizer='adam',  metrics=['mse', 'mae'])\n",
        "from keras import callbacks\n",
        "earlystopping = callbacks.EarlyStopping(monitor =\"val_loss\", mode =\"min\", patience = 5, restore_best_weights = True,verbose=1)\n",
        "trained_model = model.fit(X_train,y_train, batch_size=16, epochs=150, validation_split=0.15 ,callbacks =[earlystopping]) \n",
        "history = trained_model.history"
      ]
    },
    {
      "cell_type": "markdown",
      "metadata": {
        "id": "vYEqFp5PU_4J"
      },
      "source": [
        "#### evalute number of neurons and layers\n"
      ]
    },
    {
      "cell_type": "code",
      "execution_count": null,
      "metadata": {
        "colab": {
          "base_uri": "https://localhost:8080/"
        },
        "id": "wmk562pUUIuo",
        "outputId": "41233acb-7e48-4e31-d9d3-bf5eb17d5f02"
      },
      "outputs": [
        {
          "output_type": "stream",
          "name": "stdout",
          "text": [
            "MAE: 557551.6\n",
            "MSE: 621623100000.0\n",
            "VarScore: 0.0\n"
          ]
        }
      ],
      "source": [
        "# history\n",
        "Y_pred = model.predict(X_test)\n",
        "y_pred=np.ravel(Y_pred)  \n",
        "from sklearn import metrics\n",
        "print('MAE:', metrics.mean_absolute_error(y_test, y_pred))  \n",
        "print('MSE:', metrics.mean_squared_error(y_test, y_pred))  \n",
        "print('VarScore:',metrics.explained_variance_score(y_test,y_pred))"
      ]
    },
    {
      "cell_type": "code",
      "execution_count": null,
      "metadata": {
        "colab": {
          "base_uri": "https://localhost:8080/",
          "height": 295
        },
        "id": "ez13x5XNUI0c",
        "outputId": "e14f7112-83cf-4a3d-eb03-63f1d6ed88d4"
      },
      "outputs": [
        {
          "output_type": "display_data",
          "data": {
            "text/plain": [
              "<Figure size 432x288 with 1 Axes>"
            ],
            "image/png": "[encoded data removed]"
          },
          "metadata": {
            "needs_background": "light"
          }
        }
      ],
      "source": [
        "plt.title('MSE Loss')\n",
        "plt.plot(history['mae'], label='MAE (training data)',color='blue')\n",
        "plt.plot(history['val_mae'], label='MAE (test data)',color='orange')\n",
        "plt.ylabel('MAE Metric')\n",
        "plt.xlabel('epoch')\n",
        "plt.grid()\n",
        "plt.legend(['MAE (training data)', 'MAE (validation data)'], loc='upper right')\n",
        "plt.show()"
      ]
    },
    {
      "cell_type": "markdown",
      "metadata": {
        "id": "xy1UMKo7xIEw"
      },
      "source": [
        "## MSE LOSS"
      ]
    },
    {
      "cell_type": "code",
      "execution_count": null,
      "metadata": {
        "colab": {
          "base_uri": "https://localhost:8080/"
        },
        "id": "Fly40wVWKx8g",
        "outputId": "6c0627ff-d72e-455f-e3e6-6db37765a88f"
      },
      "outputs": [
        {
          "output_type": "stream",
          "name": "stdout",
          "text": [
            "Epoch 1/150\n",
            "196/196 [==============================] - 2s 5ms/step - loss: 629301116928.0000 - mse: 629301116928.0000 - mae: 530759.1875 - val_loss: 281779535872.0000 - val_mse: 281779535872.0000 - val_mae: 421746.1250\n",
            "Epoch 2/150\n",
            "196/196 [==============================] - 1s 6ms/step - loss: 402024988672.0000 - mse: 402024988672.0000 - mae: 287001.7500 - val_loss: 103604723712.0000 - val_mse: 103604723712.0000 - val_mae: 220586.6562\n",
            "Epoch 3/150\n",
            "196/196 [==============================] - 0s 2ms/step - loss: 346513670144.0000 - mse: 346513670144.0000 - mae: 242486.1250 - val_loss: 101531484160.0000 - val_mse: 101531484160.0000 - val_mae: 220354.9062\n",
            "Epoch 4/150\n",
            "196/196 [==============================] - 0s 2ms/step - loss: 343543513088.0000 - mse: 343543513088.0000 - mae: 238010.4531 - val_loss: 100730257408.0000 - val_mse: 100730257408.0000 - val_mae: 225032.8281\n",
            "Epoch 5/150\n",
            "196/196 [==============================] - 0s 2ms/step - loss: 342775365632.0000 - mse: 342775365632.0000 - mae: 245587.9844 - val_loss: 99674431488.0000 - val_mse: 99674431488.0000 - val_mae: 221693.5781\n",
            "Epoch 6/150\n",
            "196/196 [==============================] - 0s 2ms/step - loss: 340979253248.0000 - mse: 340979253248.0000 - mae: 238230.4219 - val_loss: 99176136704.0000 - val_mse: 99176136704.0000 - val_mae: 223280.7969\n",
            "Epoch 7/150\n",
            "196/196 [==============================] - 0s 2ms/step - loss: 340029702144.0000 - mse: 340029702144.0000 - mae: 239982.6094 - val_loss: 98362318848.0000 - val_mse: 98362318848.0000 - val_mae: 220872.4531\n",
            "Epoch 8/150\n",
            "196/196 [==============================] - 0s 2ms/step - loss: 339163906048.0000 - mse: 339163906048.0000 - mae: 238619.7500 - val_loss: 97674518528.0000 - val_mse: 97674518528.0000 - val_mae: 218439.3438\n",
            "Epoch 9/150\n",
            "196/196 [==============================] - 0s 2ms/step - loss: 338295816192.0000 - mse: 338295816192.0000 - mae: 236905.5625 - val_loss: 97733566464.0000 - val_mse: 97733566464.0000 - val_mae: 224795.0469\n",
            "Epoch 10/150\n",
            "196/196 [==============================] - 0s 2ms/step - loss: 337709170688.0000 - mse: 337709170688.0000 - mae: 238966.8125 - val_loss: 96449503232.0000 - val_mse: 96449503232.0000 - val_mae: 218158.3438\n",
            "Epoch 11/150\n",
            "196/196 [==============================] - 0s 2ms/step - loss: 336864608256.0000 - mse: 336864608256.0000 - mae: 236525.7500 - val_loss: 95794077696.0000 - val_mse: 95794077696.0000 - val_mae: 216045.8281\n",
            "Epoch 12/150\n",
            "196/196 [==============================] - 0s 2ms/step - loss: 336109797376.0000 - mse: 336109797376.0000 - mae: 237322.4219 - val_loss: 95178342400.0000 - val_mse: 95178342400.0000 - val_mae: 213369.2031\n",
            "Epoch 13/150\n",
            "196/196 [==============================] - 0s 2ms/step - loss: 335338864640.0000 - mse: 335338864640.0000 - mae: 234772.7188 - val_loss: 94462738432.0000 - val_mse: 94462738432.0000 - val_mae: 215187.5000\n",
            "Epoch 14/150\n",
            "196/196 [==============================] - 0s 2ms/step - loss: 334491942912.0000 - mse: 334491942912.0000 - mae: 235048.7344 - val_loss: 93741678592.0000 - val_mse: 93741678592.0000 - val_mae: 214281.3906\n",
            "Epoch 15/150\n",
            "196/196 [==============================] - 0s 2ms/step - loss: 333661011968.0000 - mse: 333661011968.0000 - mae: 234110.6875 - val_loss: 93009125376.0000 - val_mse: 93009125376.0000 - val_mae: 211985.0938\n",
            "Epoch 16/150\n",
            "196/196 [==============================] - 0s 2ms/step - loss: 332848332800.0000 - mse: 332848332800.0000 - mae: 231441.5000 - val_loss: 92654772224.0000 - val_mse: 92654772224.0000 - val_mae: 217017.4688\n",
            "Epoch 17/150\n",
            "196/196 [==============================] - 0s 2ms/step - loss: 332046958592.0000 - mse: 332046958592.0000 - mae: 232645.6250 - val_loss: 91847458816.0000 - val_mse: 91847458816.0000 - val_mae: 215982.7188\n",
            "Epoch 18/150\n",
            "196/196 [==============================] - 0s 2ms/step - loss: 331008671744.0000 - mse: 331008671744.0000 - mae: 229318.3281 - val_loss: 91350605824.0000 - val_mse: 91350605824.0000 - val_mae: 217197.9375\n",
            "Epoch 19/150\n",
            "196/196 [==============================] - 0s 2ms/step - loss: 330080649216.0000 - mse: 330080649216.0000 - mae: 232504.8750 - val_loss: 89775947776.0000 - val_mse: 89775947776.0000 - val_mae: 209780.0000\n",
            "Epoch 20/150\n",
            "196/196 [==============================] - 0s 2ms/step - loss: 329082372096.0000 - mse: 329082372096.0000 - mae: 228718.4688 - val_loss: 88957747200.0000 - val_mse: 88957747200.0000 - val_mae: 209629.1250\n",
            "Epoch 21/150\n",
            "196/196 [==============================] - 0s 2ms/step - loss: 327962165248.0000 - mse: 327962165248.0000 - mae: 228536.3750 - val_loss: 87919730688.0000 - val_mse: 87919730688.0000 - val_mae: 206516.5781\n",
            "Epoch 22/150\n",
            "196/196 [==============================] - 0s 2ms/step - loss: 327005175808.0000 - mse: 327005175808.0000 - mae: 226989.0312 - val_loss: 86959620096.0000 - val_mse: 86959620096.0000 - val_mae: 204404.3594\n",
            "Epoch 23/150\n",
            "196/196 [==============================] - 0s 2ms/step - loss: 326001426432.0000 - mse: 326001426432.0000 - mae: 225923.6250 - val_loss: 85902426112.0000 - val_mse: 85902426112.0000 - val_mae: 202940.5781\n",
            "Epoch 24/150\n",
            "196/196 [==============================] - 0s 2ms/step - loss: 324688150528.0000 - mse: 324688150528.0000 - mae: 223232.1094 - val_loss: 84958167040.0000 - val_mse: 84958167040.0000 - val_mae: 204402.4688\n",
            "Epoch 25/150\n",
            "196/196 [==============================] - 0s 2ms/step - loss: 323306487808.0000 - mse: 323306487808.0000 - mae: 224118.9531 - val_loss: 83697238016.0000 - val_mse: 83697238016.0000 - val_mae: 199275.0469\n",
            "Epoch 26/150\n",
            "196/196 [==============================] - 0s 2ms/step - loss: 322033582080.0000 - mse: 322033582080.0000 - mae: 219261.3125 - val_loss: 82786631680.0000 - val_mse: 82786631680.0000 - val_mae: 202438.8906\n",
            "Epoch 27/150\n",
            "196/196 [==============================] - 0s 2ms/step - loss: 320794394624.0000 - mse: 320794394624.0000 - mae: 220290.7188 - val_loss: 81311875072.0000 - val_mse: 81311875072.0000 - val_mae: 198693.9219\n",
            "Epoch 28/150\n",
            "196/196 [==============================] - 0s 2ms/step - loss: 319181422592.0000 - mse: 319181422592.0000 - mae: 218302.8594 - val_loss: 79932653568.0000 - val_mse: 79932653568.0000 - val_mae: 195677.4062\n",
            "Epoch 29/150\n",
            "196/196 [==============================] - 0s 2ms/step - loss: 317345595392.0000 - mse: 317345595392.0000 - mae: 213660.4062 - val_loss: 79891054592.0000 - val_mse: 79891054592.0000 - val_mae: 202498.0938\n",
            "Epoch 30/150\n",
            "196/196 [==============================] - 0s 2ms/step - loss: 315988410368.0000 - mse: 315988410368.0000 - mae: 215108.9531 - val_loss: 77316022272.0000 - val_mse: 77316022272.0000 - val_mae: 194156.8281\n",
            "Epoch 31/150\n",
            "196/196 [==============================] - 0s 2ms/step - loss: 314403717120.0000 - mse: 314403717120.0000 - mae: 212683.0000 - val_loss: 75589320704.0000 - val_mse: 75589320704.0000 - val_mae: 189036.2031\n",
            "Epoch 32/150\n",
            "196/196 [==============================] - 0s 2ms/step - loss: 312366366720.0000 - mse: 312366366720.0000 - mae: 207887.6250 - val_loss: 75168899072.0000 - val_mse: 75168899072.0000 - val_mae: 194029.8281\n",
            "Epoch 33/150\n",
            "196/196 [==============================] - 0s 2ms/step - loss: 310614163456.0000 - mse: 310614163456.0000 - mae: 207458.7656 - val_loss: 72633737216.0000 - val_mse: 72633737216.0000 - val_mae: 185928.7969\n",
            "Epoch 34/150\n",
            "196/196 [==============================] - 0s 2ms/step - loss: 308679245824.0000 - mse: 308679245824.0000 - mae: 204887.5469 - val_loss: 71037886464.0000 - val_mse: 71037886464.0000 - val_mae: 183402.3594\n",
            "Epoch 35/150\n",
            "196/196 [==============================] - 0s 2ms/step - loss: 306614370304.0000 - mse: 306614370304.0000 - mae: 202455.4844 - val_loss: 69341929472.0000 - val_mse: 69341929472.0000 - val_mae: 177958.7656\n",
            "Epoch 36/150\n",
            "196/196 [==============================] - 0s 2ms/step - loss: 304802398208.0000 - mse: 304802398208.0000 - mae: 197770.8906 - val_loss: 68631007232.0000 - val_mse: 68631007232.0000 - val_mae: 181746.6406\n",
            "Epoch 37/150\n",
            "196/196 [==============================] - 0s 2ms/step - loss: 303180546048.0000 - mse: 303180546048.0000 - mae: 199283.6406 - val_loss: 66649223168.0000 - val_mse: 66649223168.0000 - val_mae: 176460.1719\n",
            "Epoch 38/150\n",
            "196/196 [==============================] - 0s 2ms/step - loss: 301319684096.0000 - mse: 301319684096.0000 - mae: 195549.2031 - val_loss: 65091457024.0000 - val_mse: 65091457024.0000 - val_mae: 172105.4375\n",
            "Epoch 39/150\n",
            "196/196 [==============================] - 0s 2ms/step - loss: 299677646848.0000 - mse: 299677646848.0000 - mae: 193607.8438 - val_loss: 63907737600.0000 - val_mse: 63907737600.0000 - val_mae: 169601.9531\n",
            "Epoch 40/150\n",
            "196/196 [==============================] - 0s 2ms/step - loss: 298336845824.0000 - mse: 298336845824.0000 - mae: 191607.7812 - val_loss: 62908162048.0000 - val_mse: 62908162048.0000 - val_mae: 168535.7188\n",
            "Epoch 41/150\n",
            "196/196 [==============================] - 0s 2ms/step - loss: 296728723456.0000 - mse: 296728723456.0000 - mae: 190864.1094 - val_loss: 62123524096.0000 - val_mse: 62123524096.0000 - val_mae: 165320.6719\n",
            "Epoch 42/150\n",
            "196/196 [==============================] - 0s 2ms/step - loss: 295754825728.0000 - mse: 295754825728.0000 - mae: 187911.7500 - val_loss: 61222379520.0000 - val_mse: 61222379520.0000 - val_mae: 165771.7031\n",
            "Epoch 43/150\n",
            "196/196 [==============================] - 0s 2ms/step - loss: 294523011072.0000 - mse: 294523011072.0000 - mae: 187617.3125 - val_loss: 60535521280.0000 - val_mse: 60535521280.0000 - val_mae: 164734.8750\n",
            "Epoch 44/150\n",
            "196/196 [==============================] - 0s 2ms/step - loss: 293733695488.0000 - mse: 293733695488.0000 - mae: 185855.3438 - val_loss: 60641488896.0000 - val_mse: 60641488896.0000 - val_mae: 167128.7344\n",
            "Epoch 45/150\n",
            "196/196 [==============================] - 0s 2ms/step - loss: 292697538560.0000 - mse: 292697538560.0000 - mae: 185285.1406 - val_loss: 59713929216.0000 - val_mse: 59713929216.0000 - val_mae: 164199.7969\n",
            "Epoch 46/150\n",
            "196/196 [==============================] - 0s 2ms/step - loss: 292196745216.0000 - mse: 292196745216.0000 - mae: 184837.8594 - val_loss: 59060125696.0000 - val_mse: 59060125696.0000 - val_mae: 161959.9062\n",
            "Epoch 47/150\n",
            "196/196 [==============================] - 0s 2ms/step - loss: 291444686848.0000 - mse: 291444686848.0000 - mae: 183229.4688 - val_loss: 59367813120.0000 - val_mse: 59367813120.0000 - val_mae: 165272.5312\n",
            "Epoch 48/150\n",
            "196/196 [==============================] - 0s 2ms/step - loss: 290753085440.0000 - mse: 290753085440.0000 - mae: 184574.3594 - val_loss: 58620739584.0000 - val_mse: 58620739584.0000 - val_mae: 162796.2031\n",
            "Epoch 49/150\n",
            "196/196 [==============================] - 0s 2ms/step - loss: 289994768384.0000 - mse: 289994768384.0000 - mae: 181847.9531 - val_loss: 60712148992.0000 - val_mse: 60712148992.0000 - val_mae: 170731.1406\n",
            "Epoch 50/150\n",
            "196/196 [==============================] - 0s 2ms/step - loss: 289872543744.0000 - mse: 289872543744.0000 - mae: 183203.4531 - val_loss: 58947788800.0000 - val_mse: 58947788800.0000 - val_mae: 164980.9844\n",
            "Epoch 51/150\n",
            "196/196 [==============================] - 0s 2ms/step - loss: 289491877888.0000 - mse: 289491877888.0000 - mae: 182833.8281 - val_loss: 58277027840.0000 - val_mse: 58277027840.0000 - val_mae: 162746.8438\n",
            "Epoch 52/150\n",
            "196/196 [==============================] - 0s 2ms/step - loss: 289128087552.0000 - mse: 289128087552.0000 - mae: 182453.2344 - val_loss: 57902022656.0000 - val_mse: 57902022656.0000 - val_mae: 161234.7969\n",
            "Epoch 53/150\n",
            "196/196 [==============================] - 0s 2ms/step - loss: 288679952384.0000 - mse: 288679952384.0000 - mae: 182968.1562 - val_loss: 57668325376.0000 - val_mse: 57668325376.0000 - val_mae: 159682.6562\n",
            "Epoch 54/150\n",
            "196/196 [==============================] - 0s 2ms/step - loss: 288582860800.0000 - mse: 288582860800.0000 - mae: 181931.3125 - val_loss: 58046865408.0000 - val_mse: 58046865408.0000 - val_mae: 162055.4062\n",
            "Epoch 55/150\n",
            "196/196 [==============================] - 0s 2ms/step - loss: 288527319040.0000 - mse: 288527319040.0000 - mae: 182362.1406 - val_loss: 57993478144.0000 - val_mse: 57993478144.0000 - val_mae: 161914.9219\n",
            "Epoch 56/150\n",
            "196/196 [==============================] - 0s 2ms/step - loss: 288163463168.0000 - mse: 288163463168.0000 - mae: 181054.8906 - val_loss: 59145527296.0000 - val_mse: 59145527296.0000 - val_mae: 165582.3594\n",
            "Epoch 57/150\n",
            "196/196 [==============================] - 0s 2ms/step - loss: 288204685312.0000 - mse: 288204685312.0000 - mae: 184067.8906 - val_loss: 57978458112.0000 - val_mse: 57978458112.0000 - val_mae: 161581.4062\n",
            "Epoch 58/150\n",
            "177/196 [==========================>...] - ETA: 0s - loss: 312018927616.0000 - mse: 312018927616.0000 - mae: 182991.4531Restoring model weights from the end of the best epoch: 53.\n",
            "196/196 [==============================] - 0s 2ms/step - loss: 287953846272.0000 - mse: 287953846272.0000 - mae: 181635.3594 - val_loss: 57727922176.0000 - val_mse: 57727922176.0000 - val_mae: 160185.0312\n",
            "Epoch 58: early stopping\n"
          ]
        }
      ],
      "source": [
        "model = Sequential()\n",
        "model.add(Dense(10, activation='relu',input_shape=(15,),kernel_initializer='normal'))\n",
        "model.add(Dense(8,  activation='relu'))\n",
        "model.add(Dense(1, kernel_initializer='normal',activation='relu'))\n",
        "model.compile(loss='mean_squared_error', optimizer='adam',  metrics=['mse', 'mae'])\n",
        "from keras import callbacks\n",
        "earlystopping = callbacks.EarlyStopping(monitor =\"val_loss\", mode =\"min\", patience = 5, restore_best_weights = True,verbose=1)\n",
        "trained_model = model.fit(X_train,y_train, batch_size=16, epochs=150, validation_split=0.15 ,callbacks =[earlystopping]) \n",
        "history = trained_model.history"
      ]
    },
    {
      "cell_type": "code",
      "execution_count": null,
      "metadata": {
        "colab": {
          "base_uri": "https://localhost:8080/"
        },
        "id": "oEdIgugLxTQ8",
        "outputId": "cc4a0b1f-c891-4dfb-8f04-45ebab58e46a"
      },
      "outputs": [
        {
          "output_type": "stream",
          "name": "stdout",
          "text": [
            "MAE: 179111.34\n",
            "MSE: 255186980000.0\n",
            "VarScore: 0.17945069074630737\n"
          ]
        }
      ],
      "source": [
        "# history\n",
        "Y_pred = model.predict(X_test)\n",
        "#y_pred=np.ravel(Y_pred)  \n",
        "from sklearn import metrics\n",
        "print('MAE:', metrics.mean_absolute_error(y_test, y_pred))  \n",
        "print('MSE:', metrics.mean_squared_error(y_test, y_pred))  \n",
        "print('VarScore:',metrics.explained_variance_score(y_test,y_pred))"
      ]
    },
    {
      "cell_type": "code",
      "execution_count": null,
      "metadata": {
        "colab": {
          "base_uri": "https://localhost:8080/"
        },
        "id": "jyTEk9S2vRRa",
        "outputId": "7e6ec924-2cbb-45a6-9325-0a83d81d13fe"
      },
      "outputs": [
        {
          "output_type": "stream",
          "name": "stdout",
          "text": [
            "[373044.97 556985.44 610380.25 ... 594274.6  508689.25 627313.4 ]\n",
            "[320000. 411000. 687000. ... 450000. 283200. 550000.]\n"
          ]
        }
      ],
      "source": [
        "# prediction\n",
        "print(y_pred)\n",
        "print(y_test)"
      ]
    },
    {
      "cell_type": "code",
      "execution_count": null,
      "metadata": {
        "colab": {
          "base_uri": "https://localhost:8080/",
          "height": 295
        },
        "id": "X0D2Ra2vyeT2",
        "outputId": "64fcbe4e-770e-4f91-cb03-fe375fb5e7a8"
      },
      "outputs": [
        {
          "output_type": "display_data",
          "data": {
            "text/plain": [
              "<Figure size 432x288 with 1 Axes>"
            ],
            "image/png": "[encoded data removed]"
          },
          "metadata": {
            "needs_background": "light"
          }
        }
      ],
      "source": [
        "plt.title('MSE Loss')\n",
        "plt.plot(history['mae'], label='MAE (training data)',color='blue')\n",
        "plt.plot(history['val_mae'], label='MAE (test data)',color='orange')\n",
        "plt.ylabel('MAE Metric')\n",
        "plt.xlabel('epoch')\n",
        "plt.grid()\n",
        "plt.legend(['MAE (training data)', 'MAE (test data)'], loc='upper right')\n",
        "plt.show()"
      ]
    },
    {
      "cell_type": "code",
      "execution_count": null,
      "metadata": {
        "colab": {
          "base_uri": "https://localhost:8080/",
          "height": 295
        },
        "id": "9unxiP7OyfQo",
        "outputId": "5fba115d-28f2-4e3f-dc73-7bb44a71ad0d"
      },
      "outputs": [
        {
          "output_type": "display_data",
          "data": {
            "text/plain": [
              "<Figure size 432x288 with 1 Axes>"
            ],
            "image/png": "[encoded data removed]"
          },
          "metadata": {
            "needs_background": "light"
          }
        }
      ],
      "source": [
        "plt.title('MSE Loss')\n",
        "plt.plot(history['mse'], label='MSE (training data)',color='blue')\n",
        "plt.plot(history['val_mse'], label='MSE (test data)',color='orange')\n",
        "plt.ylabel('MSE Metric')\n",
        "plt.xlabel('epoch')\n",
        "plt.legend(['MSE (training data)', 'MSE (test data)'], loc='upper right')\n",
        "\n",
        "plt.grid()\n",
        "plt.show()"
      ]
    },
    {
      "cell_type": "code",
      "execution_count": null,
      "metadata": {
        "colab": {
          "base_uri": "https://localhost:8080/",
          "height": 313
        },
        "id": "iV9F3K0ryfT9",
        "outputId": "39837e98-a963-47ea-bc79-d5ebe39a4238"
      },
      "outputs": [
        {
          "output_type": "execute_result",
          "data": {
            "text/plain": [
              "(0.0, 5000000.0)"
            ]
          },
          "metadata": {},
          "execution_count": 169
        },
        {
          "output_type": "display_data",
          "data": {
            "text/plain": [
              "<Figure size 432x288 with 1 Axes>"
            ],
            "image/png": "[encoded data removed]"
          },
          "metadata": {
            "needs_background": "light"
          }
        }
      ],
      "source": [
        "# Visualizing Our predictions\n",
        "plt.scatter(y_pred,y_test)\n",
        "# Perfect predictions\n",
        "plt.plot(y_pred,y_pred,'r')\n",
        "plt.title('MSE Loss')\n",
        "plt.xlabel('y-test')\n",
        "plt.ylabel('y-pred')\n",
        "plt.ylim([0,0.5e7])"
      ]
    },
    {
      "cell_type": "markdown",
      "metadata": {
        "id": "sUHOXVGLz81o"
      },
      "source": [
        "## MAE LOSS"
      ]
    },
    {
      "cell_type": "code",
      "execution_count": null,
      "metadata": {
        "colab": {
          "base_uri": "https://localhost:8080/"
        },
        "id": "FbUogQvAyfXW",
        "outputId": "de43d5b6-ea85-4f04-84f1-8b2eb3b8d6ab"
      },
      "outputs": [
        {
          "output_type": "stream",
          "name": "stdout",
          "text": [
            "Epoch 1/150\n",
            "196/196 [==============================] - 1s 3ms/step - loss: 545793.2500 - mse: 644503306240.0000 - mae: 545793.2500 - val_loss: 482202.0312 - val_mse: 337423859712.0000 - val_mae: 482202.0312\n",
            "Epoch 2/150\n",
            "196/196 [==============================] - 0s 3ms/step - loss: 350409.3438 - mse: 466366955520.0000 - mae: 350409.3438 - val_loss: 220536.7344 - val_mse: 119722516480.0000 - val_mae: 220536.7344\n",
            "Epoch 3/150\n",
            "196/196 [==============================] - 0s 2ms/step - loss: 234266.0312 - mse: 357133221888.0000 - mae: 234266.0312 - val_loss: 213993.7500 - val_mse: 110030233600.0000 - val_mae: 213993.7500\n",
            "Epoch 4/150\n",
            "196/196 [==============================] - 0s 2ms/step - loss: 231772.3750 - mse: 354143961088.0000 - mae: 231772.3750 - val_loss: 212499.9531 - val_mse: 108492414976.0000 - val_mae: 212499.9531\n",
            "Epoch 5/150\n",
            "196/196 [==============================] - 0s 2ms/step - loss: 230191.6719 - mse: 351566725120.0000 - mae: 230191.6719 - val_loss: 211227.2969 - val_mse: 106788118528.0000 - val_mae: 211227.2969\n",
            "Epoch 6/150\n",
            "196/196 [==============================] - 0s 2ms/step - loss: 229158.0938 - mse: 350193680384.0000 - mae: 229158.0938 - val_loss: 210241.0938 - val_mse: 104695750656.0000 - val_mae: 210241.0938\n",
            "Epoch 7/150\n",
            "196/196 [==============================] - 0s 2ms/step - loss: 228212.2969 - mse: 348365881344.0000 - mae: 228212.2969 - val_loss: 209416.0469 - val_mse: 104987459584.0000 - val_mae: 209416.0469\n",
            "Epoch 8/150\n",
            "196/196 [==============================] - 0s 2ms/step - loss: 227183.5781 - mse: 347499855872.0000 - mae: 227183.5781 - val_loss: 208686.4688 - val_mse: 104893759488.0000 - val_mae: 208686.4688\n",
            "Epoch 9/150\n",
            "196/196 [==============================] - 0s 2ms/step - loss: 226439.4688 - mse: 347688140800.0000 - mae: 226439.4688 - val_loss: 207792.8906 - val_mse: 102135242752.0000 - val_mae: 207792.8906\n",
            "Epoch 10/150\n",
            "196/196 [==============================] - 0s 2ms/step - loss: 225522.2969 - mse: 345056673792.0000 - mae: 225522.2969 - val_loss: 207052.6406 - val_mse: 102898384896.0000 - val_mae: 207052.6406\n",
            "Epoch 11/150\n",
            "196/196 [==============================] - 0s 2ms/step - loss: 224785.8750 - mse: 345112248320.0000 - mae: 224785.8750 - val_loss: 206184.8594 - val_mse: 101074403328.0000 - val_mae: 206184.8594\n",
            "Epoch 12/150\n",
            "196/196 [==============================] - 0s 2ms/step - loss: 223868.6719 - mse: 343808737280.0000 - mae: 223868.6719 - val_loss: 205408.2969 - val_mse: 100181983232.0000 - val_mae: 205408.2969\n",
            "Epoch 13/150\n",
            "196/196 [==============================] - 0s 2ms/step - loss: 223196.6406 - mse: 343034494976.0000 - mae: 223196.6406 - val_loss: 204629.4219 - val_mse: 99386531840.0000 - val_mae: 204629.4219\n",
            "Epoch 14/150\n",
            "196/196 [==============================] - 0s 2ms/step - loss: 222252.5469 - mse: 342273589248.0000 - mae: 222252.5469 - val_loss: 203873.4219 - val_mse: 99113631744.0000 - val_mae: 203873.4219\n",
            "Epoch 15/150\n",
            "196/196 [==============================] - 0s 2ms/step - loss: 221323.7500 - mse: 341698052096.0000 - mae: 221323.7500 - val_loss: 203041.5312 - val_mse: 98206679040.0000 - val_mae: 203041.5312\n",
            "Epoch 16/150\n",
            "196/196 [==============================] - 0s 2ms/step - loss: 220541.0312 - mse: 340752138240.0000 - mae: 220541.0312 - val_loss: 202298.3594 - val_mse: 98142076928.0000 - val_mae: 202298.3594\n",
            "Epoch 17/150\n",
            "196/196 [==============================] - 0s 2ms/step - loss: 219536.5469 - mse: 340278378496.0000 - mae: 219536.5469 - val_loss: 201303.7031 - val_mse: 96635166720.0000 - val_mae: 201303.7031\n",
            "Epoch 18/150\n",
            "196/196 [==============================] - 0s 2ms/step - loss: 218710.5312 - mse: 339067568128.0000 - mae: 218710.5312 - val_loss: 200454.7031 - val_mse: 96086908928.0000 - val_mae: 200454.7031\n",
            "Epoch 19/150\n",
            "196/196 [==============================] - 0s 2ms/step - loss: 217590.6094 - mse: 337679253504.0000 - mae: 217590.6094 - val_loss: 199707.0781 - val_mse: 93484515328.0000 - val_mae: 199707.0781\n",
            "Epoch 20/150\n",
            "196/196 [==============================] - 0s 2ms/step - loss: 216620.4844 - mse: 336415784960.0000 - mae: 216620.4844 - val_loss: 198470.3906 - val_mse: 93202071552.0000 - val_mae: 198470.3906\n",
            "Epoch 21/150\n",
            "196/196 [==============================] - 0s 2ms/step - loss: 215404.2812 - mse: 335290695680.0000 - mae: 215404.2812 - val_loss: 197380.0781 - val_mse: 92757368832.0000 - val_mae: 197380.0781\n",
            "Epoch 22/150\n",
            "196/196 [==============================] - 0s 2ms/step - loss: 214336.0469 - mse: 334254080000.0000 - mae: 214336.0469 - val_loss: 196310.2812 - val_mse: 91122688000.0000 - val_mae: 196310.2812\n",
            "Epoch 23/150\n",
            "196/196 [==============================] - 0s 2ms/step - loss: 213150.5469 - mse: 332536315904.0000 - mae: 213150.5469 - val_loss: 195055.9531 - val_mse: 90512244736.0000 - val_mae: 195055.9531\n",
            "Epoch 24/150\n",
            "196/196 [==============================] - 0s 2ms/step - loss: 211791.4062 - mse: 331856543744.0000 - mae: 211791.4062 - val_loss: 193753.0781 - val_mse: 89174253568.0000 - val_mae: 193753.0781\n",
            "Epoch 25/150\n",
            "196/196 [==============================] - 0s 2ms/step - loss: 210471.5781 - mse: 330603364352.0000 - mae: 210471.5781 - val_loss: 192460.7031 - val_mse: 88278851584.0000 - val_mae: 192460.7031\n",
            "Epoch 26/150\n",
            "196/196 [==============================] - 0s 2ms/step - loss: 208978.9844 - mse: 329154297856.0000 - mae: 208978.9844 - val_loss: 191079.3594 - val_mse: 86838263808.0000 - val_mae: 191079.3594\n",
            "Epoch 27/150\n",
            "196/196 [==============================] - 0s 2ms/step - loss: 207571.8438 - mse: 327520976896.0000 - mae: 207571.8438 - val_loss: 189650.7500 - val_mse: 84861091840.0000 - val_mae: 189650.7500\n",
            "Epoch 28/150\n",
            "196/196 [==============================] - 0s 2ms/step - loss: 205973.6875 - mse: 326033571840.0000 - mae: 205973.6875 - val_loss: 189058.6250 - val_mse: 86476701696.0000 - val_mae: 189058.6250\n",
            "Epoch 29/150\n",
            "196/196 [==============================] - 0s 2ms/step - loss: 204578.0000 - mse: 325281185792.0000 - mae: 204578.0000 - val_loss: 186573.9062 - val_mse: 82635579392.0000 - val_mae: 186573.9062\n",
            "Epoch 30/150\n",
            "196/196 [==============================] - 0s 2ms/step - loss: 202986.6250 - mse: 322686713856.0000 - mae: 202986.6250 - val_loss: 184862.6250 - val_mse: 81098031104.0000 - val_mae: 184862.6250\n",
            "Epoch 31/150\n",
            "196/196 [==============================] - 0s 2ms/step - loss: 201157.2969 - mse: 320924909568.0000 - mae: 201157.2969 - val_loss: 183117.7812 - val_mse: 79421218816.0000 - val_mae: 183117.7812\n",
            "Epoch 32/150\n",
            "196/196 [==============================] - 0s 2ms/step - loss: 199595.3750 - mse: 319397724160.0000 - mae: 199595.3750 - val_loss: 182419.0781 - val_mse: 79656026112.0000 - val_mae: 182419.0781\n",
            "Epoch 33/150\n",
            "196/196 [==============================] - 0s 2ms/step - loss: 197829.6406 - mse: 318705270784.0000 - mae: 197829.6406 - val_loss: 179263.5625 - val_mse: 75326341120.0000 - val_mae: 179263.5625\n",
            "Epoch 34/150\n",
            "196/196 [==============================] - 0s 2ms/step - loss: 196257.2344 - mse: 316053716992.0000 - mae: 196257.2344 - val_loss: 177730.1250 - val_mse: 74655072256.0000 - val_mae: 177730.1250\n",
            "Epoch 35/150\n",
            "196/196 [==============================] - 0s 2ms/step - loss: 194295.8125 - mse: 313852952576.0000 - mae: 194295.8125 - val_loss: 176218.4844 - val_mse: 73742843904.0000 - val_mae: 176218.4844\n",
            "Epoch 36/150\n",
            "196/196 [==============================] - 0s 2ms/step - loss: 192258.3750 - mse: 311899291648.0000 - mae: 192258.3750 - val_loss: 173816.5938 - val_mse: 71455383552.0000 - val_mae: 173816.5938\n",
            "Epoch 37/150\n",
            "196/196 [==============================] - 0s 2ms/step - loss: 190593.2344 - mse: 309857878016.0000 - mae: 190593.2344 - val_loss: 171452.1719 - val_mse: 68767211520.0000 - val_mae: 171452.1719\n",
            "Epoch 38/150\n",
            "196/196 [==============================] - 0s 2ms/step - loss: 188700.4844 - mse: 307673006080.0000 - mae: 188700.4844 - val_loss: 170466.8594 - val_mse: 68809580544.0000 - val_mae: 170466.8594\n",
            "Epoch 39/150\n",
            "196/196 [==============================] - 0s 2ms/step - loss: 187082.5000 - mse: 305890131968.0000 - mae: 187082.5000 - val_loss: 168908.2500 - val_mse: 67524730880.0000 - val_mae: 168908.2500\n",
            "Epoch 40/150\n",
            "196/196 [==============================] - 0s 2ms/step - loss: 185613.6875 - mse: 304435167232.0000 - mae: 185613.6875 - val_loss: 167522.8281 - val_mse: 66095005696.0000 - val_mae: 167522.8281\n",
            "Epoch 41/150\n",
            "196/196 [==============================] - 0s 2ms/step - loss: 184363.8281 - mse: 302798962688.0000 - mae: 184363.8281 - val_loss: 166072.6250 - val_mse: 64613572608.0000 - val_mae: 166072.6250\n",
            "Epoch 42/150\n",
            "196/196 [==============================] - 0s 2ms/step - loss: 183530.0938 - mse: 301574684672.0000 - mae: 183530.0938 - val_loss: 165151.5000 - val_mse: 64262742016.0000 - val_mae: 165151.5000\n",
            "Epoch 43/150\n",
            "196/196 [==============================] - 0s 2ms/step - loss: 182520.8750 - mse: 300667076608.0000 - mae: 182520.8750 - val_loss: 163803.0000 - val_mse: 62119915520.0000 - val_mae: 163803.0000\n",
            "Epoch 44/150\n",
            "196/196 [==============================] - 0s 2ms/step - loss: 181756.9531 - mse: 299673911296.0000 - mae: 181756.9531 - val_loss: 162630.8750 - val_mse: 61130694656.0000 - val_mae: 162630.8750\n",
            "Epoch 45/150\n",
            "196/196 [==============================] - 0s 2ms/step - loss: 181003.6562 - mse: 298269802496.0000 - mae: 181003.6562 - val_loss: 163854.3438 - val_mse: 63146074112.0000 - val_mae: 163854.3438\n",
            "Epoch 46/150\n",
            "196/196 [==============================] - 0s 2ms/step - loss: 180759.2812 - mse: 298347233280.0000 - mae: 180759.2812 - val_loss: 161686.6562 - val_mse: 60556341248.0000 - val_mae: 161686.6562\n",
            "Epoch 47/150\n",
            "196/196 [==============================] - 0s 2ms/step - loss: 180228.8438 - mse: 297139929088.0000 - mae: 180228.8438 - val_loss: 161311.6562 - val_mse: 60393406464.0000 - val_mae: 161311.6562\n",
            "Epoch 48/150\n",
            "196/196 [==============================] - 0s 2ms/step - loss: 180091.1719 - mse: 296521039872.0000 - mae: 180091.1719 - val_loss: 161338.9844 - val_mse: 60673261568.0000 - val_mae: 161338.9844\n",
            "Epoch 49/150\n",
            "196/196 [==============================] - 0s 2ms/step - loss: 179714.0469 - mse: 296249819136.0000 - mae: 179714.0469 - val_loss: 160489.4688 - val_mse: 59162107904.0000 - val_mae: 160489.4688\n",
            "Epoch 50/150\n",
            "196/196 [==============================] - 0s 2ms/step - loss: 179493.4844 - mse: 295437467648.0000 - mae: 179493.4844 - val_loss: 160656.5156 - val_mse: 60134141952.0000 - val_mae: 160656.5156\n",
            "Epoch 51/150\n",
            "196/196 [==============================] - 0s 2ms/step - loss: 179162.7656 - mse: 295421575168.0000 - mae: 179162.7656 - val_loss: 160193.7031 - val_mse: 59292700672.0000 - val_mae: 160193.7031\n",
            "Epoch 52/150\n",
            "196/196 [==============================] - 0s 2ms/step - loss: 179347.0469 - mse: 294945718272.0000 - mae: 179347.0469 - val_loss: 159902.3906 - val_mse: 59361800192.0000 - val_mae: 159902.3906\n",
            "Epoch 53/150\n",
            "196/196 [==============================] - 0s 2ms/step - loss: 179201.2031 - mse: 294932152320.0000 - mae: 179201.2031 - val_loss: 160386.0625 - val_mse: 59849863168.0000 - val_mae: 160386.0625\n",
            "Epoch 54/150\n",
            "196/196 [==============================] - 0s 2ms/step - loss: 179123.6250 - mse: 294497517568.0000 - mae: 179123.6250 - val_loss: 159180.8594 - val_mse: 58259410944.0000 - val_mae: 159180.8594\n",
            "Epoch 55/150\n",
            "196/196 [==============================] - 0s 2ms/step - loss: 178910.3594 - mse: 294337970176.0000 - mae: 178910.3594 - val_loss: 159136.2812 - val_mse: 58449960960.0000 - val_mae: 159136.2812\n",
            "Epoch 56/150\n",
            "196/196 [==============================] - 0s 2ms/step - loss: 178732.0781 - mse: 294565511168.0000 - mae: 178732.0781 - val_loss: 158789.5625 - val_mse: 57753628672.0000 - val_mae: 158789.5625\n",
            "Epoch 57/150\n",
            "196/196 [==============================] - 0s 2ms/step - loss: 178859.1094 - mse: 294145949696.0000 - mae: 178859.1094 - val_loss: 159031.1094 - val_mse: 58513674240.0000 - val_mae: 159031.1094\n",
            "Epoch 58/150\n",
            "196/196 [==============================] - 0s 2ms/step - loss: 178940.3750 - mse: 294479888384.0000 - mae: 178940.3750 - val_loss: 158804.3594 - val_mse: 58212745216.0000 - val_mae: 158804.3594\n",
            "Epoch 59/150\n",
            "196/196 [==============================] - 0s 2ms/step - loss: 178582.2031 - mse: 293473353728.0000 - mae: 178582.2031 - val_loss: 159622.6250 - val_mse: 59200540672.0000 - val_mae: 159622.6250\n",
            "Epoch 60/150\n",
            "196/196 [==============================] - 0s 2ms/step - loss: 178744.5781 - mse: 294074941440.0000 - mae: 178744.5781 - val_loss: 158316.2656 - val_mse: 57504382976.0000 - val_mae: 158316.2656\n",
            "Epoch 61/150\n",
            "196/196 [==============================] - 0s 2ms/step - loss: 178383.8594 - mse: 293599150080.0000 - mae: 178383.8594 - val_loss: 158824.5000 - val_mse: 58502836224.0000 - val_mae: 158824.5000\n",
            "Epoch 62/150\n",
            "196/196 [==============================] - 0s 2ms/step - loss: 178564.4844 - mse: 293606326272.0000 - mae: 178564.4844 - val_loss: 159144.5312 - val_mse: 58840469504.0000 - val_mae: 159144.5312\n",
            "Epoch 63/150\n",
            "196/196 [==============================] - 0s 2ms/step - loss: 178530.7969 - mse: 293691064320.0000 - mae: 178530.7969 - val_loss: 158373.8281 - val_mse: 58093371392.0000 - val_mae: 158373.8281\n",
            "Epoch 64/150\n",
            "196/196 [==============================] - 0s 2ms/step - loss: 178702.0312 - mse: 293665308672.0000 - mae: 178702.0312 - val_loss: 158090.4688 - val_mse: 57582227456.0000 - val_mae: 158090.4688\n",
            "Epoch 65/150\n",
            "196/196 [==============================] - 0s 2ms/step - loss: 178380.2812 - mse: 293530959872.0000 - mae: 178380.2812 - val_loss: 158066.2031 - val_mse: 57815068672.0000 - val_mae: 158066.2031\n",
            "Epoch 66/150\n",
            "196/196 [==============================] - 0s 2ms/step - loss: 178450.2344 - mse: 293240045568.0000 - mae: 178450.2344 - val_loss: 157922.3125 - val_mse: 57454190592.0000 - val_mae: 157922.3125\n",
            "Epoch 67/150\n",
            "196/196 [==============================] - 0s 2ms/step - loss: 178407.5781 - mse: 293507661824.0000 - mae: 178407.5781 - val_loss: 158207.6875 - val_mse: 58190397440.0000 - val_mae: 158207.6875\n",
            "Epoch 68/150\n",
            "196/196 [==============================] - 0s 2ms/step - loss: 178302.1719 - mse: 293067980800.0000 - mae: 178302.1719 - val_loss: 158889.8125 - val_mse: 58696822784.0000 - val_mae: 158889.8125\n",
            "Epoch 69/150\n",
            "196/196 [==============================] - 0s 2ms/step - loss: 178277.1406 - mse: 293332746240.0000 - mae: 178277.1406 - val_loss: 158012.9375 - val_mse: 58048905216.0000 - val_mae: 158012.9375\n",
            "Epoch 70/150\n",
            "196/196 [==============================] - 0s 2ms/step - loss: 178299.1250 - mse: 292886446080.0000 - mae: 178299.1250 - val_loss: 157678.6875 - val_mse: 57690193920.0000 - val_mae: 157678.6875\n",
            "Epoch 71/150\n",
            "196/196 [==============================] - 0s 2ms/step - loss: 178176.1250 - mse: 293085118464.0000 - mae: 178176.1250 - val_loss: 157987.6562 - val_mse: 58080022528.0000 - val_mae: 157987.6562\n",
            "Epoch 72/150\n",
            "196/196 [==============================] - 0s 2ms/step - loss: 178262.6719 - mse: 293367054336.0000 - mae: 178262.6719 - val_loss: 157819.4219 - val_mse: 57950932992.0000 - val_mae: 157819.4219\n",
            "Epoch 73/150\n",
            "196/196 [==============================] - 0s 2ms/step - loss: 178058.6562 - mse: 292929404928.0000 - mae: 178058.6562 - val_loss: 158600.4062 - val_mse: 58550685696.0000 - val_mae: 158600.4062\n",
            "Epoch 74/150\n",
            "196/196 [==============================] - 0s 2ms/step - loss: 178019.9062 - mse: 293365448704.0000 - mae: 178019.9062 - val_loss: 157458.0625 - val_mse: 57655914496.0000 - val_mae: 157458.0625\n",
            "Epoch 75/150\n",
            "196/196 [==============================] - 0s 2ms/step - loss: 178074.4219 - mse: 293350014976.0000 - mae: 178074.4219 - val_loss: 157737.1719 - val_mse: 58001780736.0000 - val_mae: 157737.1719\n",
            "Epoch 76/150\n",
            "196/196 [==============================] - 0s 2ms/step - loss: 178139.4375 - mse: 293342707712.0000 - mae: 178139.4375 - val_loss: 157242.8750 - val_mse: 57406312448.0000 - val_mae: 157242.8750\n",
            "Epoch 77/150\n",
            "196/196 [==============================] - 0s 2ms/step - loss: 178052.7656 - mse: 292969381888.0000 - mae: 178052.7656 - val_loss: 157433.3906 - val_mse: 56813674496.0000 - val_mae: 157433.3906\n",
            "Epoch 78/150\n",
            "196/196 [==============================] - 0s 2ms/step - loss: 178156.2812 - mse: 293114707968.0000 - mae: 178156.2812 - val_loss: 160056.9062 - val_mse: 59479150592.0000 - val_mae: 160056.9062\n",
            "Epoch 79/150\n",
            "196/196 [==============================] - 0s 2ms/step - loss: 177937.5781 - mse: 292954374144.0000 - mae: 177937.5781 - val_loss: 157559.6875 - val_mse: 57720233984.0000 - val_mae: 157559.6875\n",
            "Epoch 80/150\n",
            "196/196 [==============================] - 0s 2ms/step - loss: 178244.6094 - mse: 293343690752.0000 - mae: 178244.6094 - val_loss: 157019.7812 - val_mse: 57140051968.0000 - val_mae: 157019.7812\n",
            "Epoch 81/150\n",
            "196/196 [==============================] - 0s 2ms/step - loss: 178071.1875 - mse: 292637671424.0000 - mae: 178071.1875 - val_loss: 157793.9219 - val_mse: 58130722816.0000 - val_mae: 157793.9219\n",
            "Epoch 82/150\n",
            "196/196 [==============================] - 0s 2ms/step - loss: 178090.3594 - mse: 293341167616.0000 - mae: 178090.3594 - val_loss: 156991.5938 - val_mse: 57221033984.0000 - val_mae: 156991.5938\n",
            "Epoch 83/150\n",
            "196/196 [==============================] - 0s 2ms/step - loss: 177917.3438 - mse: 292647206912.0000 - mae: 177917.3438 - val_loss: 157978.4531 - val_mse: 58364092416.0000 - val_mae: 157978.4531\n",
            "Epoch 84/150\n",
            "196/196 [==============================] - 0s 2ms/step - loss: 178109.0938 - mse: 292978851840.0000 - mae: 178109.0938 - val_loss: 157774.2969 - val_mse: 58213744640.0000 - val_mae: 157774.2969\n",
            "Epoch 85/150\n",
            "196/196 [==============================] - 0s 2ms/step - loss: 178133.4844 - mse: 292874092544.0000 - mae: 178133.4844 - val_loss: 157852.8125 - val_mse: 58291851264.0000 - val_mae: 157852.8125\n",
            "Epoch 86/150\n",
            "196/196 [==============================] - 0s 2ms/step - loss: 177927.0156 - mse: 292915183616.0000 - mae: 177927.0156 - val_loss: 157271.5312 - val_mse: 57833160704.0000 - val_mae: 157271.5312\n",
            "Epoch 87/150\n",
            "196/196 [==============================] - 0s 2ms/step - loss: 177790.3906 - mse: 292802330624.0000 - mae: 177790.3906 - val_loss: 156957.0469 - val_mse: 57462628352.0000 - val_mae: 156957.0469\n",
            "Epoch 88/150\n",
            "196/196 [==============================] - 0s 2ms/step - loss: 177802.0625 - mse: 292808228864.0000 - mae: 177802.0625 - val_loss: 156752.5781 - val_mse: 57256976384.0000 - val_mae: 156752.5781\n",
            "Epoch 89/150\n",
            "196/196 [==============================] - 0s 2ms/step - loss: 177736.7031 - mse: 292894736384.0000 - mae: 177736.7031 - val_loss: 157157.0781 - val_mse: 57771048960.0000 - val_mae: 157157.0781\n",
            "Epoch 90/150\n",
            "196/196 [==============================] - 0s 2ms/step - loss: 177747.2500 - mse: 292685971456.0000 - mae: 177747.2500 - val_loss: 156797.1719 - val_mse: 57362354176.0000 - val_mae: 156797.1719\n",
            "Epoch 91/150\n",
            "196/196 [==============================] - 0s 2ms/step - loss: 177582.1562 - mse: 292910759936.0000 - mae: 177582.1562 - val_loss: 157298.7969 - val_mse: 57919467520.0000 - val_mae: 157298.7969\n",
            "Epoch 92/150\n",
            "196/196 [==============================] - 0s 2ms/step - loss: 177918.0938 - mse: 292894932992.0000 - mae: 177918.0938 - val_loss: 157020.3438 - val_mse: 57631948800.0000 - val_mae: 157020.3438\n",
            "Epoch 93/150\n",
            "196/196 [==============================] - 0s 2ms/step - loss: 177505.5781 - mse: 292757667840.0000 - mae: 177505.5781 - val_loss: 156712.6719 - val_mse: 57065672704.0000 - val_mae: 156712.6719\n",
            "Epoch 94/150\n",
            "196/196 [==============================] - 0s 2ms/step - loss: 177567.1562 - mse: 292514693120.0000 - mae: 177567.1562 - val_loss: 157041.1250 - val_mse: 57686265856.0000 - val_mae: 157041.1250\n",
            "Epoch 95/150\n",
            "196/196 [==============================] - 0s 2ms/step - loss: 177461.7656 - mse: 292736401408.0000 - mae: 177461.7656 - val_loss: 157794.2500 - val_mse: 58318864384.0000 - val_mae: 157794.2500\n",
            "Epoch 96/150\n",
            "196/196 [==============================] - 0s 2ms/step - loss: 177603.9062 - mse: 292838178816.0000 - mae: 177603.9062 - val_loss: 156800.5469 - val_mse: 57415884800.0000 - val_mae: 156800.5469\n",
            "Epoch 97/150\n",
            "196/196 [==============================] - 0s 2ms/step - loss: 177437.7969 - mse: 292914069504.0000 - mae: 177437.7969 - val_loss: 156803.4062 - val_mse: 57358974976.0000 - val_mae: 156803.4062\n",
            "Epoch 98/150\n",
            "182/196 [==========================>...] - ETA: 0s - loss: 179054.7031 - mse: 310965436416.0000 - mae: 179054.7031Restoring model weights from the end of the best epoch: 93.\n",
            "196/196 [==============================] - 0s 2ms/step - loss: 177476.2812 - mse: 292854890496.0000 - mae: 177476.2812 - val_loss: 157412.2188 - val_mse: 57987379200.0000 - val_mae: 157412.2188\n",
            "Epoch 98: early stopping\n"
          ]
        }
      ],
      "source": [
        "model = Sequential()\n",
        "model.add(Dense(10, activation='relu',input_shape=(15,),kernel_initializer='normal'))\n",
        "model.add(Dense(8,  activation='relu'))\n",
        "model.add(Dense(1, kernel_initializer='normal'))\n",
        "model.compile(loss='mean_absolute_error', optimizer='adam',  metrics=['mse', 'mae'])\n",
        "from keras import callbacks\n",
        "earlystopping = callbacks.EarlyStopping(monitor =\"val_loss\", mode =\"min\", patience = 5, restore_best_weights = True,verbose=1)\n",
        "trained_model = model.fit(X_train,y_train, batch_size=16, epochs=150, validation_split=0.15 ,callbacks =[earlystopping]) \n",
        "history = trained_model.history"
      ]
    },
    {
      "cell_type": "code",
      "execution_count": null,
      "metadata": {
        "colab": {
          "base_uri": "https://localhost:8080/"
        },
        "id": "VUs2vxLOyfap",
        "outputId": "71a08c6c-7e3a-44f1-d1dd-1b2ff2611e9b"
      },
      "outputs": [
        {
          "output_type": "stream",
          "name": "stdout",
          "text": [
            "MAE: 174366.67\n",
            "MSE: 256720860000.0\n",
            "VarScore: 0.1767963171005249\n"
          ]
        }
      ],
      "source": [
        "# history\n",
        "Y_pred = model.predict(X_test)\n",
        "y_pred=np.ravel(Y_pred)  \n",
        "from sklearn import metrics\n",
        "print('MAE:', metrics.mean_absolute_error(y_test, y_pred))  \n",
        "print('MSE:', metrics.mean_squared_error(y_test, y_pred))  \n",
        "print('VarScore:',metrics.explained_variance_score(y_test,y_pred))"
      ]
    },
    {
      "cell_type": "code",
      "execution_count": null,
      "metadata": {
        "colab": {
          "base_uri": "https://localhost:8080/"
        },
        "id": "yyanyuMY17o8",
        "outputId": "ed71eeac-ec81-4fae-d303-256cd2298d62"
      },
      "outputs": [
        {
          "output_type": "stream",
          "name": "stdout",
          "text": [
            "[372070.72 550932.4  561199.94 ... 517932.38 508232.72 570439.3 ]\n",
            "[320000. 411000. 687000. ... 450000. 283200. 550000.]\n"
          ]
        }
      ],
      "source": [
        "# prediction\n",
        "print(y_pred)\n",
        "print(y_test)"
      ]
    },
    {
      "cell_type": "code",
      "execution_count": null,
      "metadata": {
        "colab": {
          "base_uri": "https://localhost:8080/",
          "height": 295
        },
        "id": "0GPlKV1W0pCn",
        "outputId": "298f1521-d71c-4c2e-f012-5bb23dd4f17a"
      },
      "outputs": [
        {
          "output_type": "display_data",
          "data": {
            "text/plain": [
              "<Figure size 432x288 with 1 Axes>"
            ],
            "image/png": "[encoded data removed]"
          },
          "metadata": {
            "needs_background": "light"
          }
        }
      ],
      "source": [
        "plt.title('MAE Loss')\n",
        "plt.plot(history['mae'], label='MAE (training data)',color='blue')\n",
        "plt.plot(history['val_mae'], label='MAE (test data)',color='orange')\n",
        "plt.ylabel('MAE Metric')\n",
        "plt.xlabel('epoch')\n",
        "plt.legend(['MAE (training data)', 'MAE (test data)'], loc='upper right')\n",
        "plt.grid()\n",
        "plt.show()"
      ]
    },
    {
      "cell_type": "code",
      "execution_count": null,
      "metadata": {
        "colab": {
          "base_uri": "https://localhost:8080/",
          "height": 295
        },
        "id": "BeZD7r7P0pE2",
        "outputId": "12625f49-0135-4d0c-9f1a-0d3cb9abbbff"
      },
      "outputs": [
        {
          "output_type": "display_data",
          "data": {
            "text/plain": [
              "<Figure size 432x288 with 1 Axes>"
            ],
            "image/png": "[encoded data removed]"
          },
          "metadata": {
            "needs_background": "light"
          }
        }
      ],
      "source": [
        "plt.title('MAE Loss')\n",
        "plt.plot(history['mse'], label='MSE (training data)',color='blue')\n",
        "plt.plot(history['val_mse'], label='MSE (test data)',color='orange')\n",
        "plt.ylabel('MSE Metric')\n",
        "plt.xlabel('epoch')\n",
        "plt.legend(['MSE (training data)', 'MSE (test data)'], loc='upper right')\n",
        "plt.grid()\n",
        "plt.show()"
      ]
    },
    {
      "cell_type": "code",
      "execution_count": null,
      "metadata": {
        "colab": {
          "base_uri": "https://localhost:8080/",
          "height": 313
        },
        "id": "dlK5R8bL0pHa",
        "outputId": "c8774ca3-a451-4ca7-c71d-c924ea527cac"
      },
      "outputs": [
        {
          "output_type": "execute_result",
          "data": {
            "text/plain": [
              "(0.0, 4000000.0)"
            ]
          },
          "metadata": {},
          "execution_count": 186
        },
        {
          "output_type": "display_data",
          "data": {
            "text/plain": [
              "<Figure size 432x288 with 1 Axes>"
            ],
            "image/png": "[encoded data removed]"
          },
          "metadata": {
            "needs_background": "light"
          }
        }
      ],
      "source": [
        "# Visualizing Our predictions\n",
        "plt.scatter(y_pred,y_test)\n",
        "# Perfect predictions\n",
        "plt.plot(y_pred,y_pred,'r')\n",
        "plt.title('MAE Loss')\n",
        "plt.xlabel('y-test')\n",
        "plt.ylabel('y-pred')\n",
        "plt.ylim([0,4e6])"
      ]
    },
    {
      "cell_type": "markdown",
      "metadata": {
        "id": "sNE0stDs2ULh"
      },
      "source": [
        "# Bonus Section\n"
      ]
    },
    {
      "cell_type": "code",
      "execution_count": null,
      "metadata": {
        "id": "jpHJwfvK0pL3"
      },
      "outputs": [],
      "source": [
        "from sklearn.linear_model import LinearRegression\n",
        "from sklearn.linear_model import Ridge"
      ]
    },
    {
      "cell_type": "markdown",
      "metadata": {
        "id": "zDuHa_gR2Y4g"
      },
      "source": [
        "### Linear Regression"
      ]
    },
    {
      "cell_type": "code",
      "execution_count": null,
      "metadata": {
        "colab": {
          "base_uri": "https://localhost:8080/"
        },
        "id": "CQIpEUX50pO3",
        "outputId": "297475c5-998f-4af7-ad07-549d6e053ac6"
      },
      "outputs": [
        {
          "output_type": "execute_result",
          "data": {
            "text/plain": [
              "LinearRegression()"
            ]
          },
          "metadata": {},
          "execution_count": 188
        }
      ],
      "source": [
        "regressor = LinearRegression()  \n",
        "regressor.fit(X_train, y_train)"
      ]
    },
    {
      "cell_type": "code",
      "execution_count": null,
      "metadata": {
        "colab": {
          "base_uri": "https://localhost:8080/"
        },
        "id": "9glHIUJS9Jy_",
        "outputId": "442f525c-0091-4d43-fea3-40ed145d9e4d"
      },
      "outputs": [
        {
          "output_type": "stream",
          "name": "stdout",
          "text": [
            "MAE: 162243.2\n",
            "MSE: 244478700000.0\n",
            "VarScore: 0.2132859230041504\n"
          ]
        }
      ],
      "source": [
        "#compare actual output values with predicted values\n",
        "y_pred = regressor.predict(X_test)\n",
        "\n",
        "# evaluate the performance of the algorithm (MAE - MSE - RMSE)\n",
        "from sklearn import metrics\n",
        "print('MAE:', metrics.mean_absolute_error(y_test, y_pred))  \n",
        "print('MSE:', metrics.mean_squared_error(y_test, y_pred))  \n",
        "print('VarScore:',metrics.explained_variance_score(y_test,y_pred))"
      ]
    },
    {
      "cell_type": "markdown",
      "metadata": {
        "id": "QuKADxRx2gFW"
      },
      "source": [
        "### Ridge Regression"
      ]
    },
    {
      "cell_type": "code",
      "execution_count": null,
      "metadata": {
        "colab": {
          "base_uri": "https://localhost:8080/"
        },
        "id": "7FisJHCX2jKz",
        "outputId": "cbc42656-ae61-41ed-d8ff-d85458f85eba"
      },
      "outputs": [
        {
          "output_type": "execute_result",
          "data": {
            "text/plain": [
              "Ridge(alpha=0.9)"
            ]
          },
          "metadata": {},
          "execution_count": 190
        }
      ],
      "source": [
        "# define model\n",
        "Ridge_model = Ridge(alpha=0.9)\n",
        "Ridge_model.fit(X_train, y_train)"
      ]
    },
    {
      "cell_type": "code",
      "execution_count": null,
      "metadata": {
        "colab": {
          "base_uri": "https://localhost:8080/"
        },
        "id": "SCZX4bj62m6i",
        "outputId": "5a41063b-7daa-4902-a118-6adf427949e4"
      },
      "outputs": [
        {
          "output_type": "stream",
          "name": "stdout",
          "text": [
            "MAE: 162259.86\n",
            "MSE: 244479670000.0\n",
            "VarScore: 0.21328282356262207\n"
          ]
        }
      ],
      "source": [
        "#compare actual output values with predicted values\n",
        "y_pred = Ridge_model.predict(X_test)\n",
        "\n",
        "# evaluate the performance of the algorithm (MAE - MSE - RMSE)\n",
        "from sklearn import metrics\n",
        "print('MAE:', metrics.mean_absolute_error(y_test, y_pred))  \n",
        "print('MSE:', metrics.mean_squared_error(y_test, y_pred))  \n",
        "print('VarScore:',metrics.explained_variance_score(y_test,y_pred))"
      ]
    }
  ],
  "metadata": {
    "accelerator": "GPU",
    "colab": {
      "collapsed_sections": [],
      "name": "Part #2.ipynb",
      "provenance": []
    },
    "kernelspec": {
      "display_name": "Python 3",
      "language": "python",
      "name": "python3"
    },
    "language_info": {
      "codemirror_mode": {
        "name": "ipython",
        "version": 3
      },
      "file_extension": ".py",
      "mimetype": "text/x-python",
      "name": "python",
      "nbconvert_exporter": "python",
      "pygments_lexer": "ipython3",
      "version": "3.8.5"
    }
  },
  "nbformat": 4,
  "nbformat_minor": 0
}