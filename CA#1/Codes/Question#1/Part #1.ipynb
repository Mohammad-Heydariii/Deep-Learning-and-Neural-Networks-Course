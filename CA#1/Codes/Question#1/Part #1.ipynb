{
 "cells": [
  {
   "cell_type": "markdown",
   "metadata": {},
   "source": [
    "## Implementing Full-Adder Using Mcculloch Pitts"
   ]
  },
  {
   "cell_type": "code",
   "execution_count": 38,
   "metadata": {},
   "outputs": [],
   "source": [
    "import numpy as np\n",
    "import matplotlib.pyplot as plt"
   ]
  },
  {
   "cell_type": "code",
   "execution_count": 39,
   "metadata": {},
   "outputs": [],
   "source": [
    "def Mcculloch_Pitts(X,w):\n",
    "    res=np.dot(w,X)\n",
    "    return res"
   ]
  },
  {
   "cell_type": "code",
   "execution_count": 40,
   "metadata": {},
   "outputs": [],
   "source": [
    "def activation_function(z):\n",
    "    if z >= 2 :\n",
    "        res=1\n",
    "    else:\n",
    "        res=0\n",
    "    return res"
   ]
  },
  {
   "cell_type": "markdown",
   "metadata": {},
   "source": [
    "## XOR gate which produce first digit"
   ]
  },
  {
   "cell_type": "code",
   "execution_count": 41,
   "metadata": {},
   "outputs": [],
   "source": [
    "def Digit_one(X1,w1,w2,w3):\n",
    "    z1= Mcculloch_Pitts(X1,w1)\n",
    "    z1=activation_function(z1)\n",
    "    z2= Mcculloch_Pitts(X1,w2)\n",
    "    z2=activation_function(z2)\n",
    "    X2=[z1,z2]\n",
    "    y1=Mcculloch_Pitts(X2,w3)\n",
    "    out1=activation_function(y1)\n",
    "    return out1"
   ]
  },
  {
   "cell_type": "markdown",
   "metadata": {},
   "source": [
    "## Complete Block which produce second digit"
   ]
  },
  {
   "cell_type": "code",
   "execution_count": 42,
   "metadata": {},
   "outputs": [],
   "source": [
    "def Digit_two(X1,X2,w4,w5,w6,w7,w8,w9,w10):\n",
    "    \n",
    "    ## XOR \n",
    "    z3= Mcculloch_Pitts(X2,w4)\n",
    "    z3=activation_function(z3)\n",
    "    z4= Mcculloch_Pitts(X2,w5)\n",
    "    z4=activation_function(z4)\n",
    "    X3=[z3,z4]\n",
    "    y2=Mcculloch_Pitts(X3,w6)\n",
    "    vv1=activation_function(y2)\n",
    "    \n",
    "    ## AND\n",
    "    z5= Mcculloch_Pitts(X1,w7)\n",
    "    vv2=activation_function(z5)\n",
    "    \n",
    "    ## XOR\n",
    "    X4=[vv1,vv2]\n",
    "    z6= Mcculloch_Pitts(X4,w8)\n",
    "    z6=activation_function(z6)\n",
    "    z7= Mcculloch_Pitts(X4,w9)\n",
    "    z7=activation_function(z7)\n",
    "    X5=[z6,z7]\n",
    "    y3=Mcculloch_Pitts(X5,w10)\n",
    "    out2=activation_function(y3)\n",
    "    \n",
    "    return out2,vv1,vv2"
   ]
  },
  {
   "cell_type": "markdown",
   "metadata": {},
   "source": [
    "## Making Carry-out Digit"
   ]
  },
  {
   "cell_type": "code",
   "execution_count": 43,
   "metadata": {},
   "outputs": [],
   "source": [
    "def Carry_out(X2,X3,w11,w12):\n",
    "    \n",
    "    ## AND\n",
    "    z8= Mcculloch_Pitts(X3,w11)\n",
    "    vv3=activation_function(z8)\n",
    "    \n",
    "    ## AND\n",
    "    z9= Mcculloch_Pitts(X2,w12)\n",
    "    vv4=activation_function(z9)\n",
    "    \n",
    "    ## OR\n",
    "    X4=[vv3,vv4]\n",
    "    z10= Mcculloch_Pitts(X4,w13)\n",
    "    Cout=activation_function(z10)\n",
    "    \n",
    "    return Cout"
   ]
  },
  {
   "cell_type": "markdown",
   "metadata": {},
   "source": [
    "# FULL  ADDER"
   ]
  },
  {
   "cell_type": "code",
   "execution_count": 44,
   "metadata": {},
   "outputs": [],
   "source": [
    "def FA(X1,X2,w1,w2,w3,w4,w5,w6,w7,w8,w9,w10,w11,w12,w13):\n",
    "    out1=Digit_one(X1,w1,w2,w3)\n",
    "    out2,vv1,vv2=Digit_two(X1,X2,w4,w5,w6,w7,w8,w9,w10)\n",
    "    X3=[vv1,vv2]\n",
    "    Cout=Carry_out(X2,X3,w11,w12)\n",
    "    return Cout,out2,out1"
   ]
  },
  {
   "cell_type": "code",
   "execution_count": 45,
   "metadata": {},
   "outputs": [],
   "source": [
    "w1=[2,-1]\n",
    "w2=[-1,2]\n",
    "w3=[2,2]\n",
    "w4=[2,-1]\n",
    "w5=[-1,2]\n",
    "w6=[2,2]\n",
    "w7=[1,1]\n",
    "w8=[2,-1]\n",
    "w9=[-1,2]\n",
    "w10=[2,2]\n",
    "w11=[1,1]\n",
    "w12=[1,1]\n",
    "w13=[2,2]"
   ]
  },
  {
   "cell_type": "code",
   "execution_count": 46,
   "metadata": {},
   "outputs": [],
   "source": [
    "inputs=np.zeros((16,4))\n",
    "inputs[0,:]=[0,0,0,0]\n",
    "inputs[1,:]=[0,0,0,1]\n",
    "inputs[2,:]=[0,0,1,0]\n",
    "inputs[3,:]=[0,0,1,1]\n",
    "inputs[4,:]=[0,1,0,0]\n",
    "inputs[5,:]=[0,1,0,1]\n",
    "inputs[6,:]=[0,1,1,0]\n",
    "inputs[7,:]=[0,1,1,1]\n",
    "inputs[8,:]=[1,0,0,0]\n",
    "inputs[9,:]=[1,0,0,1]\n",
    "inputs[10,:]=[1,0,1,0]\n",
    "inputs[11,:]=[1,0,1,1]\n",
    "inputs[12,:]=[1,1,0,0]\n",
    "inputs[13,:]=[1,1,0,1]\n",
    "inputs[14,:]=[1,1,1,0]\n",
    "inputs[15,:]=[1,1,1,1]\n",
    "inputs=inputs.astype(int)"
   ]
  },
  {
   "cell_type": "code",
   "execution_count": 47,
   "metadata": {},
   "outputs": [
    {
     "name": "stdout",
     "output_type": "stream",
     "text": [
      "0 0 + 0 0 = 0 0 0\n",
      "0 1 + 0 0 = 0 0 1\n",
      "1 0 + 0 0 = 0 1 0\n",
      "1 1 + 0 0 = 0 1 1\n",
      "0 0 + 0 1 = 0 0 1\n",
      "0 1 + 0 1 = 0 1 0\n",
      "1 0 + 0 1 = 0 1 1\n",
      "1 1 + 0 1 = 1 0 0\n",
      "0 0 + 1 0 = 0 1 0\n",
      "0 1 + 1 0 = 0 1 1\n",
      "1 0 + 1 0 = 1 0 0\n",
      "1 1 + 1 0 = 1 0 1\n",
      "0 0 + 1 1 = 0 1 1\n",
      "0 1 + 1 1 = 1 0 0\n",
      "1 0 + 1 1 = 1 0 1\n",
      "1 1 + 1 1 = 1 1 0\n"
     ]
    }
   ],
   "source": [
    "for i in range(len(inputs)):\n",
    "    X1=[inputs[i,3],inputs[i,1]]\n",
    "    X2=[inputs[i,2],inputs[i,0]]\n",
    "    cout,out2,out1=FA(X1,X2,w1,w2,w3,w4,w5,w6,w7,w8,w9,w10,w11,w12,w13)\n",
    "    res=[cout,out2,out1]\n",
    "    in1=[inputs[i,2],inputs[i,3]]\n",
    "    in2=[inputs[i,0],inputs[i,1]]\n",
    "    print(*in1,\"+\",*in2,\"=\",*res)"
   ]
  }
 ],
 "metadata": {
  "kernelspec": {
   "display_name": "Python 3",
   "language": "python",
   "name": "python3"
  },
  "language_info": {
   "codemirror_mode": {
    "name": "ipython",
    "version": 3
   },
   "file_extension": ".py",
   "mimetype": "text/x-python",
   "name": "python",
   "nbconvert_exporter": "python",
   "pygments_lexer": "ipython3",
   "version": "3.8.5"
  }
 },
 "nbformat": 4,
 "nbformat_minor": 4
}
