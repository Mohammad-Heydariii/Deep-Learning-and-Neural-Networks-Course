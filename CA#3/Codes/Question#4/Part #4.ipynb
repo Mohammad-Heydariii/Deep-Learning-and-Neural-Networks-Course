{
  "nbformat": 4,
  "nbformat_minor": 0,
  "metadata": {
    "colab": {
      "name": "Part #4.ipynb",
      "provenance": [],
      "collapsed_sections": []
    },
    "kernelspec": {
      "name": "python3",
      "display_name": "Python 3"
    },
    "language_info": {
      "name": "python"
    },
    "accelerator": "GPU"
  },
  "cells": [
    {
      "cell_type": "code",
      "execution_count": 1,
      "metadata": {
        "id": "2Ih-BbmIyqqL"
      },
      "outputs": [],
      "source": [
        "import numpy as np\n",
        "import random\n",
        "import matplotlib.pyplot as plt\n",
        "from google.colab import files\n",
        "import math\n",
        "from PIL import Image\n",
        "from io import BytesIO\n",
        "from PIL import Image\n",
        "import urllib\n",
        "from matplotlib import image\n",
        "from PIL import Image, ImageOps"
      ]
    },
    {
      "cell_type": "code",
      "source": [
        "def product(x,y):\n",
        "    result=np.zeros((49,63))\n",
        "    for i in range(49):\n",
        "        result[i,:]=x[i]*y\n",
        "    return result"
      ],
      "metadata": {
        "id": "VC8hJYGTywJK"
      },
      "execution_count": 2,
      "outputs": []
    },
    {
      "cell_type": "code",
      "source": [
        "def bipolar_convertor(vector):\n",
        "    res=[]\n",
        "    for i in range(len(vector)):\n",
        "        if vector[i]>0:\n",
        "            res.append(1)\n",
        "        \n",
        "        if vector[i]==0:\n",
        "            res.append(-1)\n",
        "    return res"
      ],
      "metadata": {
        "id": "AYC4Wr7JSlc8"
      },
      "execution_count": 3,
      "outputs": []
    },
    {
      "cell_type": "code",
      "source": [
        "def activation_function(x):\n",
        "    res=[]\n",
        "    for i in range(len(x)):\n",
        "        if x[i]>0:\n",
        "            res.append(1)\n",
        "        \n",
        "        if x[i]<=0:\n",
        "            res.append(-1)\n",
        "    return res"
      ],
      "metadata": {
        "id": "glkTueb-ywMs"
      },
      "execution_count": 4,
      "outputs": []
    },
    {
      "cell_type": "code",
      "source": [
        "X=np.zeros((4,49))\n",
        "Y=np.zeros((4,63))\n",
        "X[0,:]=np.array([1,0,0,0,0,1,1,1,1,0,1,1,0,0,1,1,0,1,0,0,1,1,1,0,1,1,1,0,1,1,1,0,1,0,0,1,1,0,1,1,1,1,1,1,0,1,1,1,0])\n",
        "X[1,:]=np.array([1,0,0,1,0,0,0,1,1,0,1,0,0,1,1,1,0,1,1,0,0,1,1,0,1,1,0,0,1,1,0,0,0,0,1,1,1,1,0,0,1,0,1,1,1,1,0,0,1])\n",
        "X[2,:]=np.array([1,0,0,1,0,1,1,1,1,0,0,1,0,1,1,1,0,1,1,1,0,1,1,1,0,0,1,1,1,1,1,0,1,0,0,1,1,0,0,0,0,1,1,1,1,0,0,1,0])\n",
        "X[3,:]=np.array([1,0,0,1,1,0,0,1,1,0,0,1,0,1,1,1,1,0,1,1,1,1,1,0,1,0,0,1,1,1,1,0,0,1,1,1,1,0,1,0,1,1,1,1,1,1,0,0,1])\n",
        "Y[0,:]=np.array([1,0,1,0,0,0,0,1,1,1,0,0,1,0,1,1,0,0,1,0,1,1,1,1,0,0,1,1,1,1,0,1,0,0,1,1,1,0,0,1,0,0,1,1,0,0,1,0,1,1,1,0,1,1,1,0,1,1,1,0,1,0,0])\n",
        "Y[1,:]=np.array([1,0,0,0,1,1,0,1,1,0,1,0,0,1,1,1,1,0,0,1,0,1,1,1,0,0,1,1,1,1,1,0,1,0,0,1,0,0,1,1,0,0,1,1,0,0,0,0,1,1,1,0,0,1,0,0,1,1,1,1,0,0,1])\n",
        "Y[2,:]=np.array([1,0,0,0,1,1,1,1,1,0,0,1,0,1,1,1,0,1,1,1,0,1,1,1,0,1,0,0,1,1,0,1,1,0,0,1,1,0,0,1,0,1,1,1,0,1,1,0,1,1,1,0,0,0,0,1,1,1,0,1,1,1,0])\n",
        "Y[3,:]=np.array([1,0,1,0,0,1,1,1,1,1,0,1,1,1,1,1,0,0,1,0,1,1,1,0,0,1,0,1,1,1,1,0,1,0,0,1,0,0,0,1,1,1,1,1,0,1,0,0,1,1,1,1,0,0,1,0,1,1,0,1,1,0,0])"
      ],
      "metadata": {
        "id": "dR0iwYZHywO8"
      },
      "execution_count": 5,
      "outputs": []
    },
    {
      "cell_type": "code",
      "source": [
        "X[0,:]=bipolar_convertor(X[0])\n",
        "X[1,:]=bipolar_convertor(X[1])\n",
        "X[2,:]=bipolar_convertor(X[2])\n",
        "X[3,:]=bipolar_convertor(X[3])\n",
        "Y[0,:]=bipolar_convertor(Y[0])\n",
        "Y[1,:]=bipolar_convertor(Y[1])\n",
        "Y[2,:]=bipolar_convertor(Y[2])\n",
        "Y[3,:]=bipolar_convertor(Y[3])"
      ],
      "metadata": {
        "id": "wpDoNRFESz_0"
      },
      "execution_count": 6,
      "outputs": []
    },
    {
      "cell_type": "code",
      "source": [
        "X=X.astype(int)\n",
        "Y=Y.astype(int)"
      ],
      "metadata": {
        "id": "1NdLyy-cTcME"
      },
      "execution_count": 7,
      "outputs": []
    },
    {
      "cell_type": "code",
      "source": [
        "print(X)"
      ],
      "metadata": {
        "colab": {
          "base_uri": "https://localhost:8080/"
        },
        "id": "Ul4-6_ZRTusZ",
        "outputId": "869c36c7-7711-49c5-ec76-2dc2bc9a1428"
      },
      "execution_count": 8,
      "outputs": [
        {
          "output_type": "stream",
          "name": "stdout",
          "text": [
            "[[ 1 -1 -1 -1 -1  1  1  1  1 -1  1  1 -1 -1  1  1 -1  1 -1 -1  1  1  1 -1\n",
            "   1  1  1 -1  1  1  1 -1  1 -1 -1  1  1 -1  1  1  1  1  1  1 -1  1  1  1\n",
            "  -1]\n",
            " [ 1 -1 -1  1 -1 -1 -1  1  1 -1  1 -1 -1  1  1  1 -1  1  1 -1 -1  1  1 -1\n",
            "   1  1 -1 -1  1  1 -1 -1 -1 -1  1  1  1  1 -1 -1  1 -1  1  1  1  1 -1 -1\n",
            "   1]\n",
            " [ 1 -1 -1  1 -1  1  1  1  1 -1 -1  1 -1  1  1  1 -1  1  1  1 -1  1  1  1\n",
            "  -1 -1  1  1  1  1  1 -1  1 -1 -1  1  1 -1 -1 -1 -1  1  1  1  1 -1 -1  1\n",
            "  -1]\n",
            " [ 1 -1 -1  1  1 -1 -1  1  1 -1 -1  1 -1  1  1  1  1 -1  1  1  1  1  1 -1\n",
            "   1 -1 -1  1  1  1  1 -1 -1  1  1  1  1 -1  1 -1  1  1  1  1  1  1 -1 -1\n",
            "   1]]\n"
          ]
        }
      ]
    },
    {
      "cell_type": "code",
      "source": [
        "print(Y)"
      ],
      "metadata": {
        "colab": {
          "base_uri": "https://localhost:8080/"
        },
        "id": "FSqAIuuGTzfK",
        "outputId": "beeff490-3b70-4ec3-b690-29c2a472762a"
      },
      "execution_count": 9,
      "outputs": [
        {
          "output_type": "stream",
          "name": "stdout",
          "text": [
            "[[ 1 -1  1 -1 -1 -1 -1  1  1  1 -1 -1  1 -1  1  1 -1 -1  1 -1  1  1  1  1\n",
            "  -1 -1  1  1  1  1 -1  1 -1 -1  1  1  1 -1 -1  1 -1 -1  1  1 -1 -1  1 -1\n",
            "   1  1  1 -1  1  1  1 -1  1  1  1 -1  1 -1 -1]\n",
            " [ 1 -1 -1 -1  1  1 -1  1  1 -1  1 -1 -1  1  1  1  1 -1 -1  1 -1  1  1  1\n",
            "  -1 -1  1  1  1  1  1 -1  1 -1 -1  1 -1 -1  1  1 -1 -1  1  1 -1 -1 -1 -1\n",
            "   1  1  1 -1 -1  1 -1 -1  1  1  1  1 -1 -1  1]\n",
            " [ 1 -1 -1 -1  1  1  1  1  1 -1 -1  1 -1  1  1  1 -1  1  1  1 -1  1  1  1\n",
            "  -1  1 -1 -1  1  1 -1  1  1 -1 -1  1  1 -1 -1  1 -1  1  1  1 -1  1  1 -1\n",
            "   1  1  1 -1 -1 -1 -1  1  1  1 -1  1  1  1 -1]\n",
            " [ 1 -1  1 -1 -1  1  1  1  1  1 -1  1  1  1  1  1 -1 -1  1 -1  1  1  1 -1\n",
            "  -1  1 -1  1  1  1  1 -1  1 -1 -1  1 -1 -1 -1  1  1  1  1  1 -1  1 -1 -1\n",
            "   1  1  1  1 -1 -1  1 -1  1  1 -1  1  1 -1 -1]]\n"
          ]
        }
      ]
    },
    {
      "cell_type": "code",
      "source": [
        "W_BAM=np.zeros((49,63))\n",
        "for i in range(3):\n",
        "    W_BAM=W_BAM+product(X[i],Y[i])"
      ],
      "metadata": {
        "id": "Uz8BdTpwywRh"
      },
      "execution_count": 10,
      "outputs": []
    },
    {
      "cell_type": "code",
      "source": [
        "W_BAM=W_BAM.astype(int)\n",
        "print(W_BAM)"
      ],
      "metadata": {
        "id": "Ox0-WGZvywUA",
        "colab": {
          "base_uri": "https://localhost:8080/"
        },
        "outputId": "87e568e8-4237-4aa4-8736-bdbd34ef1bca"
      },
      "execution_count": 11,
      "outputs": [
        {
          "output_type": "stream",
          "name": "stdout",
          "text": [
            "[[ 3 -3 -1 ...  1 -1 -1]\n",
            " [-3  3  1 ... -1  1  1]\n",
            " [-3  3  1 ... -1  1  1]\n",
            " ...\n",
            " [-1  1  3 ...  1 -1 -1]\n",
            " [ 1 -1  1 ...  3  1 -3]\n",
            " [-1  1 -1 ... -3 -1  3]]\n"
          ]
        }
      ]
    },
    {
      "cell_type": "code",
      "source": [
        "def noise_adder(input_vector,noise_percent):\n",
        "    result=np.array(input_vector)\n",
        "    for i in range(math.floor((noise_percent/100)*len(result))+1):\n",
        "        random_index = random.randint(0,len(result)-1)\n",
        "        if input_vector[random_index]==1:\n",
        "            result[random_index]=-1\n",
        "        if input_vector[random_index]==-1:\n",
        "            result[random_index]=+1\n",
        "    return result"
      ],
      "metadata": {
        "id": "fbzwtUmyOnhR"
      },
      "execution_count": 12,
      "outputs": []
    },
    {
      "cell_type": "code",
      "source": [
        "def predict_output_BAM(input_vector1,input_vector2,input_vector3,w):\n",
        "    res1=[]\n",
        "    res2=[]\n",
        "    res3=[]\n",
        "    for j in range(w.shape[1]):\n",
        "        res1.append(np.dot(input_vector1,w[:,j]))\n",
        "        res2.append(np.dot(input_vector2,w[:,j]))\n",
        "        res3.append(np.dot(input_vector3,w[:,j]))\n",
        "        nn1=activation_function(res1)\n",
        "        nn2=activation_function(res2)\n",
        "        nn3=activation_function(res3)\n",
        "\n",
        "    return nn1,nn2,nn3"
      ],
      "metadata": {
        "id": "1IGYC3LpRq0k"
      },
      "execution_count": 13,
      "outputs": []
    },
    {
      "cell_type": "code",
      "source": [
        "predict1,predict2,predict3=predict_output_BAM(X[0],X[1],X[2],W_BAM)\n",
        "\n",
        "print(\"output1:\",predict1)\n",
        "print(\"real output:\",Y[0])\n",
        "print(\"output2:\",predict1)\n",
        "print(\"real output:\",Y[1])\n",
        "print(\"output3:\",predict1)\n",
        "print(\"real output:\",Y[2])"
      ],
      "metadata": {
        "colab": {
          "base_uri": "https://localhost:8080/"
        },
        "id": "A2DVfJw1Rq5O",
        "outputId": "5a1e541a-4ac3-4c27-8b00-f498bd721357"
      },
      "execution_count": 22,
      "outputs": [
        {
          "output_type": "stream",
          "name": "stdout",
          "text": [
            "output1: [1, -1, 1, -1, -1, -1, -1, 1, 1, 1, -1, -1, 1, -1, 1, 1, -1, -1, 1, -1, 1, 1, 1, 1, -1, -1, 1, 1, 1, 1, -1, 1, -1, -1, 1, 1, 1, -1, -1, 1, -1, -1, 1, 1, -1, -1, 1, -1, 1, 1, 1, -1, 1, 1, 1, -1, 1, 1, 1, -1, 1, -1, -1]\n",
            "real output: [ 1 -1  1 -1 -1 -1 -1  1  1  1 -1 -1  1 -1  1  1 -1 -1  1 -1  1  1  1  1\n",
            " -1 -1  1  1  1  1 -1  1 -1 -1  1  1  1 -1 -1  1 -1 -1  1  1 -1 -1  1 -1\n",
            "  1  1  1 -1  1  1  1 -1  1  1  1 -1  1 -1 -1]\n",
            "output2: [1, -1, 1, -1, -1, -1, -1, 1, 1, 1, -1, -1, 1, -1, 1, 1, -1, -1, 1, -1, 1, 1, 1, 1, -1, -1, 1, 1, 1, 1, -1, 1, -1, -1, 1, 1, 1, -1, -1, 1, -1, -1, 1, 1, -1, -1, 1, -1, 1, 1, 1, -1, 1, 1, 1, -1, 1, 1, 1, -1, 1, -1, -1]\n",
            "real output: [ 1 -1 -1 -1  1  1 -1  1  1 -1  1 -1 -1  1  1  1  1 -1 -1  1 -1  1  1  1\n",
            " -1 -1  1  1  1  1  1 -1  1 -1 -1  1 -1 -1  1  1 -1 -1  1  1 -1 -1 -1 -1\n",
            "  1  1  1 -1 -1  1 -1 -1  1  1  1  1 -1 -1  1]\n",
            "output3: [1, -1, 1, -1, -1, -1, -1, 1, 1, 1, -1, -1, 1, -1, 1, 1, -1, -1, 1, -1, 1, 1, 1, 1, -1, -1, 1, 1, 1, 1, -1, 1, -1, -1, 1, 1, 1, -1, -1, 1, -1, -1, 1, 1, -1, -1, 1, -1, 1, 1, 1, -1, 1, 1, 1, -1, 1, 1, 1, -1, 1, -1, -1]\n",
            "real output: [ 1 -1 -1 -1  1  1  1  1  1 -1 -1  1 -1  1  1  1 -1  1  1  1 -1  1  1  1\n",
            " -1  1 -1 -1  1  1 -1  1  1 -1 -1  1  1 -1 -1  1 -1  1  1  1 -1  1  1 -1\n",
            "  1  1  1 -1 -1 -1 -1  1  1  1 -1  1  1  1 -1]\n"
          ]
        }
      ]
    },
    {
      "cell_type": "code",
      "source": [
        "W_inverse=W_BAM.T\n",
        "print(W_inverse)\n",
        "predict1,predict2,predict3=predict_output_BAM(Y[0],Y[1],Y[2],W_inverse)\n",
        "\n",
        "print(\"output1:\",predict1)\n",
        "print(\"real output:\",X[0])\n",
        "print(\"output2:\",predict2)\n",
        "print(\"real output:\",X[1])\n",
        "print(\"output3:\",predict3)\n",
        "print(\"real output:\",X[2])"
      ],
      "metadata": {
        "colab": {
          "base_uri": "https://localhost:8080/"
        },
        "id": "-FHz6r5ZLgBk",
        "outputId": "dfdebd4e-e09a-4546-cb2c-1e6dac3bffa4"
      },
      "execution_count": 14,
      "outputs": [
        {
          "output_type": "stream",
          "name": "stdout",
          "text": [
            "[[ 3 -3 -3 ... -1  1 -1]\n",
            " [-3  3  3 ...  1 -1  1]\n",
            " [-1  1  1 ...  3  1 -1]\n",
            " ...\n",
            " [ 1 -1 -1 ...  1  3 -3]\n",
            " [-1  1  1 ... -1  1 -1]\n",
            " [-1  1  1 ... -1 -3  3]]\n",
            "output1: [1, -1, -1, -1, -1, 1, 1, 1, 1, -1, 1, 1, -1, -1, 1, 1, -1, 1, -1, -1, 1, 1, 1, -1, 1, 1, 1, -1, 1, 1, 1, -1, 1, -1, -1, 1, 1, -1, 1, 1, 1, 1, 1, 1, -1, 1, 1, 1, -1]\n",
            "real output: [ 1 -1 -1 -1 -1  1  1  1  1 -1  1  1 -1 -1  1  1 -1  1 -1 -1  1  1  1 -1\n",
            "  1  1  1 -1  1  1  1 -1  1 -1 -1  1  1 -1  1  1  1  1  1  1 -1  1  1  1\n",
            " -1]\n",
            "output2: [1, -1, -1, 1, -1, -1, -1, 1, 1, -1, 1, -1, -1, 1, 1, 1, -1, 1, 1, -1, -1, 1, 1, -1, 1, 1, -1, -1, 1, 1, -1, -1, -1, -1, 1, 1, 1, 1, -1, -1, 1, -1, 1, 1, 1, 1, -1, -1, 1]\n",
            "real output: [ 1 -1 -1  1 -1 -1 -1  1  1 -1  1 -1 -1  1  1  1 -1  1  1 -1 -1  1  1 -1\n",
            "  1  1 -1 -1  1  1 -1 -1 -1 -1  1  1  1  1 -1 -1  1 -1  1  1  1  1 -1 -1\n",
            "  1]\n",
            "output3: [1, -1, -1, 1, -1, 1, 1, 1, 1, -1, -1, 1, -1, 1, 1, 1, -1, 1, 1, 1, -1, 1, 1, 1, -1, -1, 1, 1, 1, 1, 1, -1, 1, -1, -1, 1, 1, -1, -1, -1, -1, 1, 1, 1, 1, -1, -1, 1, -1]\n",
            "real output: [ 1 -1 -1  1 -1  1  1  1  1 -1 -1  1 -1  1  1  1 -1  1  1  1 -1  1  1  1\n",
            " -1 -1  1  1  1  1  1 -1  1 -1 -1  1  1 -1 -1 -1 -1  1  1  1  1 -1 -1  1\n",
            " -1]\n"
          ]
        }
      ]
    },
    {
      "cell_type": "code",
      "source": [
        "res1=[]\n",
        "res2=[]\n",
        "res3=[]\n",
        "res4=[]\n",
        "res5=[]\n",
        "res6=[]\n",
        "\n",
        "res7=[]\n",
        "res8=[]\n",
        "res9=[]\n",
        "res10=[]\n",
        "res11=[]\n",
        "res12=[]\n",
        "\n",
        "iteration_Num=100\n",
        "for i in range(iteration_Num):\n",
        "    \n",
        "  go_noisy_signal1_1=noise_adder(X[0],10)\n",
        "  go_noisy_signal1_2=noise_adder(X[0],20)\n",
        "\n",
        "  go_noisy_signal2_1=noise_adder(X[1],10)\n",
        "  go_noisy_signal2_2=noise_adder(X[1],20)\n",
        "\n",
        "  go_noisy_signal3_1=noise_adder(X[2],10)\n",
        "  go_noisy_signal3_2=noise_adder(X[2],20)\n",
        "\n",
        "        \n",
        "  go_nn1_1,go_nn2_1,go_nn3_1=predict_output_BAM(go_noisy_signal1_1,go_noisy_signal2_1,go_noisy_signal3_1,W_BAM)\n",
        "  go_nn1_2,go_nn2_2,go_nn3_2=predict_output_BAM(go_noisy_signal1_2,go_noisy_signal2_2,go_noisy_signal3_2,W_BAM)\n",
        "    \n",
        "  n_zeros=np.count_nonzero(abs(go_nn1_1-Y[0])==0)\n",
        "  res1.append(n_zeros/63)\n",
        "  n_zeros=np.count_nonzero(abs(go_nn2_1-Y[1])==0)\n",
        "  res2.append(n_zeros/63)\n",
        "  n_zeros=np.count_nonzero(abs(go_nn3_1-Y[2])==0)\n",
        "  res3.append(n_zeros/63)\n",
        "\n",
        "  n_zeros=np.count_nonzero(abs(go_nn1_2-Y[0])==0)\n",
        "  res4.append(n_zeros/63)\n",
        "  n_zeros=np.count_nonzero(abs(go_nn2_2-Y[1])==0)\n",
        "  res5.append(n_zeros/63)\n",
        "  n_zeros=np.count_nonzero(abs(go_nn3_2-Y[2])==0)\n",
        "  res6.append(n_zeros/63)\n",
        "\n",
        "\n",
        "\n",
        "\n",
        "\n",
        "  turn_noisy_signal1_1=noise_adder(Y[0],10)\n",
        "  turn_noisy_signal1_2=noise_adder(Y[0],20)\n",
        "\n",
        "  turn_noisy_signal2_1=noise_adder(Y[1],10)\n",
        "  turn_noisy_signal2_2=noise_adder(Y[1],20)\n",
        "\n",
        "  turn_noisy_signal3_1=noise_adder(Y[2],10)\n",
        "  turn_noisy_signal3_2=noise_adder(Y[2],20)\n",
        "\n",
        "        \n",
        "  turn_nn1_1,turn_nn2_1,turn_nn3_1=predict_output_BAM(turn_noisy_signal1_1,turn_noisy_signal2_1,turn_noisy_signal3_1,W_inverse)\n",
        "  turn_nn1_2,turn_nn2_2,turn_nn3_2=predict_output_BAM(turn_noisy_signal1_2,turn_noisy_signal2_2,turn_noisy_signal3_2,W_inverse)\n",
        "    \n",
        "  n_zeros=np.count_nonzero(abs(turn_nn1_1-X[0])==0)\n",
        "  res7.append(n_zeros/49)\n",
        "  n_zeros=np.count_nonzero(abs(turn_nn2_1-X[1])==0)\n",
        "  res8.append(n_zeros/49)\n",
        "  n_zeros=np.count_nonzero(abs(turn_nn3_1-X[2])==0)\n",
        "  res9.append(n_zeros/49)\n",
        "\n",
        "  n_zeros=np.count_nonzero(abs(turn_nn1_2-X[0])==0)\n",
        "  res10.append(n_zeros/49)\n",
        "  n_zeros=np.count_nonzero(abs(turn_nn2_2-X[1])==0)\n",
        "  res11.append(n_zeros/49)\n",
        "  n_zeros=np.count_nonzero(abs(turn_nn3_2-X[2])==0)\n",
        "  res12.append(n_zeros/49)\n",
        "\n",
        "\n",
        "\n",
        "    \n",
        "\n",
        "        \n",
        "go_correct_percentage_10noisy1=(sum(res1)*100)/len(res1)\n",
        "go_correct_percentage_20noisy1=(sum(res4)*100)/len(res4)\n",
        "\n",
        "go_correct_percentage_10noisy2=(sum(res2)*100)/len(res2)\n",
        "go_correct_percentage_20noisy2=(sum(res5)*100)/len(res5)\n",
        "\n",
        "go_correct_percentage_10noisy3=(sum(res3)*100)/len(res3)\n",
        "go_correct_percentage_20noisy3=(sum(res6)*100)/len(res6)\n",
        "\n",
        "\n",
        "turn_correct_percentage_10noisy1=(sum(res7)*100)/len(res7)\n",
        "turn_correct_percentage_20noisy1=(sum(res10)*100)/len(res10)\n",
        "\n",
        "turn_correct_percentage_10noisy2=(sum(res8)*100)/len(res8)\n",
        "turn_correct_percentage_20noisy2=(sum(res11)*100)/len(res11)\n",
        "\n",
        "turn_correct_percentage_10noisy3=(sum(res9)*100)/len(res9)\n",
        "turn_correct_percentage_20noisy3=(sum(res12)*100)/len(res12)\n",
        "\n"
      ],
      "metadata": {
        "id": "-77k_TKMRrAC"
      },
      "execution_count": 43,
      "outputs": []
    },
    {
      "cell_type": "code",
      "source": [
        "print(\"direct one : (go) \\n\")\n",
        "print(\"go_correct_percentage_10noisy1:\", go_correct_percentage_10noisy1 )\n",
        "print(\"go_correct_percentage_20noisy1:\", go_correct_percentage_20noisy1 )\n",
        "\n",
        "print(\"go_correct_percentage_10noisy2:\", go_correct_percentage_10noisy2 )\n",
        "print(\"go_correct_percentage_20noisy2:\", go_correct_percentage_20noisy2 )\n",
        "\n",
        "print(\"go_correct_percentage_10noisy3:\", go_correct_percentage_10noisy3)\n",
        "print(\"go_correct_percentage_20noisy3:\", go_correct_percentage_20noisy3)\n",
        "\n",
        "print(\"\\ndirect two : (turn) \\n\")\n",
        "\n",
        "print(\"turn_correct_percentage_10noisy1:\", turn_correct_percentage_10noisy1 )\n",
        "print(\"turn_correct_percentage_20noisy1:\", turn_correct_percentage_20noisy1 )\n",
        "\n",
        "print(\"turn_correct_percentage_10noisy2:\", turn_correct_percentage_10noisy2 )\n",
        "print(\"turn_correct_percentage_20noisy2:\", turn_correct_percentage_20noisy2 )\n",
        "\n",
        "print(\"turn_correct_percentage_10noisy3:\", turn_correct_percentage_10noisy3)\n",
        "print(\"turn_correct_percentage_20noisy3:\", turn_correct_percentage_20noisy3)"
      ],
      "metadata": {
        "colab": {
          "base_uri": "https://localhost:8080/"
        },
        "id": "anqHe7DMMund",
        "outputId": "e2f4010a-17c1-4686-e62b-5c83e8ece2b1"
      },
      "execution_count": 42,
      "outputs": [
        {
          "output_type": "stream",
          "name": "stdout",
          "text": [
            "direct one : (go) \n",
            "\n",
            "go_correct_percentage_10noisy1: 100.0\n",
            "go_correct_percentage_20noisy1: 98.96825396825396\n",
            "go_correct_percentage_10noisy2: 100.0\n",
            "go_correct_percentage_20noisy2: 99.68253968253968\n",
            "go_correct_percentage_10noisy3: 100.0\n",
            "go_correct_percentage_20noisy3: 99.42857142857143\n",
            "\n",
            "direct two : (turn) \n",
            "\n",
            "turn_correct_percentage_10noisy1: 100.0\n",
            "turn_correct_percentage_20noisy1: 99.02040816326529\n",
            "turn_correct_percentage_10noisy2: 100.0\n",
            "turn_correct_percentage_20noisy2: 99.10204081632654\n",
            "turn_correct_percentage_10noisy3: 100.0\n",
            "turn_correct_percentage_20noisy3: 99.83673469387755\n"
          ]
        }
      ]
    },
    {
      "cell_type": "code",
      "source": [
        "W_BAM_new=np.zeros((49,63))\n",
        "for i in range(4):\n",
        "    W_BAM_new=W_BAM_new+product(X[i],Y[i])"
      ],
      "metadata": {
        "id": "8YcQGS0KMup_"
      },
      "execution_count": 31,
      "outputs": []
    },
    {
      "cell_type": "code",
      "source": [
        "def predict_output_BAM_new(input_vector1,input_vector2,input_vector3,input_vector4,w):\n",
        "    res1=[]\n",
        "    res2=[]\n",
        "    res3=[]\n",
        "    res4=[]\n",
        "    for j in range(w.shape[1]):\n",
        "        res1.append(np.dot(input_vector1,w[:,j]))\n",
        "        res2.append(np.dot(input_vector2,w[:,j]))\n",
        "        res3.append(np.dot(input_vector3,w[:,j]))\n",
        "        res4.append(np.dot(input_vector4,w[:,j]))\n",
        "        nn1=activation_function(res1)\n",
        "        nn2=activation_function(res2)\n",
        "        nn3=activation_function(res3)\n",
        "        nn4=activation_function(res4)\n",
        "\n",
        "    return nn1,nn2,nn3,nn4"
      ],
      "metadata": {
        "id": "uHdIll8KazXi"
      },
      "execution_count": 32,
      "outputs": []
    },
    {
      "cell_type": "code",
      "source": [
        "predict1,predict2,predict3,predict4=predict_output_BAM_new(X[0],X[1],X[2],X[3],W_BAM_new)\n",
        "\n",
        "print(\"output1:\",predict1)\n",
        "print(\"real output:\",Y[0]-predict1)\n",
        "print(\"output2:\",predict2)\n",
        "print(\"real output:\",Y[1]-predict2)\n",
        "print(\"output3:\",predict3)\n",
        "print(\"real output:\",Y[2]-predict3)\n",
        "print(\"output4:\",predict4)\n",
        "print(\"real output:\",Y[3]-predict4)"
      ],
      "metadata": {
        "colab": {
          "base_uri": "https://localhost:8080/"
        },
        "id": "an0mfaR-Muse",
        "outputId": "840f0c79-f2cc-428f-8db5-3b8802c2be8a"
      },
      "execution_count": 35,
      "outputs": [
        {
          "output_type": "stream",
          "name": "stdout",
          "text": [
            "output1: [1, -1, 1, -1, -1, -1, -1, 1, 1, 1, -1, -1, 1, -1, 1, 1, -1, -1, 1, -1, 1, 1, 1, 1, -1, -1, 1, 1, 1, 1, -1, 1, -1, -1, 1, 1, 1, -1, -1, 1, -1, -1, 1, 1, -1, -1, 1, -1, 1, 1, 1, -1, 1, 1, 1, -1, 1, 1, 1, -1, 1, -1, -1]\n",
            "real output: [0 0 0 0 0 0 0 0 0 0 0 0 0 0 0 0 0 0 0 0 0 0 0 0 0 0 0 0 0 0 0 0 0 0 0 0 0\n",
            " 0 0 0 0 0 0 0 0 0 0 0 0 0 0 0 0 0 0 0 0 0 0 0 0 0 0]\n",
            "output2: [1, -1, -1, -1, 1, 1, -1, 1, 1, -1, 1, -1, -1, 1, 1, 1, 1, -1, -1, 1, -1, 1, 1, 1, -1, -1, 1, 1, 1, 1, 1, -1, 1, -1, -1, 1, -1, -1, 1, 1, -1, -1, 1, 1, -1, -1, -1, -1, 1, 1, 1, -1, -1, 1, -1, -1, 1, 1, 1, 1, -1, -1, 1]\n",
            "real output: [0 0 0 0 0 0 0 0 0 0 0 0 0 0 0 0 0 0 0 0 0 0 0 0 0 0 0 0 0 0 0 0 0 0 0 0 0\n",
            " 0 0 0 0 0 0 0 0 0 0 0 0 0 0 0 0 0 0 0 0 0 0 0 0 0 0]\n",
            "output3: [1, -1, -1, -1, 1, 1, 1, 1, 1, -1, -1, 1, -1, 1, 1, 1, -1, 1, 1, 1, -1, 1, 1, 1, -1, 1, -1, -1, 1, 1, -1, 1, 1, -1, -1, 1, 1, -1, -1, 1, -1, 1, 1, 1, -1, 1, 1, -1, 1, 1, 1, -1, -1, -1, -1, 1, 1, 1, -1, 1, 1, 1, -1]\n",
            "real output: [0 0 0 0 0 0 0 0 0 0 0 0 0 0 0 0 0 0 0 0 0 0 0 0 0 0 0 0 0 0 0 0 0 0 0 0 0\n",
            " 0 0 0 0 0 0 0 0 0 0 0 0 0 0 0 0 0 0 0 0 0 0 0 0 0 0]\n",
            "output4: [1, -1, 1, -1, -1, 1, 1, 1, 1, 1, -1, 1, 1, 1, 1, 1, -1, -1, 1, -1, 1, 1, 1, -1, -1, 1, -1, 1, 1, 1, 1, -1, 1, -1, -1, 1, -1, -1, -1, 1, 1, 1, 1, 1, -1, 1, -1, -1, 1, 1, 1, 1, -1, -1, 1, -1, 1, 1, -1, 1, 1, -1, -1]\n",
            "real output: [0 0 0 0 0 0 0 0 0 0 0 0 0 0 0 0 0 0 0 0 0 0 0 0 0 0 0 0 0 0 0 0 0 0 0 0 0\n",
            " 0 0 0 0 0 0 0 0 0 0 0 0 0 0 0 0 0 0 0 0 0 0 0 0 0 0]\n"
          ]
        }
      ]
    },
    {
      "cell_type": "code",
      "source": [
        "W_inverse_new=W_BAM_new.T\n",
        "predict1,predict2,predict3,predict4=predict_output_BAM_new(Y[0],Y[1],Y[2],Y[3],W_inverse_new)\n",
        "\n",
        "print(\"output1:\",predict1)\n",
        "print(\"real output:\",X[0]-predict1)\n",
        "print(\"output2:\",predict2)\n",
        "print(\"real output:\",X[1]-predict2)\n",
        "print(\"output3:\",predict3)\n",
        "print(\"real output:\",X[2]-predict3)\n",
        "print(\"output4:\",predict4)\n",
        "print(\"real output:\",X[3]-predict4)"
      ],
      "metadata": {
        "colab": {
          "base_uri": "https://localhost:8080/"
        },
        "id": "EIpC3P4YMuvn",
        "outputId": "d62118e4-57fb-4097-85a6-6966fb713b79"
      },
      "execution_count": 37,
      "outputs": [
        {
          "output_type": "stream",
          "name": "stdout",
          "text": [
            "output1: [1, -1, -1, -1, -1, 1, 1, 1, 1, -1, 1, 1, -1, -1, 1, 1, -1, 1, -1, -1, 1, 1, 1, -1, 1, 1, 1, -1, 1, 1, 1, -1, 1, -1, -1, 1, 1, -1, 1, 1, 1, 1, 1, 1, -1, 1, 1, 1, -1]\n",
            "real output: [0 0 0 0 0 0 0 0 0 0 0 0 0 0 0 0 0 0 0 0 0 0 0 0 0 0 0 0 0 0 0 0 0 0 0 0 0\n",
            " 0 0 0 0 0 0 0 0 0 0 0 0]\n",
            "output2: [1, -1, -1, 1, -1, -1, -1, 1, 1, -1, 1, -1, -1, 1, 1, 1, -1, 1, 1, -1, -1, 1, 1, -1, 1, 1, -1, -1, 1, 1, -1, -1, -1, -1, 1, 1, 1, 1, -1, -1, 1, -1, 1, 1, 1, 1, -1, -1, 1]\n",
            "real output: [0 0 0 0 0 0 0 0 0 0 0 0 0 0 0 0 0 0 0 0 0 0 0 0 0 0 0 0 0 0 0 0 0 0 0 0 0\n",
            " 0 0 0 0 0 0 0 0 0 0 0 0]\n",
            "output3: [1, -1, -1, 1, -1, 1, 1, 1, 1, -1, -1, 1, -1, 1, 1, 1, -1, 1, 1, 1, -1, 1, 1, 1, -1, -1, 1, 1, 1, 1, 1, -1, 1, -1, -1, 1, 1, -1, -1, -1, -1, 1, 1, 1, 1, -1, -1, 1, -1]\n",
            "real output: [0 0 0 0 0 0 0 0 0 0 0 0 0 0 0 0 0 0 0 0 0 0 0 0 0 0 0 0 0 0 0 0 0 0 0 0 0\n",
            " 0 0 0 0 0 0 0 0 0 0 0 0]\n",
            "output4: [1, -1, -1, 1, -1, -1, -1, 1, 1, -1, -1, 1, -1, 1, 1, 1, -1, -1, 1, 1, 1, 1, 1, -1, 1, -1, -1, 1, 1, 1, 1, -1, -1, -1, 1, 1, 1, -1, 1, -1, 1, 1, 1, 1, 1, 1, -1, -1, 1]\n",
            "real output: [0 0 0 0 2 0 0 0 0 0 0 0 0 0 0 0 2 0 0 0 0 0 0 0 0 0 0 0 0 0 0 0 0 2 0 0 0\n",
            " 0 0 0 0 0 0 0 0 0 0 0 0]\n"
          ]
        }
      ]
    },
    {
      "cell_type": "code",
      "source": [
        ""
      ],
      "metadata": {
        "id": "-CBu4jV9MuyV"
      },
      "execution_count": null,
      "outputs": []
    },
    {
      "cell_type": "code",
      "source": [
        ""
      ],
      "metadata": {
        "id": "D3QIcD8-RrDA"
      },
      "execution_count": null,
      "outputs": []
    }
  ]
}